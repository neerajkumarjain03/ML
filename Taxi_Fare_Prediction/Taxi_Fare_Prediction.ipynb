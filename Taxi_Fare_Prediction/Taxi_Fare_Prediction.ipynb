{
 "cells": [
  {
   "cell_type": "code",
   "execution_count": 79,
   "id": "f0975506",
   "metadata": {},
   "outputs": [],
   "source": [
    "import numpy as np\n",
    "import pandas as pd\n",
    "import matplotlib.pyplot as plt\n",
    "import seaborn as sns"
   ]
  },
  {
   "cell_type": "code",
   "execution_count": 80,
   "id": "4b86d7ba",
   "metadata": {},
   "outputs": [
    {
     "data": {
      "text/html": [
       "<div>\n",
       "<style scoped>\n",
       "    .dataframe tbody tr th:only-of-type {\n",
       "        vertical-align: middle;\n",
       "    }\n",
       "\n",
       "    .dataframe tbody tr th {\n",
       "        vertical-align: top;\n",
       "    }\n",
       "\n",
       "    .dataframe thead th {\n",
       "        text-align: right;\n",
       "    }\n",
       "</style>\n",
       "<table border=\"1\" class=\"dataframe\">\n",
       "  <thead>\n",
       "    <tr style=\"text-align: right;\">\n",
       "      <th></th>\n",
       "      <th>trip_duration</th>\n",
       "      <th>distance_traveled</th>\n",
       "      <th>num_of_passengers</th>\n",
       "      <th>fare</th>\n",
       "      <th>tip</th>\n",
       "      <th>miscellaneous_fees</th>\n",
       "      <th>total_fare</th>\n",
       "      <th>surge_applied</th>\n",
       "    </tr>\n",
       "  </thead>\n",
       "  <tbody>\n",
       "    <tr>\n",
       "      <th>0</th>\n",
       "      <td>748.0</td>\n",
       "      <td>2.75</td>\n",
       "      <td>1.0</td>\n",
       "      <td>75.00</td>\n",
       "      <td>24</td>\n",
       "      <td>6.300</td>\n",
       "      <td>105.300</td>\n",
       "      <td>0</td>\n",
       "    </tr>\n",
       "    <tr>\n",
       "      <th>1</th>\n",
       "      <td>1187.0</td>\n",
       "      <td>3.43</td>\n",
       "      <td>1.0</td>\n",
       "      <td>105.00</td>\n",
       "      <td>24</td>\n",
       "      <td>13.200</td>\n",
       "      <td>142.200</td>\n",
       "      <td>0</td>\n",
       "    </tr>\n",
       "    <tr>\n",
       "      <th>2</th>\n",
       "      <td>730.0</td>\n",
       "      <td>3.12</td>\n",
       "      <td>1.0</td>\n",
       "      <td>71.25</td>\n",
       "      <td>0</td>\n",
       "      <td>26.625</td>\n",
       "      <td>97.875</td>\n",
       "      <td>1</td>\n",
       "    </tr>\n",
       "    <tr>\n",
       "      <th>3</th>\n",
       "      <td>671.0</td>\n",
       "      <td>5.63</td>\n",
       "      <td>3.0</td>\n",
       "      <td>90.00</td>\n",
       "      <td>0</td>\n",
       "      <td>9.750</td>\n",
       "      <td>99.750</td>\n",
       "      <td>0</td>\n",
       "    </tr>\n",
       "    <tr>\n",
       "      <th>4</th>\n",
       "      <td>329.0</td>\n",
       "      <td>2.09</td>\n",
       "      <td>1.0</td>\n",
       "      <td>45.00</td>\n",
       "      <td>12</td>\n",
       "      <td>13.200</td>\n",
       "      <td>70.200</td>\n",
       "      <td>0</td>\n",
       "    </tr>\n",
       "  </tbody>\n",
       "</table>\n",
       "</div>"
      ],
      "text/plain": [
       "   trip_duration  distance_traveled  num_of_passengers    fare  tip  \\\n",
       "0          748.0               2.75                1.0   75.00   24   \n",
       "1         1187.0               3.43                1.0  105.00   24   \n",
       "2          730.0               3.12                1.0   71.25    0   \n",
       "3          671.0               5.63                3.0   90.00    0   \n",
       "4          329.0               2.09                1.0   45.00   12   \n",
       "\n",
       "   miscellaneous_fees  total_fare  surge_applied  \n",
       "0               6.300     105.300              0  \n",
       "1              13.200     142.200              0  \n",
       "2              26.625      97.875              1  \n",
       "3               9.750      99.750              0  \n",
       "4              13.200      70.200              0  "
      ]
     },
     "execution_count": 80,
     "metadata": {},
     "output_type": "execute_result"
    }
   ],
   "source": [
    "df = pd.read_csv(\"train.csv\")\n",
    "df.head()"
   ]
  },
  {
   "cell_type": "code",
   "execution_count": 81,
   "id": "7f87887b",
   "metadata": {},
   "outputs": [
    {
     "data": {
      "text/plain": [
       "(209673, 8)"
      ]
     },
     "execution_count": 81,
     "metadata": {},
     "output_type": "execute_result"
    }
   ],
   "source": [
    "df.shape"
   ]
  },
  {
   "cell_type": "code",
   "execution_count": 82,
   "id": "2fc654b6",
   "metadata": {},
   "outputs": [
    {
     "data": {
      "text/html": [
       "<div>\n",
       "<style scoped>\n",
       "    .dataframe tbody tr th:only-of-type {\n",
       "        vertical-align: middle;\n",
       "    }\n",
       "\n",
       "    .dataframe tbody tr th {\n",
       "        vertical-align: top;\n",
       "    }\n",
       "\n",
       "    .dataframe thead th {\n",
       "        text-align: right;\n",
       "    }\n",
       "</style>\n",
       "<table border=\"1\" class=\"dataframe\">\n",
       "  <thead>\n",
       "    <tr style=\"text-align: right;\">\n",
       "      <th></th>\n",
       "      <th>trip_duration</th>\n",
       "      <th>distance_traveled</th>\n",
       "      <th>num_of_passengers</th>\n",
       "      <th>fare</th>\n",
       "      <th>tip</th>\n",
       "      <th>miscellaneous_fees</th>\n",
       "      <th>total_fare</th>\n",
       "      <th>surge_applied</th>\n",
       "    </tr>\n",
       "  </thead>\n",
       "  <tbody>\n",
       "    <tr>\n",
       "      <th>0</th>\n",
       "      <td>1076.0</td>\n",
       "      <td>4.18</td>\n",
       "      <td>1.0</td>\n",
       "      <td>0</td>\n",
       "      <td>0</td>\n",
       "      <td>13.500</td>\n",
       "      <td>0</td>\n",
       "      <td>0</td>\n",
       "    </tr>\n",
       "    <tr>\n",
       "      <th>1</th>\n",
       "      <td>429.0</td>\n",
       "      <td>1.48</td>\n",
       "      <td>4.0</td>\n",
       "      <td>0</td>\n",
       "      <td>0</td>\n",
       "      <td>13.500</td>\n",
       "      <td>0</td>\n",
       "      <td>0</td>\n",
       "    </tr>\n",
       "    <tr>\n",
       "      <th>2</th>\n",
       "      <td>856.0</td>\n",
       "      <td>4.15</td>\n",
       "      <td>1.0</td>\n",
       "      <td>0</td>\n",
       "      <td>24</td>\n",
       "      <td>6.000</td>\n",
       "      <td>0</td>\n",
       "      <td>0</td>\n",
       "    </tr>\n",
       "    <tr>\n",
       "      <th>3</th>\n",
       "      <td>622.0</td>\n",
       "      <td>3.22</td>\n",
       "      <td>1.0</td>\n",
       "      <td>0</td>\n",
       "      <td>15</td>\n",
       "      <td>5.625</td>\n",
       "      <td>0</td>\n",
       "      <td>0</td>\n",
       "    </tr>\n",
       "    <tr>\n",
       "      <th>4</th>\n",
       "      <td>507.0</td>\n",
       "      <td>3.98</td>\n",
       "      <td>1.0</td>\n",
       "      <td>0</td>\n",
       "      <td>0</td>\n",
       "      <td>2.250</td>\n",
       "      <td>0</td>\n",
       "      <td>0</td>\n",
       "    </tr>\n",
       "  </tbody>\n",
       "</table>\n",
       "</div>"
      ],
      "text/plain": [
       "   trip_duration  distance_traveled  num_of_passengers  fare  tip  \\\n",
       "0         1076.0               4.18                1.0     0    0   \n",
       "1          429.0               1.48                4.0     0    0   \n",
       "2          856.0               4.15                1.0     0   24   \n",
       "3          622.0               3.22                1.0     0   15   \n",
       "4          507.0               3.98                1.0     0    0   \n",
       "\n",
       "   miscellaneous_fees  total_fare  surge_applied  \n",
       "0              13.500           0              0  \n",
       "1              13.500           0              0  \n",
       "2               6.000           0              0  \n",
       "3               5.625           0              0  \n",
       "4               2.250           0              0  "
      ]
     },
     "execution_count": 82,
     "metadata": {},
     "output_type": "execute_result"
    }
   ],
   "source": [
    "df1 = pd.read_csv(\"test.csv\")\n",
    "df1.head()"
   ]
  },
  {
   "cell_type": "code",
   "execution_count": 83,
   "id": "7961a525",
   "metadata": {},
   "outputs": [
    {
     "data": {
      "text/plain": [
       "(89861, 8)"
      ]
     },
     "execution_count": 83,
     "metadata": {},
     "output_type": "execute_result"
    }
   ],
   "source": [
    "df1.shape"
   ]
  },
  {
   "cell_type": "code",
   "execution_count": 84,
   "id": "0efa6b7b",
   "metadata": {},
   "outputs": [
    {
     "name": "stderr",
     "output_type": "stream",
     "text": [
      "/tmp/ipykernel_8374/3484240491.py:1: UserWarning: You are merging on int and float columns where the float values are not equal to their int representation.\n",
      "  df = df.merge(df1,how='outer')\n"
     ]
    }
   ],
   "source": [
    "df = df.merge(df1,how='outer')"
   ]
  },
  {
   "cell_type": "code",
   "execution_count": 85,
   "id": "43de4d1c",
   "metadata": {},
   "outputs": [
    {
     "name": "stdout",
     "output_type": "stream",
     "text": [
      "<class 'pandas.core.frame.DataFrame'>\n",
      "Int64Index: 299534 entries, 0 to 299533\n",
      "Data columns (total 8 columns):\n",
      " #   Column              Non-Null Count   Dtype  \n",
      "---  ------              --------------   -----  \n",
      " 0   trip_duration       299534 non-null  float64\n",
      " 1   distance_traveled   299534 non-null  float64\n",
      " 2   num_of_passengers   299534 non-null  float64\n",
      " 3   fare                299534 non-null  float64\n",
      " 4   tip                 299534 non-null  int64  \n",
      " 5   miscellaneous_fees  299534 non-null  float64\n",
      " 6   total_fare          299534 non-null  float64\n",
      " 7   surge_applied       299534 non-null  int64  \n",
      "dtypes: float64(6), int64(2)\n",
      "memory usage: 20.6 MB\n"
     ]
    }
   ],
   "source": [
    "df.info()"
   ]
  },
  {
   "cell_type": "code",
   "execution_count": 86,
   "id": "60ffb895",
   "metadata": {},
   "outputs": [
    {
     "data": {
      "text/plain": [
       "(299534, 8)"
      ]
     },
     "execution_count": 86,
     "metadata": {},
     "output_type": "execute_result"
    }
   ],
   "source": [
    "df.shape"
   ]
  },
  {
   "cell_type": "code",
   "execution_count": 87,
   "id": "03780e59",
   "metadata": {},
   "outputs": [],
   "source": [
    "# Dropping Duplicate ROWs"
   ]
  },
  {
   "cell_type": "code",
   "execution_count": 88,
   "id": "5c294d57",
   "metadata": {},
   "outputs": [],
   "source": [
    "df = df.drop_duplicates()"
   ]
  },
  {
   "cell_type": "code",
   "execution_count": 89,
   "id": "b7211591",
   "metadata": {},
   "outputs": [
    {
     "name": "stdout",
     "output_type": "stream",
     "text": [
      "<class 'pandas.core.frame.DataFrame'>\n",
      "Int64Index: 293978 entries, 0 to 299533\n",
      "Data columns (total 8 columns):\n",
      " #   Column              Non-Null Count   Dtype  \n",
      "---  ------              --------------   -----  \n",
      " 0   trip_duration       293978 non-null  float64\n",
      " 1   distance_traveled   293978 non-null  float64\n",
      " 2   num_of_passengers   293978 non-null  float64\n",
      " 3   fare                293978 non-null  float64\n",
      " 4   tip                 293978 non-null  int64  \n",
      " 5   miscellaneous_fees  293978 non-null  float64\n",
      " 6   total_fare          293978 non-null  float64\n",
      " 7   surge_applied       293978 non-null  int64  \n",
      "dtypes: float64(6), int64(2)\n",
      "memory usage: 20.2 MB\n"
     ]
    }
   ],
   "source": [
    "df.info()"
   ]
  },
  {
   "cell_type": "code",
   "execution_count": 90,
   "id": "9269a5fe",
   "metadata": {},
   "outputs": [
    {
     "data": {
      "text/plain": [
       "trip_duration         0\n",
       "distance_traveled     0\n",
       "num_of_passengers     0\n",
       "fare                  0\n",
       "tip                   0\n",
       "miscellaneous_fees    0\n",
       "total_fare            0\n",
       "surge_applied         0\n",
       "dtype: int64"
      ]
     },
     "execution_count": 90,
     "metadata": {},
     "output_type": "execute_result"
    }
   ],
   "source": [
    "df.isna().sum()"
   ]
  },
  {
   "cell_type": "code",
   "execution_count": 91,
   "id": "1ee07ece",
   "metadata": {},
   "outputs": [
    {
     "data": {
      "text/html": [
       "<div>\n",
       "<style scoped>\n",
       "    .dataframe tbody tr th:only-of-type {\n",
       "        vertical-align: middle;\n",
       "    }\n",
       "\n",
       "    .dataframe tbody tr th {\n",
       "        vertical-align: top;\n",
       "    }\n",
       "\n",
       "    .dataframe thead th {\n",
       "        text-align: right;\n",
       "    }\n",
       "</style>\n",
       "<table border=\"1\" class=\"dataframe\">\n",
       "  <thead>\n",
       "    <tr style=\"text-align: right;\">\n",
       "      <th></th>\n",
       "      <th>trip_duration</th>\n",
       "      <th>distance_traveled</th>\n",
       "      <th>num_of_passengers</th>\n",
       "      <th>fare</th>\n",
       "      <th>tip</th>\n",
       "      <th>miscellaneous_fees</th>\n",
       "      <th>total_fare</th>\n",
       "      <th>surge_applied</th>\n",
       "    </tr>\n",
       "  </thead>\n",
       "  <tbody>\n",
       "    <tr>\n",
       "      <th>count</th>\n",
       "      <td>293978.000000</td>\n",
       "      <td>293978.000000</td>\n",
       "      <td>293978.000000</td>\n",
       "      <td>293978.000000</td>\n",
       "      <td>293978.000000</td>\n",
       "      <td>293978.000000</td>\n",
       "      <td>293978.000000</td>\n",
       "      <td>293978.000000</td>\n",
       "    </tr>\n",
       "    <tr>\n",
       "      <th>mean</th>\n",
       "      <td>1179.906854</td>\n",
       "      <td>5.791619</td>\n",
       "      <td>1.296131</td>\n",
       "      <td>70.310108</td>\n",
       "      <td>13.230541</td>\n",
       "      <td>15.296474</td>\n",
       "      <td>90.247080</td>\n",
       "      <td>0.285858</td>\n",
       "    </tr>\n",
       "    <tr>\n",
       "      <th>std</th>\n",
       "      <td>4770.218212</td>\n",
       "      <td>324.539913</td>\n",
       "      <td>0.935360</td>\n",
       "      <td>85.539824</td>\n",
       "      <td>19.998455</td>\n",
       "      <td>12.652303</td>\n",
       "      <td>101.983671</td>\n",
       "      <td>0.451823</td>\n",
       "    </tr>\n",
       "    <tr>\n",
       "      <th>min</th>\n",
       "      <td>0.000000</td>\n",
       "      <td>0.020000</td>\n",
       "      <td>0.000000</td>\n",
       "      <td>0.000000</td>\n",
       "      <td>0.000000</td>\n",
       "      <td>-0.500000</td>\n",
       "      <td>0.000000</td>\n",
       "      <td>0.000000</td>\n",
       "    </tr>\n",
       "    <tr>\n",
       "      <th>25%</th>\n",
       "      <td>453.000000</td>\n",
       "      <td>1.980000</td>\n",
       "      <td>1.000000</td>\n",
       "      <td>0.000000</td>\n",
       "      <td>0.000000</td>\n",
       "      <td>6.000000</td>\n",
       "      <td>0.000000</td>\n",
       "      <td>0.000000</td>\n",
       "    </tr>\n",
       "    <tr>\n",
       "      <th>50%</th>\n",
       "      <td>715.000000</td>\n",
       "      <td>3.230000</td>\n",
       "      <td>1.000000</td>\n",
       "      <td>56.250000</td>\n",
       "      <td>9.000000</td>\n",
       "      <td>9.750000</td>\n",
       "      <td>75.637500</td>\n",
       "      <td>0.000000</td>\n",
       "    </tr>\n",
       "    <tr>\n",
       "      <th>75%</th>\n",
       "      <td>1107.000000</td>\n",
       "      <td>5.790000</td>\n",
       "      <td>1.000000</td>\n",
       "      <td>97.500000</td>\n",
       "      <td>20.000000</td>\n",
       "      <td>26.525000</td>\n",
       "      <td>127.875000</td>\n",
       "      <td>1.000000</td>\n",
       "    </tr>\n",
       "    <tr>\n",
       "      <th>max</th>\n",
       "      <td>86395.000000</td>\n",
       "      <td>145517.600000</td>\n",
       "      <td>9.000000</td>\n",
       "      <td>4466.250000</td>\n",
       "      <td>2500.000000</td>\n",
       "      <td>435.000000</td>\n",
       "      <td>4472.250000</td>\n",
       "      <td>1.000000</td>\n",
       "    </tr>\n",
       "  </tbody>\n",
       "</table>\n",
       "</div>"
      ],
      "text/plain": [
       "       trip_duration  distance_traveled  num_of_passengers           fare  \\\n",
       "count  293978.000000      293978.000000      293978.000000  293978.000000   \n",
       "mean     1179.906854           5.791619           1.296131      70.310108   \n",
       "std      4770.218212         324.539913           0.935360      85.539824   \n",
       "min         0.000000           0.020000           0.000000       0.000000   \n",
       "25%       453.000000           1.980000           1.000000       0.000000   \n",
       "50%       715.000000           3.230000           1.000000      56.250000   \n",
       "75%      1107.000000           5.790000           1.000000      97.500000   \n",
       "max     86395.000000      145517.600000           9.000000    4466.250000   \n",
       "\n",
       "                 tip  miscellaneous_fees     total_fare  surge_applied  \n",
       "count  293978.000000       293978.000000  293978.000000  293978.000000  \n",
       "mean       13.230541           15.296474      90.247080       0.285858  \n",
       "std        19.998455           12.652303     101.983671       0.451823  \n",
       "min         0.000000           -0.500000       0.000000       0.000000  \n",
       "25%         0.000000            6.000000       0.000000       0.000000  \n",
       "50%         9.000000            9.750000      75.637500       0.000000  \n",
       "75%        20.000000           26.525000     127.875000       1.000000  \n",
       "max      2500.000000          435.000000    4472.250000       1.000000  "
      ]
     },
     "execution_count": 91,
     "metadata": {},
     "output_type": "execute_result"
    }
   ],
   "source": [
    "df.describe()"
   ]
  },
  {
   "cell_type": "code",
   "execution_count": 92,
   "id": "c73ac497",
   "metadata": {},
   "outputs": [],
   "source": [
    "df['trip_duration'] = df['trip_duration'].div(60)"
   ]
  },
  {
   "cell_type": "markdown",
   "id": "bf27de3d",
   "metadata": {},
   "source": []
  },
  {
   "cell_type": "code",
   "execution_count": 93,
   "id": "00bc2425",
   "metadata": {},
   "outputs": [],
   "source": [
    "# From above table we have clearly see that max value for most of the attributes varies very highly from mean and median means there are very high chances of outlier existance"
   ]
  },
  {
   "cell_type": "code",
   "execution_count": 94,
   "id": "95d3af68",
   "metadata": {},
   "outputs": [
    {
     "data": {
      "image/png": "[encoded data removed]",
      "text/plain": [
       "<Figure size 640x480 with 1 Axes>"
      ]
     },
     "metadata": {},
     "output_type": "display_data"
    }
   ],
   "source": [
    "sns.boxplot(x=df['trip_duration'])\n",
    "plt.show()"
   ]
  },
  {
   "cell_type": "code",
   "execution_count": 95,
   "id": "cd9f85d5",
   "metadata": {},
   "outputs": [
    {
     "data": {
      "text/plain": [
       "trip_duration         7.55\n",
       "distance_traveled     1.98\n",
       "num_of_passengers     1.00\n",
       "fare                  0.00\n",
       "tip                   0.00\n",
       "miscellaneous_fees    6.00\n",
       "total_fare            0.00\n",
       "surge_applied         0.00\n",
       "Name: 0.25, dtype: float64"
      ]
     },
     "execution_count": 95,
     "metadata": {},
     "output_type": "execute_result"
    }
   ],
   "source": [
    "q1 = df.quantile(.25)\n",
    "q1"
   ]
  },
  {
   "cell_type": "code",
   "execution_count": 96,
   "id": "02b337b7",
   "metadata": {},
   "outputs": [
    {
     "data": {
      "text/plain": [
       "trip_duration          18.450\n",
       "distance_traveled       5.790\n",
       "num_of_passengers       1.000\n",
       "fare                   97.500\n",
       "tip                    20.000\n",
       "miscellaneous_fees     26.525\n",
       "total_fare            127.875\n",
       "surge_applied           1.000\n",
       "Name: 0.75, dtype: float64"
      ]
     },
     "execution_count": 96,
     "metadata": {},
     "output_type": "execute_result"
    }
   ],
   "source": [
    "q3 = df.quantile(.75)\n",
    "q3"
   ]
  },
  {
   "cell_type": "code",
   "execution_count": 97,
   "id": "517ce654",
   "metadata": {},
   "outputs": [
    {
     "data": {
      "text/plain": [
       "trip_duration          10.900\n",
       "distance_traveled       3.810\n",
       "num_of_passengers       0.000\n",
       "fare                   97.500\n",
       "tip                    20.000\n",
       "miscellaneous_fees     20.525\n",
       "total_fare            127.875\n",
       "surge_applied           1.000\n",
       "dtype: float64"
      ]
     },
     "execution_count": 97,
     "metadata": {},
     "output_type": "execute_result"
    }
   ],
   "source": [
    "iqr = (q3 - q1)\n",
    "iqr"
   ]
  },
  {
   "cell_type": "code",
   "execution_count": 98,
   "id": "87c73dc1",
   "metadata": {},
   "outputs": [
    {
     "data": {
      "text/plain": [
       "trip_duration          34.8000\n",
       "distance_traveled      11.5050\n",
       "num_of_passengers       1.0000\n",
       "fare                  243.7500\n",
       "tip                    50.0000\n",
       "miscellaneous_fees     57.3125\n",
       "total_fare            319.6875\n",
       "surge_applied           2.5000\n",
       "dtype: float64"
      ]
     },
     "execution_count": 98,
     "metadata": {},
     "output_type": "execute_result"
    }
   ],
   "source": [
    "upper_whisker = q3 + 1.5*iqr\n",
    "upper_whisker"
   ]
  },
  {
   "cell_type": "code",
   "execution_count": 99,
   "id": "7245a570",
   "metadata": {},
   "outputs": [],
   "source": [
    "## Counting the number of values greater than upper whisker"
   ]
  },
  {
   "cell_type": "code",
   "execution_count": 100,
   "id": "04051555",
   "metadata": {},
   "outputs": [
    {
     "data": {
      "text/plain": [
       "16617"
      ]
     },
     "execution_count": 100,
     "metadata": {},
     "output_type": "execute_result"
    }
   ],
   "source": [
    "df['trip_duration'][df['trip_duration']>upper_whisker[0]].count()"
   ]
  },
  {
   "cell_type": "code",
   "execution_count": 101,
   "id": "40338897",
   "metadata": {},
   "outputs": [
    {
     "data": {
      "text/plain": [
       "10        1405.083333\n",
       "17          67.650000\n",
       "37         188.716667\n",
       "38          62.033333\n",
       "45          57.300000\n",
       "             ...     \n",
       "299458      41.100000\n",
       "299468      39.750000\n",
       "299472      36.666667\n",
       "299497      42.616667\n",
       "299524      49.100000\n",
       "Name: trip_duration, Length: 16617, dtype: float64"
      ]
     },
     "execution_count": 101,
     "metadata": {},
     "output_type": "execute_result"
    }
   ],
   "source": [
    "df['trip_duration'][df['trip_duration']>upper_whisker[0]]"
   ]
  },
  {
   "cell_type": "code",
   "execution_count": 102,
   "id": "b43927c1",
   "metadata": {},
   "outputs": [
    {
     "data": {
      "text/html": [
       "<div>\n",
       "<style scoped>\n",
       "    .dataframe tbody tr th:only-of-type {\n",
       "        vertical-align: middle;\n",
       "    }\n",
       "\n",
       "    .dataframe tbody tr th {\n",
       "        vertical-align: top;\n",
       "    }\n",
       "\n",
       "    .dataframe thead th {\n",
       "        text-align: right;\n",
       "    }\n",
       "</style>\n",
       "<table border=\"1\" class=\"dataframe\">\n",
       "  <thead>\n",
       "    <tr style=\"text-align: right;\">\n",
       "      <th></th>\n",
       "      <th>trip_duration</th>\n",
       "      <th>distance_traveled</th>\n",
       "      <th>num_of_passengers</th>\n",
       "      <th>fare</th>\n",
       "      <th>tip</th>\n",
       "      <th>miscellaneous_fees</th>\n",
       "      <th>total_fare</th>\n",
       "      <th>surge_applied</th>\n",
       "    </tr>\n",
       "  </thead>\n",
       "  <tbody>\n",
       "    <tr>\n",
       "      <th>10</th>\n",
       "      <td>1405.083333</td>\n",
       "      <td>4.94</td>\n",
       "      <td>2.0</td>\n",
       "      <td>116.25</td>\n",
       "      <td>29</td>\n",
       "      <td>26.200</td>\n",
       "      <td>171.450</td>\n",
       "      <td>1</td>\n",
       "    </tr>\n",
       "    <tr>\n",
       "      <th>17</th>\n",
       "      <td>67.650000</td>\n",
       "      <td>30.00</td>\n",
       "      <td>1.0</td>\n",
       "      <td>390.00</td>\n",
       "      <td>0</td>\n",
       "      <td>55.125</td>\n",
       "      <td>445.125</td>\n",
       "      <td>0</td>\n",
       "    </tr>\n",
       "    <tr>\n",
       "      <th>37</th>\n",
       "      <td>188.716667</td>\n",
       "      <td>0.14</td>\n",
       "      <td>1.0</td>\n",
       "      <td>337.50</td>\n",
       "      <td>68</td>\n",
       "      <td>2.200</td>\n",
       "      <td>407.700</td>\n",
       "      <td>0</td>\n",
       "    </tr>\n",
       "    <tr>\n",
       "      <th>38</th>\n",
       "      <td>62.033333</td>\n",
       "      <td>19.17</td>\n",
       "      <td>1.0</td>\n",
       "      <td>322.50</td>\n",
       "      <td>89</td>\n",
       "      <td>34.300</td>\n",
       "      <td>445.800</td>\n",
       "      <td>1</td>\n",
       "    </tr>\n",
       "    <tr>\n",
       "      <th>45</th>\n",
       "      <td>57.300000</td>\n",
       "      <td>27.54</td>\n",
       "      <td>1.0</td>\n",
       "      <td>408.75</td>\n",
       "      <td>4</td>\n",
       "      <td>75.650</td>\n",
       "      <td>488.400</td>\n",
       "      <td>1</td>\n",
       "    </tr>\n",
       "    <tr>\n",
       "      <th>...</th>\n",
       "      <td>...</td>\n",
       "      <td>...</td>\n",
       "      <td>...</td>\n",
       "      <td>...</td>\n",
       "      <td>...</td>\n",
       "      <td>...</td>\n",
       "      <td>...</td>\n",
       "      <td>...</td>\n",
       "    </tr>\n",
       "    <tr>\n",
       "      <th>299458</th>\n",
       "      <td>41.100000</td>\n",
       "      <td>6.90</td>\n",
       "      <td>1.0</td>\n",
       "      <td>0.00</td>\n",
       "      <td>0</td>\n",
       "      <td>26.625</td>\n",
       "      <td>0.000</td>\n",
       "      <td>1</td>\n",
       "    </tr>\n",
       "    <tr>\n",
       "      <th>299468</th>\n",
       "      <td>39.750000</td>\n",
       "      <td>9.30</td>\n",
       "      <td>1.0</td>\n",
       "      <td>0.00</td>\n",
       "      <td>0</td>\n",
       "      <td>6.000</td>\n",
       "      <td>0.000</td>\n",
       "      <td>0</td>\n",
       "    </tr>\n",
       "    <tr>\n",
       "      <th>299472</th>\n",
       "      <td>36.666667</td>\n",
       "      <td>16.82</td>\n",
       "      <td>1.0</td>\n",
       "      <td>0.00</td>\n",
       "      <td>59</td>\n",
       "      <td>30.700</td>\n",
       "      <td>0.000</td>\n",
       "      <td>1</td>\n",
       "    </tr>\n",
       "    <tr>\n",
       "      <th>299497</th>\n",
       "      <td>42.616667</td>\n",
       "      <td>8.47</td>\n",
       "      <td>1.0</td>\n",
       "      <td>0.00</td>\n",
       "      <td>0</td>\n",
       "      <td>6.000</td>\n",
       "      <td>0.000</td>\n",
       "      <td>0</td>\n",
       "    </tr>\n",
       "    <tr>\n",
       "      <th>299524</th>\n",
       "      <td>49.100000</td>\n",
       "      <td>25.40</td>\n",
       "      <td>2.0</td>\n",
       "      <td>0.00</td>\n",
       "      <td>0</td>\n",
       "      <td>9.750</td>\n",
       "      <td>0.000</td>\n",
       "      <td>0</td>\n",
       "    </tr>\n",
       "  </tbody>\n",
       "</table>\n",
       "<p>16617 rows × 8 columns</p>\n",
       "</div>"
      ],
      "text/plain": [
       "        trip_duration  distance_traveled  num_of_passengers    fare  tip  \\\n",
       "10        1405.083333               4.94                2.0  116.25   29   \n",
       "17          67.650000              30.00                1.0  390.00    0   \n",
       "37         188.716667               0.14                1.0  337.50   68   \n",
       "38          62.033333              19.17                1.0  322.50   89   \n",
       "45          57.300000              27.54                1.0  408.75    4   \n",
       "...               ...                ...                ...     ...  ...   \n",
       "299458      41.100000               6.90                1.0    0.00    0   \n",
       "299468      39.750000               9.30                1.0    0.00    0   \n",
       "299472      36.666667              16.82                1.0    0.00   59   \n",
       "299497      42.616667               8.47                1.0    0.00    0   \n",
       "299524      49.100000              25.40                2.0    0.00    0   \n",
       "\n",
       "        miscellaneous_fees  total_fare  surge_applied  \n",
       "10                  26.200     171.450              1  \n",
       "17                  55.125     445.125              0  \n",
       "37                   2.200     407.700              0  \n",
       "38                  34.300     445.800              1  \n",
       "45                  75.650     488.400              1  \n",
       "...                    ...         ...            ...  \n",
       "299458              26.625       0.000              1  \n",
       "299468               6.000       0.000              0  \n",
       "299472              30.700       0.000              1  \n",
       "299497               6.000       0.000              0  \n",
       "299524               9.750       0.000              0  \n",
       "\n",
       "[16617 rows x 8 columns]"
      ]
     },
     "execution_count": 102,
     "metadata": {},
     "output_type": "execute_result"
    }
   ],
   "source": [
    "df[df['trip_duration']>upper_whisker[0]]"
   ]
  },
  {
   "cell_type": "code",
   "execution_count": 103,
   "id": "9f7590c6",
   "metadata": {},
   "outputs": [],
   "source": [
    "df.drop(df[df['trip_duration']>upper_whisker[0]].index,inplace=True)"
   ]
  },
  {
   "cell_type": "code",
   "execution_count": 104,
   "id": "b68c32cb",
   "metadata": {},
   "outputs": [
    {
     "data": {
      "text/plain": [
       "(277361, 8)"
      ]
     },
     "execution_count": 104,
     "metadata": {},
     "output_type": "execute_result"
    }
   ],
   "source": [
    "df.shape"
   ]
  },
  {
   "cell_type": "code",
   "execution_count": 105,
   "id": "1850aef5",
   "metadata": {},
   "outputs": [
    {
     "data": {
      "text/plain": [
       "<Axes: xlabel='trip_duration'>"
      ]
     },
     "execution_count": 105,
     "metadata": {},
     "output_type": "execute_result"
    },
    {
     "data": {
      "image/png": "[encoded data removed]",
      "text/plain": [
       "<Figure size 640x480 with 1 Axes>"
      ]
     },
     "metadata": {},
     "output_type": "display_data"
    }
   ],
   "source": [
    "sns.boxplot(x=df[\"trip_duration\"])"
   ]
  },
  {
   "cell_type": "code",
   "execution_count": 106,
   "id": "44131835",
   "metadata": {},
   "outputs": [
    {
     "data": {
      "text/plain": [
       "13695"
      ]
     },
     "execution_count": 106,
     "metadata": {},
     "output_type": "execute_result"
    }
   ],
   "source": [
    "df['distance_traveled'][df['distance_traveled']>upper_whisker[1]].count()"
   ]
  },
  {
   "cell_type": "code",
   "execution_count": 107,
   "id": "118e8c70",
   "metadata": {},
   "outputs": [
    {
     "data": {
      "text/plain": [
       "<Axes: xlabel='distance_traveled'>"
      ]
     },
     "execution_count": 107,
     "metadata": {},
     "output_type": "execute_result"
    },
    {
     "data": {
      "image/png": "[encoded data removed]",
      "text/plain": [
       "<Figure size 640x480 with 1 Axes>"
      ]
     },
     "metadata": {},
     "output_type": "display_data"
    }
   ],
   "source": [
    "sns.boxplot(x=df[\"distance_traveled\"])"
   ]
  },
  {
   "cell_type": "code",
   "execution_count": 108,
   "id": "f617ae69",
   "metadata": {},
   "outputs": [
    {
     "data": {
      "text/plain": [
       "13695"
      ]
     },
     "execution_count": 108,
     "metadata": {},
     "output_type": "execute_result"
    }
   ],
   "source": [
    "df['distance_traveled'][df['distance_traveled']>upper_whisker[1]].count()"
   ]
  },
  {
   "cell_type": "code",
   "execution_count": 109,
   "id": "7caac228",
   "metadata": {},
   "outputs": [],
   "source": [
    "df.drop(df[df['distance_traveled']>upper_whisker[1]].index,inplace=True)"
   ]
  },
  {
   "cell_type": "code",
   "execution_count": 110,
   "id": "d8e26ed4",
   "metadata": {},
   "outputs": [
    {
     "data": {
      "text/plain": [
       "<Axes: xlabel='distance_traveled'>"
      ]
     },
     "execution_count": 110,
     "metadata": {},
     "output_type": "execute_result"
    },
    {
     "data": {
      "image/png": "[encoded data removed]",
      "text/plain": [
       "<Figure size 640x480 with 1 Axes>"
      ]
     },
     "metadata": {},
     "output_type": "display_data"
    }
   ],
   "source": [
    "sns.boxplot(x=df[\"distance_traveled\"])"
   ]
  },
  {
   "cell_type": "code",
   "execution_count": 111,
   "id": "50e864e9",
   "metadata": {},
   "outputs": [
    {
     "data": {
      "text/plain": [
       "trip_duration          34.8000\n",
       "distance_traveled      11.5050\n",
       "num_of_passengers       1.0000\n",
       "fare                  243.7500\n",
       "tip                    50.0000\n",
       "miscellaneous_fees     57.3125\n",
       "total_fare            319.6875\n",
       "surge_applied           2.5000\n",
       "dtype: float64"
      ]
     },
     "execution_count": 111,
     "metadata": {},
     "output_type": "execute_result"
    }
   ],
   "source": [
    "upper_whisker"
   ]
  },
  {
   "cell_type": "code",
   "execution_count": 112,
   "id": "86db7d43",
   "metadata": {},
   "outputs": [
    {
     "data": {
      "text/plain": [
       "899"
      ]
     },
     "execution_count": 112,
     "metadata": {},
     "output_type": "execute_result"
    }
   ],
   "source": [
    "df['fare'][df['fare']>upper_whisker[3]].count()"
   ]
  },
  {
   "cell_type": "code",
   "execution_count": 113,
   "id": "d189c4c9",
   "metadata": {},
   "outputs": [],
   "source": [
    "df.drop(df[df['fare']>upper_whisker[3]].index,inplace=True)"
   ]
  },
  {
   "cell_type": "code",
   "execution_count": 114,
   "id": "660adbf9",
   "metadata": {},
   "outputs": [
    {
     "data": {
      "text/plain": [
       "0"
      ]
     },
     "execution_count": 114,
     "metadata": {},
     "output_type": "execute_result"
    }
   ],
   "source": [
    "df['fare'][df['fare']>upper_whisker[3]].count()"
   ]
  },
  {
   "cell_type": "code",
   "execution_count": 115,
   "id": "a2321dfc",
   "metadata": {},
   "outputs": [
    {
     "data": {
      "text/plain": [
       "count    262767.000000\n",
       "mean         11.539352\n",
       "std          15.923826\n",
       "min           0.000000\n",
       "25%           0.000000\n",
       "50%           9.000000\n",
       "75%          19.000000\n",
       "max        2500.000000\n",
       "Name: tip, dtype: float64"
      ]
     },
     "execution_count": 115,
     "metadata": {},
     "output_type": "execute_result"
    }
   ],
   "source": [
    "df['tip'].describe()"
   ]
  },
  {
   "cell_type": "code",
   "execution_count": 116,
   "id": "30dd98af",
   "metadata": {},
   "outputs": [
    {
     "data": {
      "text/plain": [
       "<Axes: xlabel='tip'>"
      ]
     },
     "execution_count": 116,
     "metadata": {},
     "output_type": "execute_result"
    },
    {
     "data": {
      "image/png": "[encoded data removed]",
      "text/plain": [
       "<Figure size 640x480 with 1 Axes>"
      ]
     },
     "metadata": {},
     "output_type": "display_data"
    }
   ],
   "source": [
    "sns.boxplot(x=df['tip'])"
   ]
  },
  {
   "cell_type": "code",
   "execution_count": 117,
   "id": "bb92bb08",
   "metadata": {},
   "outputs": [
    {
     "data": {
      "text/plain": [
       "2315"
      ]
     },
     "execution_count": 117,
     "metadata": {},
     "output_type": "execute_result"
    }
   ],
   "source": [
    "df['tip'][df['tip']>upper_whisker[4]].count()"
   ]
  },
  {
   "cell_type": "code",
   "execution_count": 118,
   "id": "0d1cd755",
   "metadata": {},
   "outputs": [],
   "source": [
    "df.drop(df[df['tip']>upper_whisker[4]].index,inplace=True)"
   ]
  },
  {
   "cell_type": "code",
   "execution_count": 119,
   "id": "cc1beaed",
   "metadata": {},
   "outputs": [
    {
     "data": {
      "text/plain": [
       "0"
      ]
     },
     "execution_count": 119,
     "metadata": {},
     "output_type": "execute_result"
    }
   ],
   "source": [
    "df['tip'][df['tip']>upper_whisker[4]].count()"
   ]
  },
  {
   "cell_type": "code",
   "execution_count": 120,
   "id": "547c60af",
   "metadata": {},
   "outputs": [
    {
     "data": {
      "text/plain": [
       "<Axes: xlabel='tip'>"
      ]
     },
     "execution_count": 120,
     "metadata": {},
     "output_type": "execute_result"
    },
    {
     "data": {
      "image/png": "[encoded data removed]",
      "text/plain": [
       "<Figure size 640x480 with 1 Axes>"
      ]
     },
     "metadata": {},
     "output_type": "display_data"
    }
   ],
   "source": [
    "sns.boxplot(x=df['tip'])"
   ]
  },
  {
   "cell_type": "code",
   "execution_count": 121,
   "id": "9ee7178b",
   "metadata": {},
   "outputs": [
    {
     "data": {
      "text/plain": [
       "<Axes: xlabel='miscellaneous_fees'>"
      ]
     },
     "execution_count": 121,
     "metadata": {},
     "output_type": "execute_result"
    },
    {
     "data": {
      "image/png": "[encoded data removed]",
      "text/plain": [
       "<Figure size 640x480 with 1 Axes>"
      ]
     },
     "metadata": {},
     "output_type": "display_data"
    }
   ],
   "source": [
    "sns.boxplot(x=df['miscellaneous_fees'])"
   ]
  },
  {
   "cell_type": "code",
   "execution_count": 122,
   "id": "f111b280",
   "metadata": {},
   "outputs": [
    {
     "data": {
      "text/plain": [
       "647"
      ]
     },
     "execution_count": 122,
     "metadata": {},
     "output_type": "execute_result"
    }
   ],
   "source": [
    "df['miscellaneous_fees'][df['miscellaneous_fees']>upper_whisker[5]].count()"
   ]
  },
  {
   "cell_type": "code",
   "execution_count": 123,
   "id": "dd488ffa",
   "metadata": {},
   "outputs": [],
   "source": [
    "df.drop(df[df['miscellaneous_fees']>upper_whisker[5]].index,inplace=True)"
   ]
  },
  {
   "cell_type": "code",
   "execution_count": 124,
   "id": "66148461",
   "metadata": {},
   "outputs": [
    {
     "data": {
      "text/plain": [
       "<Axes: xlabel='miscellaneous_fees'>"
      ]
     },
     "execution_count": 124,
     "metadata": {},
     "output_type": "execute_result"
    },
    {
     "data": {
      "image/png": "[encoded data removed]",
      "text/plain": [
       "<Figure size 640x480 with 1 Axes>"
      ]
     },
     "metadata": {},
     "output_type": "display_data"
    }
   ],
   "source": [
    "sns.boxplot(x=df['miscellaneous_fees'])"
   ]
  },
  {
   "cell_type": "code",
   "execution_count": 125,
   "id": "1a8d5a80",
   "metadata": {},
   "outputs": [
    {
     "data": {
      "text/plain": [
       "<Axes: xlabel='total_fare'>"
      ]
     },
     "execution_count": 125,
     "metadata": {},
     "output_type": "execute_result"
    },
    {
     "data": {
      "image/png": "[encoded data removed]",
      "text/plain": [
       "<Figure size 640x480 with 1 Axes>"
      ]
     },
     "metadata": {},
     "output_type": "display_data"
    }
   ],
   "source": [
    "sns.boxplot(x=df['total_fare'])"
   ]
  },
  {
   "cell_type": "code",
   "execution_count": 126,
   "id": "6b0f3cda",
   "metadata": {},
   "outputs": [
    {
     "data": {
      "text/plain": [
       "0"
      ]
     },
     "execution_count": 126,
     "metadata": {},
     "output_type": "execute_result"
    }
   ],
   "source": [
    "df['total_fare'][df['total_fare']>upper_whisker[6]].count()"
   ]
  },
  {
   "cell_type": "code",
   "execution_count": 127,
   "id": "3de2136a",
   "metadata": {},
   "outputs": [
    {
     "data": {
      "text/plain": [
       "trip_duration          34.8000\n",
       "distance_traveled      11.5050\n",
       "num_of_passengers       1.0000\n",
       "fare                  243.7500\n",
       "tip                    50.0000\n",
       "miscellaneous_fees     57.3125\n",
       "total_fare            319.6875\n",
       "surge_applied           2.5000\n",
       "dtype: float64"
      ]
     },
     "execution_count": 127,
     "metadata": {},
     "output_type": "execute_result"
    }
   ],
   "source": [
    "upper_whisker"
   ]
  },
  {
   "cell_type": "code",
   "execution_count": 128,
   "id": "6108b8ae",
   "metadata": {},
   "outputs": [
    {
     "data": {
      "text/plain": [
       "(259805, 8)"
      ]
     },
     "execution_count": 128,
     "metadata": {},
     "output_type": "execute_result"
    }
   ],
   "source": [
    "df.shape"
   ]
  },
  {
   "cell_type": "code",
   "execution_count": 129,
   "id": "b27b83cd",
   "metadata": {},
   "outputs": [
    {
     "data": {
      "text/html": [
       "<div>\n",
       "<style scoped>\n",
       "    .dataframe tbody tr th:only-of-type {\n",
       "        vertical-align: middle;\n",
       "    }\n",
       "\n",
       "    .dataframe tbody tr th {\n",
       "        vertical-align: top;\n",
       "    }\n",
       "\n",
       "    .dataframe thead th {\n",
       "        text-align: right;\n",
       "    }\n",
       "</style>\n",
       "<table border=\"1\" class=\"dataframe\">\n",
       "  <thead>\n",
       "    <tr style=\"text-align: right;\">\n",
       "      <th></th>\n",
       "      <th>trip_duration</th>\n",
       "      <th>distance_traveled</th>\n",
       "      <th>num_of_passengers</th>\n",
       "      <th>fare</th>\n",
       "      <th>tip</th>\n",
       "      <th>miscellaneous_fees</th>\n",
       "      <th>total_fare</th>\n",
       "      <th>surge_applied</th>\n",
       "    </tr>\n",
       "  </thead>\n",
       "  <tbody>\n",
       "    <tr>\n",
       "      <th>count</th>\n",
       "      <td>259805.000000</td>\n",
       "      <td>259805.000000</td>\n",
       "      <td>259805.000000</td>\n",
       "      <td>259805.000000</td>\n",
       "      <td>259805.000000</td>\n",
       "      <td>259805.000000</td>\n",
       "      <td>259805.000000</td>\n",
       "      <td>259805.000000</td>\n",
       "    </tr>\n",
       "    <tr>\n",
       "      <th>mean</th>\n",
       "      <td>12.093336</td>\n",
       "      <td>3.574500</td>\n",
       "      <td>1.292912</td>\n",
       "      <td>55.587463</td>\n",
       "      <td>10.897273</td>\n",
       "      <td>14.021841</td>\n",
       "      <td>72.949753</td>\n",
       "      <td>0.271292</td>\n",
       "    </tr>\n",
       "    <tr>\n",
       "      <th>std</th>\n",
       "      <td>6.727677</td>\n",
       "      <td>2.359674</td>\n",
       "      <td>0.939456</td>\n",
       "      <td>47.746092</td>\n",
       "      <td>11.783712</td>\n",
       "      <td>10.103249</td>\n",
       "      <td>61.835219</td>\n",
       "      <td>0.444627</td>\n",
       "    </tr>\n",
       "    <tr>\n",
       "      <th>min</th>\n",
       "      <td>0.000000</td>\n",
       "      <td>0.020000</td>\n",
       "      <td>0.000000</td>\n",
       "      <td>0.000000</td>\n",
       "      <td>0.000000</td>\n",
       "      <td>-0.500000</td>\n",
       "      <td>0.000000</td>\n",
       "      <td>0.000000</td>\n",
       "    </tr>\n",
       "    <tr>\n",
       "      <th>25%</th>\n",
       "      <td>7.100000</td>\n",
       "      <td>1.870000</td>\n",
       "      <td>1.000000</td>\n",
       "      <td>0.000000</td>\n",
       "      <td>0.000000</td>\n",
       "      <td>6.000000</td>\n",
       "      <td>0.000000</td>\n",
       "      <td>0.000000</td>\n",
       "    </tr>\n",
       "    <tr>\n",
       "      <th>50%</th>\n",
       "      <td>10.900000</td>\n",
       "      <td>2.930000</td>\n",
       "      <td>1.000000</td>\n",
       "      <td>54.750000</td>\n",
       "      <td>9.000000</td>\n",
       "      <td>9.750000</td>\n",
       "      <td>73.125000</td>\n",
       "      <td>0.000000</td>\n",
       "    </tr>\n",
       "    <tr>\n",
       "      <th>75%</th>\n",
       "      <td>15.850000</td>\n",
       "      <td>4.680000</td>\n",
       "      <td>1.000000</td>\n",
       "      <td>86.250000</td>\n",
       "      <td>19.000000</td>\n",
       "      <td>26.250000</td>\n",
       "      <td>114.750000</td>\n",
       "      <td>1.000000</td>\n",
       "    </tr>\n",
       "    <tr>\n",
       "      <th>max</th>\n",
       "      <td>34.800000</td>\n",
       "      <td>11.490000</td>\n",
       "      <td>9.000000</td>\n",
       "      <td>243.750000</td>\n",
       "      <td>50.000000</td>\n",
       "      <td>56.500000</td>\n",
       "      <td>313.050000</td>\n",
       "      <td>1.000000</td>\n",
       "    </tr>\n",
       "  </tbody>\n",
       "</table>\n",
       "</div>"
      ],
      "text/plain": [
       "       trip_duration  distance_traveled  num_of_passengers           fare  \\\n",
       "count  259805.000000      259805.000000      259805.000000  259805.000000   \n",
       "mean       12.093336           3.574500           1.292912      55.587463   \n",
       "std         6.727677           2.359674           0.939456      47.746092   \n",
       "min         0.000000           0.020000           0.000000       0.000000   \n",
       "25%         7.100000           1.870000           1.000000       0.000000   \n",
       "50%        10.900000           2.930000           1.000000      54.750000   \n",
       "75%        15.850000           4.680000           1.000000      86.250000   \n",
       "max        34.800000          11.490000           9.000000     243.750000   \n",
       "\n",
       "                 tip  miscellaneous_fees     total_fare  surge_applied  \n",
       "count  259805.000000       259805.000000  259805.000000  259805.000000  \n",
       "mean       10.897273           14.021841      72.949753       0.271292  \n",
       "std        11.783712           10.103249      61.835219       0.444627  \n",
       "min         0.000000           -0.500000       0.000000       0.000000  \n",
       "25%         0.000000            6.000000       0.000000       0.000000  \n",
       "50%         9.000000            9.750000      73.125000       0.000000  \n",
       "75%        19.000000           26.250000     114.750000       1.000000  \n",
       "max        50.000000           56.500000     313.050000       1.000000  "
      ]
     },
     "execution_count": 129,
     "metadata": {},
     "output_type": "execute_result"
    }
   ],
   "source": [
    "df.describe()"
   ]
  },
  {
   "cell_type": "code",
   "execution_count": 130,
   "id": "82320a84",
   "metadata": {},
   "outputs": [
    {
     "data": {
      "text/html": [
       "<div>\n",
       "<style scoped>\n",
       "    .dataframe tbody tr th:only-of-type {\n",
       "        vertical-align: middle;\n",
       "    }\n",
       "\n",
       "    .dataframe tbody tr th {\n",
       "        vertical-align: top;\n",
       "    }\n",
       "\n",
       "    .dataframe thead th {\n",
       "        text-align: right;\n",
       "    }\n",
       "</style>\n",
       "<table border=\"1\" class=\"dataframe\">\n",
       "  <thead>\n",
       "    <tr style=\"text-align: right;\">\n",
       "      <th></th>\n",
       "      <th>trip_duration</th>\n",
       "      <th>distance_traveled</th>\n",
       "      <th>num_of_passengers</th>\n",
       "      <th>fare</th>\n",
       "      <th>tip</th>\n",
       "      <th>miscellaneous_fees</th>\n",
       "      <th>total_fare</th>\n",
       "      <th>surge_applied</th>\n",
       "    </tr>\n",
       "  </thead>\n",
       "  <tbody>\n",
       "    <tr>\n",
       "      <th>trip_duration</th>\n",
       "      <td>1.000000</td>\n",
       "      <td>0.752292</td>\n",
       "      <td>0.000894</td>\n",
       "      <td>0.469531</td>\n",
       "      <td>0.289605</td>\n",
       "      <td>0.295894</td>\n",
       "      <td>0.435204</td>\n",
       "      <td>0.309996</td>\n",
       "    </tr>\n",
       "    <tr>\n",
       "      <th>distance_traveled</th>\n",
       "      <td>0.752292</td>\n",
       "      <td>1.000000</td>\n",
       "      <td>0.002371</td>\n",
       "      <td>0.480194</td>\n",
       "      <td>0.326248</td>\n",
       "      <td>0.331042</td>\n",
       "      <td>0.451729</td>\n",
       "      <td>0.313882</td>\n",
       "    </tr>\n",
       "    <tr>\n",
       "      <th>num_of_passengers</th>\n",
       "      <td>0.000894</td>\n",
       "      <td>0.002371</td>\n",
       "      <td>1.000000</td>\n",
       "      <td>0.002879</td>\n",
       "      <td>-0.010762</td>\n",
       "      <td>0.001302</td>\n",
       "      <td>0.001601</td>\n",
       "      <td>0.001794</td>\n",
       "    </tr>\n",
       "    <tr>\n",
       "      <th>fare</th>\n",
       "      <td>0.469531</td>\n",
       "      <td>0.480194</td>\n",
       "      <td>0.002879</td>\n",
       "      <td>1.000000</td>\n",
       "      <td>0.174913</td>\n",
       "      <td>0.154466</td>\n",
       "      <td>0.973001</td>\n",
       "      <td>0.162580</td>\n",
       "    </tr>\n",
       "    <tr>\n",
       "      <th>tip</th>\n",
       "      <td>0.289605</td>\n",
       "      <td>0.326248</td>\n",
       "      <td>-0.010762</td>\n",
       "      <td>0.174913</td>\n",
       "      <td>1.000000</td>\n",
       "      <td>0.357779</td>\n",
       "      <td>0.308182</td>\n",
       "      <td>0.353197</td>\n",
       "    </tr>\n",
       "    <tr>\n",
       "      <th>miscellaneous_fees</th>\n",
       "      <td>0.295894</td>\n",
       "      <td>0.331042</td>\n",
       "      <td>0.001302</td>\n",
       "      <td>0.154466</td>\n",
       "      <td>0.357779</td>\n",
       "      <td>1.000000</td>\n",
       "      <td>0.280259</td>\n",
       "      <td>0.893423</td>\n",
       "    </tr>\n",
       "    <tr>\n",
       "      <th>total_fare</th>\n",
       "      <td>0.435204</td>\n",
       "      <td>0.451729</td>\n",
       "      <td>0.001601</td>\n",
       "      <td>0.973001</td>\n",
       "      <td>0.308182</td>\n",
       "      <td>0.280259</td>\n",
       "      <td>1.000000</td>\n",
       "      <td>0.274238</td>\n",
       "    </tr>\n",
       "    <tr>\n",
       "      <th>surge_applied</th>\n",
       "      <td>0.309996</td>\n",
       "      <td>0.313882</td>\n",
       "      <td>0.001794</td>\n",
       "      <td>0.162580</td>\n",
       "      <td>0.353197</td>\n",
       "      <td>0.893423</td>\n",
       "      <td>0.274238</td>\n",
       "      <td>1.000000</td>\n",
       "    </tr>\n",
       "  </tbody>\n",
       "</table>\n",
       "</div>"
      ],
      "text/plain": [
       "                    trip_duration  distance_traveled  num_of_passengers  \\\n",
       "trip_duration            1.000000           0.752292           0.000894   \n",
       "distance_traveled        0.752292           1.000000           0.002371   \n",
       "num_of_passengers        0.000894           0.002371           1.000000   \n",
       "fare                     0.469531           0.480194           0.002879   \n",
       "tip                      0.289605           0.326248          -0.010762   \n",
       "miscellaneous_fees       0.295894           0.331042           0.001302   \n",
       "total_fare               0.435204           0.451729           0.001601   \n",
       "surge_applied            0.309996           0.313882           0.001794   \n",
       "\n",
       "                        fare       tip  miscellaneous_fees  total_fare  \\\n",
       "trip_duration       0.469531  0.289605            0.295894    0.435204   \n",
       "distance_traveled   0.480194  0.326248            0.331042    0.451729   \n",
       "num_of_passengers   0.002879 -0.010762            0.001302    0.001601   \n",
       "fare                1.000000  0.174913            0.154466    0.973001   \n",
       "tip                 0.174913  1.000000            0.357779    0.308182   \n",
       "miscellaneous_fees  0.154466  0.357779            1.000000    0.280259   \n",
       "total_fare          0.973001  0.308182            0.280259    1.000000   \n",
       "surge_applied       0.162580  0.353197            0.893423    0.274238   \n",
       "\n",
       "                    surge_applied  \n",
       "trip_duration            0.309996  \n",
       "distance_traveled        0.313882  \n",
       "num_of_passengers        0.001794  \n",
       "fare                     0.162580  \n",
       "tip                      0.353197  \n",
       "miscellaneous_fees       0.893423  \n",
       "total_fare               0.274238  \n",
       "surge_applied            1.000000  "
      ]
     },
     "execution_count": 130,
     "metadata": {},
     "output_type": "execute_result"
    }
   ],
   "source": [
    "df.corr()"
   ]
  },
  {
   "cell_type": "code",
   "execution_count": 131,
   "id": "5fdb6da3",
   "metadata": {},
   "outputs": [
    {
     "data": {
      "image/png": "[encoded data removed]",
      "text/plain": [
       "<Figure size 640x480 with 1 Axes>"
      ]
     },
     "metadata": {},
     "output_type": "display_data"
    }
   ],
   "source": [
    "sns.histplot(df['num_of_passengers'])\n",
    "plt.show()"
   ]
  },
  {
   "cell_type": "code",
   "execution_count": 132,
   "id": "6bef8350",
   "metadata": {},
   "outputs": [
    {
     "data": {
      "text/plain": [
       "<Axes: >"
      ]
     },
     "execution_count": 132,
     "metadata": {},
     "output_type": "execute_result"
    },
    {
     "data": {
      "image/png": "[encoded data removed]",
      "text/plain": [
       "<Figure size 640x480 with 2 Axes>"
      ]
     },
     "metadata": {},
     "output_type": "display_data"
    }
   ],
   "source": [
    "sns.heatmap(df)"
   ]
  },
  {
   "cell_type": "code",
   "execution_count": 133,
   "id": "06eaafe7",
   "metadata": {},
   "outputs": [],
   "source": [
    "# sns.pairplot(df)"
   ]
  },
  {
   "cell_type": "code",
   "execution_count": 134,
   "id": "1ab2fc52",
   "metadata": {},
   "outputs": [],
   "source": [
    "x=df.drop(['total_fare','num_of_passengers'],axis=1)\n",
    "y=df['total_fare']"
   ]
  },
  {
   "cell_type": "code",
   "execution_count": 135,
   "id": "d4131d31",
   "metadata": {},
   "outputs": [],
   "source": [
    "from sklearn.model_selection import train_test_split\n",
    "x_train,x_test,y_train,y_test = train_test_split(x,y,test_size=.25)"
   ]
  },
  {
   "cell_type": "code",
   "execution_count": 136,
   "id": "b3862742",
   "metadata": {},
   "outputs": [
    {
     "data": {
      "text/html": [
       "<style>#sk-container-id-4 {color: black;background-color: white;}#sk-container-id-4 pre{padding: 0;}#sk-container-id-4 div.sk-toggleable {background-color: white;}#sk-container-id-4 label.sk-toggleable__label {cursor: pointer;display: block;width: 100%;margin-bottom: 0;padding: 0.3em;box-sizing: border-box;text-align: center;}#sk-container-id-4 label.sk-toggleable__label-arrow:before {content: \"▸\";float: left;margin-right: 0.25em;color: #696969;}#sk-container-id-4 label.sk-toggleable__label-arrow:hover:before {color: black;}#sk-container-id-4 div.sk-estimator:hover label.sk-toggleable__label-arrow:before {color: black;}#sk-container-id-4 div.sk-toggleable__content {max-height: 0;max-width: 0;overflow: hidden;text-align: left;background-color: #f0f8ff;}#sk-container-id-4 div.sk-toggleable__content pre {margin: 0.2em;color: black;border-radius: 0.25em;background-color: #f0f8ff;}#sk-container-id-4 input.sk-toggleable__control:checked~div.sk-toggleable__content {max-height: 200px;max-width: 100%;overflow: auto;}#sk-container-id-4 input.sk-toggleable__control:checked~label.sk-toggleable__label-arrow:before {content: \"▾\";}#sk-container-id-4 div.sk-estimator input.sk-toggleable__control:checked~label.sk-toggleable__label {background-color: #d4ebff;}#sk-container-id-4 div.sk-label input.sk-toggleable__control:checked~label.sk-toggleable__label {background-color: #d4ebff;}#sk-container-id-4 input.sk-hidden--visually {border: 0;clip: rect(1px 1px 1px 1px);clip: rect(1px, 1px, 1px, 1px);height: 1px;margin: -1px;overflow: hidden;padding: 0;position: absolute;width: 1px;}#sk-container-id-4 div.sk-estimator {font-family: monospace;background-color: #f0f8ff;border: 1px dotted black;border-radius: 0.25em;box-sizing: border-box;margin-bottom: 0.5em;}#sk-container-id-4 div.sk-estimator:hover {background-color: #d4ebff;}#sk-container-id-4 div.sk-parallel-item::after {content: \"\";width: 100%;border-bottom: 1px solid gray;flex-grow: 1;}#sk-container-id-4 div.sk-label:hover label.sk-toggleable__label {background-color: #d4ebff;}#sk-container-id-4 div.sk-serial::before {content: \"\";position: absolute;border-left: 1px solid gray;box-sizing: border-box;top: 0;bottom: 0;left: 50%;z-index: 0;}#sk-container-id-4 div.sk-serial {display: flex;flex-direction: column;align-items: center;background-color: white;padding-right: 0.2em;padding-left: 0.2em;position: relative;}#sk-container-id-4 div.sk-item {position: relative;z-index: 1;}#sk-container-id-4 div.sk-parallel {display: flex;align-items: stretch;justify-content: center;background-color: white;position: relative;}#sk-container-id-4 div.sk-item::before, #sk-container-id-4 div.sk-parallel-item::before {content: \"\";position: absolute;border-left: 1px solid gray;box-sizing: border-box;top: 0;bottom: 0;left: 50%;z-index: -1;}#sk-container-id-4 div.sk-parallel-item {display: flex;flex-direction: column;z-index: 1;position: relative;background-color: white;}#sk-container-id-4 div.sk-parallel-item:first-child::after {align-self: flex-end;width: 50%;}#sk-container-id-4 div.sk-parallel-item:last-child::after {align-self: flex-start;width: 50%;}#sk-container-id-4 div.sk-parallel-item:only-child::after {width: 0;}#sk-container-id-4 div.sk-dashed-wrapped {border: 1px dashed gray;margin: 0 0.4em 0.5em 0.4em;box-sizing: border-box;padding-bottom: 0.4em;background-color: white;}#sk-container-id-4 div.sk-label label {font-family: monospace;font-weight: bold;display: inline-block;line-height: 1.2em;}#sk-container-id-4 div.sk-label-container {text-align: center;}#sk-container-id-4 div.sk-container {/* jupyter's `normalize.less` sets `[hidden] { display: none; }` but bootstrap.min.css set `[hidden] { display: none !important; }` so we also need the `!important` here to be able to override the default hidden behavior on the sphinx rendered scikit-learn.org. See: https://github.com/scikit-learn/scikit-learn/issues/21755 */display: inline-block !important;position: relative;}#sk-container-id-4 div.sk-text-repr-fallback {display: none;}</style><div id=\"sk-container-id-4\" class=\"sk-top-container\"><div class=\"sk-text-repr-fallback\"><pre>DecisionTreeRegressor()</pre><b>In a Jupyter environment, please rerun this cell to show the HTML representation or trust the notebook. <br />On GitHub, the HTML representation is unable to render, please try loading this page with nbviewer.org.</b></div><div class=\"sk-container\" hidden><div class=\"sk-item\"><div class=\"sk-estimator sk-toggleable\"><input class=\"sk-toggleable__control sk-hidden--visually\" id=\"sk-estimator-id-4\" type=\"checkbox\" checked><label for=\"sk-estimator-id-4\" class=\"sk-toggleable__label sk-toggleable__label-arrow\">DecisionTreeRegressor</label><div class=\"sk-toggleable__content\"><pre>DecisionTreeRegressor()</pre></div></div></div></div></div>"
      ],
      "text/plain": [
       "DecisionTreeRegressor()"
      ]
     },
     "execution_count": 136,
     "metadata": {},
     "output_type": "execute_result"
    }
   ],
   "source": [
    "from sklearn.tree import DecisionTreeRegressor\n",
    "model = DecisionTreeRegressor()\n",
    "model.fit(x_train,y_train)"
   ]
  },
  {
   "cell_type": "code",
   "execution_count": 137,
   "id": "2df5c5a0",
   "metadata": {},
   "outputs": [],
   "source": [
    "y_pred = model.predict(x_test)"
   ]
  },
  {
   "cell_type": "code",
   "execution_count": 138,
   "id": "249ce2c0",
   "metadata": {
    "scrolled": true
   },
   "outputs": [
    {
     "name": "stdout",
     "output_type": "stream",
     "text": [
      "0.3259241151157776\n",
      "0.9999143313884955\n"
     ]
    }
   ],
   "source": [
    "from sklearn.metrics import mean_squared_error,r2_score\n",
    "mse = mean_squared_error(y_test,y_pred)\n",
    "print(mse)\n",
    "r2 = r2_score(y_test,y_pred)\n",
    "print(r2)"
   ]
  },
  {
   "cell_type": "code",
   "execution_count": 139,
   "id": "ad6687b2",
   "metadata": {},
   "outputs": [
    {
     "name": "stdout",
     "output_type": "stream",
     "text": [
      "0.2538701014393242\n",
      "0.9999332706661331\n"
     ]
    }
   ],
   "source": [
    "from xgboost import XGBRegressor\n",
    "model = XGBRegressor()\n",
    "model.fit(x_train,y_train)\n",
    "y_pred = model.predict(x_test)\n",
    "from sklearn.metrics import mean_squared_error,r2_score\n",
    "mse = mean_squared_error(y_test,y_pred)\n",
    "print(mse)\n",
    "r2 = r2_score(y_test,y_pred)\n",
    "print(r2)"
   ]
  },
  {
   "cell_type": "code",
   "execution_count": 140,
   "id": "163a175a",
   "metadata": {},
   "outputs": [
    {
     "name": "stdout",
     "output_type": "stream",
     "text": [
      "0.18752791300883676\n",
      "0.9999507086000061\n"
     ]
    }
   ],
   "source": [
    "from sklearn.ensemble import RandomForestRegressor\n",
    "model = RandomForestRegressor()\n",
    "model.fit(x_train,y_train)\n",
    "y_pred = model.predict(x_test)\n",
    "from sklearn.metrics import mean_squared_error,r2_score\n",
    "mse = mean_squared_error(y_test,y_pred)\n",
    "print(mse)\n",
    "r2 = r2_score(y_test,y_pred)\n",
    "print(r2)"
   ]
  },
  {
   "cell_type": "code",
   "execution_count": 141,
   "id": "6ff77582",
   "metadata": {},
   "outputs": [
    {
     "name": "stdout",
     "output_type": "stream",
     "text": [
      "0.20898802250123166\n",
      "0.9999450678459236\n"
     ]
    }
   ],
   "source": [
    "from sklearn.ensemble import BaggingRegressor\n",
    "model = BaggingRegressor()\n",
    "model.fit(x_train,y_train)\n",
    "y_pred = model.predict(x_test)\n",
    "from sklearn.metrics import mean_squared_error,r2_score\n",
    "mse = mean_squared_error(y_test,y_pred)\n",
    "print(mse)\n",
    "r2 = r2_score(y_test,y_pred)\n",
    "print(r2)"
   ]
  },
  {
   "cell_type": "code",
   "execution_count": 142,
   "id": "cb8fdd71",
   "metadata": {},
   "outputs": [
    {
     "name": "stdout",
     "output_type": "stream",
     "text": [
      "68.38146795981835\n",
      "0.9820260448949032\n"
     ]
    }
   ],
   "source": [
    "from sklearn.linear_model import LinearRegression\n",
    "model = LinearRegression()\n",
    "model.fit(x_train,y_train)\n",
    "y_pred = model.predict(x_test)\n",
    "from sklearn.metrics import mean_squared_error,r2_score\n",
    "mse = mean_squared_error(y_test,y_pred)\n",
    "print(mse)\n",
    "r2 = r2_score(y_test,y_pred)\n",
    "print(r2)"
   ]
  },
  {
   "cell_type": "code",
   "execution_count": 143,
   "id": "061658d4",
   "metadata": {},
   "outputs": [
    {
     "data": {
      "text/html": [
       "<div>\n",
       "<style scoped>\n",
       "    .dataframe tbody tr th:only-of-type {\n",
       "        vertical-align: middle;\n",
       "    }\n",
       "\n",
       "    .dataframe tbody tr th {\n",
       "        vertical-align: top;\n",
       "    }\n",
       "\n",
       "    .dataframe thead th {\n",
       "        text-align: right;\n",
       "    }\n",
       "</style>\n",
       "<table border=\"1\" class=\"dataframe\">\n",
       "  <thead>\n",
       "    <tr style=\"text-align: right;\">\n",
       "      <th></th>\n",
       "      <th>trip_duration</th>\n",
       "      <th>distance_traveled</th>\n",
       "      <th>fare</th>\n",
       "      <th>tip</th>\n",
       "      <th>miscellaneous_fees</th>\n",
       "      <th>surge_applied</th>\n",
       "    </tr>\n",
       "  </thead>\n",
       "  <tbody>\n",
       "    <tr>\n",
       "      <th>170873</th>\n",
       "      <td>6.650000</td>\n",
       "      <td>3.69</td>\n",
       "      <td>63.75</td>\n",
       "      <td>11</td>\n",
       "      <td>6.250</td>\n",
       "      <td>0</td>\n",
       "    </tr>\n",
       "    <tr>\n",
       "      <th>51037</th>\n",
       "      <td>15.350000</td>\n",
       "      <td>4.28</td>\n",
       "      <td>93.75</td>\n",
       "      <td>20</td>\n",
       "      <td>5.950</td>\n",
       "      <td>0</td>\n",
       "    </tr>\n",
       "    <tr>\n",
       "      <th>105037</th>\n",
       "      <td>9.333333</td>\n",
       "      <td>2.16</td>\n",
       "      <td>56.25</td>\n",
       "      <td>12</td>\n",
       "      <td>6.450</td>\n",
       "      <td>0</td>\n",
       "    </tr>\n",
       "    <tr>\n",
       "      <th>260434</th>\n",
       "      <td>16.350000</td>\n",
       "      <td>4.33</td>\n",
       "      <td>0.00</td>\n",
       "      <td>35</td>\n",
       "      <td>26.575</td>\n",
       "      <td>1</td>\n",
       "    </tr>\n",
       "    <tr>\n",
       "      <th>129286</th>\n",
       "      <td>15.883333</td>\n",
       "      <td>4.15</td>\n",
       "      <td>93.75</td>\n",
       "      <td>27</td>\n",
       "      <td>13.350</td>\n",
       "      <td>0</td>\n",
       "    </tr>\n",
       "  </tbody>\n",
       "</table>\n",
       "</div>"
      ],
      "text/plain": [
       "        trip_duration  distance_traveled   fare  tip  miscellaneous_fees  \\\n",
       "170873       6.650000               3.69  63.75   11               6.250   \n",
       "51037       15.350000               4.28  93.75   20               5.950   \n",
       "105037       9.333333               2.16  56.25   12               6.450   \n",
       "260434      16.350000               4.33   0.00   35              26.575   \n",
       "129286      15.883333               4.15  93.75   27              13.350   \n",
       "\n",
       "        surge_applied  \n",
       "170873              0  \n",
       "51037               0  \n",
       "105037              0  \n",
       "260434              1  \n",
       "129286              0  "
      ]
     },
     "execution_count": 143,
     "metadata": {},
     "output_type": "execute_result"
    }
   ],
   "source": [
    "x_train.head()"
   ]
  },
  {
   "cell_type": "code",
   "execution_count": 65,
   "id": "a88ae1a2",
   "metadata": {},
   "outputs": [
    {
     "data": {
      "text/html": [
       "<style>#sk-container-id-2 {color: black;background-color: white;}#sk-container-id-2 pre{padding: 0;}#sk-container-id-2 div.sk-toggleable {background-color: white;}#sk-container-id-2 label.sk-toggleable__label {cursor: pointer;display: block;width: 100%;margin-bottom: 0;padding: 0.3em;box-sizing: border-box;text-align: center;}#sk-container-id-2 label.sk-toggleable__label-arrow:before {content: \"▸\";float: left;margin-right: 0.25em;color: #696969;}#sk-container-id-2 label.sk-toggleable__label-arrow:hover:before {color: black;}#sk-container-id-2 div.sk-estimator:hover label.sk-toggleable__label-arrow:before {color: black;}#sk-container-id-2 div.sk-toggleable__content {max-height: 0;max-width: 0;overflow: hidden;text-align: left;background-color: #f0f8ff;}#sk-container-id-2 div.sk-toggleable__content pre {margin: 0.2em;color: black;border-radius: 0.25em;background-color: #f0f8ff;}#sk-container-id-2 input.sk-toggleable__control:checked~div.sk-toggleable__content {max-height: 200px;max-width: 100%;overflow: auto;}#sk-container-id-2 input.sk-toggleable__control:checked~label.sk-toggleable__label-arrow:before {content: \"▾\";}#sk-container-id-2 div.sk-estimator input.sk-toggleable__control:checked~label.sk-toggleable__label {background-color: #d4ebff;}#sk-container-id-2 div.sk-label input.sk-toggleable__control:checked~label.sk-toggleable__label {background-color: #d4ebff;}#sk-container-id-2 input.sk-hidden--visually {border: 0;clip: rect(1px 1px 1px 1px);clip: rect(1px, 1px, 1px, 1px);height: 1px;margin: -1px;overflow: hidden;padding: 0;position: absolute;width: 1px;}#sk-container-id-2 div.sk-estimator {font-family: monospace;background-color: #f0f8ff;border: 1px dotted black;border-radius: 0.25em;box-sizing: border-box;margin-bottom: 0.5em;}#sk-container-id-2 div.sk-estimator:hover {background-color: #d4ebff;}#sk-container-id-2 div.sk-parallel-item::after {content: \"\";width: 100%;border-bottom: 1px solid gray;flex-grow: 1;}#sk-container-id-2 div.sk-label:hover label.sk-toggleable__label {background-color: #d4ebff;}#sk-container-id-2 div.sk-serial::before {content: \"\";position: absolute;border-left: 1px solid gray;box-sizing: border-box;top: 0;bottom: 0;left: 50%;z-index: 0;}#sk-container-id-2 div.sk-serial {display: flex;flex-direction: column;align-items: center;background-color: white;padding-right: 0.2em;padding-left: 0.2em;position: relative;}#sk-container-id-2 div.sk-item {position: relative;z-index: 1;}#sk-container-id-2 div.sk-parallel {display: flex;align-items: stretch;justify-content: center;background-color: white;position: relative;}#sk-container-id-2 div.sk-item::before, #sk-container-id-2 div.sk-parallel-item::before {content: \"\";position: absolute;border-left: 1px solid gray;box-sizing: border-box;top: 0;bottom: 0;left: 50%;z-index: -1;}#sk-container-id-2 div.sk-parallel-item {display: flex;flex-direction: column;z-index: 1;position: relative;background-color: white;}#sk-container-id-2 div.sk-parallel-item:first-child::after {align-self: flex-end;width: 50%;}#sk-container-id-2 div.sk-parallel-item:last-child::after {align-self: flex-start;width: 50%;}#sk-container-id-2 div.sk-parallel-item:only-child::after {width: 0;}#sk-container-id-2 div.sk-dashed-wrapped {border: 1px dashed gray;margin: 0 0.4em 0.5em 0.4em;box-sizing: border-box;padding-bottom: 0.4em;background-color: white;}#sk-container-id-2 div.sk-label label {font-family: monospace;font-weight: bold;display: inline-block;line-height: 1.2em;}#sk-container-id-2 div.sk-label-container {text-align: center;}#sk-container-id-2 div.sk-container {/* jupyter's `normalize.less` sets `[hidden] { display: none; }` but bootstrap.min.css set `[hidden] { display: none !important; }` so we also need the `!important` here to be able to override the default hidden behavior on the sphinx rendered scikit-learn.org. See: https://github.com/scikit-learn/scikit-learn/issues/21755 */display: inline-block !important;position: relative;}#sk-container-id-2 div.sk-text-repr-fallback {display: none;}</style><div id=\"sk-container-id-2\" class=\"sk-top-container\"><div class=\"sk-text-repr-fallback\"><pre>LinearRegression()</pre><b>In a Jupyter environment, please rerun this cell to show the HTML representation or trust the notebook. <br />On GitHub, the HTML representation is unable to render, please try loading this page with nbviewer.org.</b></div><div class=\"sk-container\" hidden><div class=\"sk-item\"><div class=\"sk-estimator sk-toggleable\"><input class=\"sk-toggleable__control sk-hidden--visually\" id=\"sk-estimator-id-2\" type=\"checkbox\" checked><label for=\"sk-estimator-id-2\" class=\"sk-toggleable__label sk-toggleable__label-arrow\">LinearRegression</label><div class=\"sk-toggleable__content\"><pre>LinearRegression()</pre></div></div></div></div></div>"
      ],
      "text/plain": [
       "LinearRegression()"
      ]
     },
     "execution_count": 65,
     "metadata": {},
     "output_type": "execute_result"
    }
   ],
   "source": [
    "model"
   ]
  },
  {
   "cell_type": "code",
   "execution_count": 144,
   "id": "24d3b2af",
   "metadata": {},
   "outputs": [
    {
     "name": "stderr",
     "output_type": "stream",
     "text": [
      "/usr/local/lib/python3.10/dist-packages/sklearn/base.py:439: UserWarning: X does not have valid feature names, but LinearRegression was fitted with feature names\n",
      "  warnings.warn(\n"
     ]
    },
    {
     "data": {
      "text/plain": [
       "array([29.03096472])"
      ]
     },
     "execution_count": 144,
     "metadata": {},
     "output_type": "execute_result"
    }
   ],
   "source": [
    "y_pred1 = model.predict([[30,13,52,0,4,0]])\n",
    "y_pred1"
   ]
  },
  {
   "cell_type": "code",
   "execution_count": 145,
   "id": "f654af96",
   "metadata": {},
   "outputs": [
    {
     "data": {
      "text/plain": [
       "['trip_duration',\n",
       " 'distance_traveled',\n",
       " 'num_of_passengers',\n",
       " 'fare',\n",
       " 'tip',\n",
       " 'miscellaneous_fees',\n",
       " 'total_fare',\n",
       " 'surge_applied']"
      ]
     },
     "execution_count": 145,
     "metadata": {},
     "output_type": "execute_result"
    }
   ],
   "source": [
    "col_names = list(df.columns)\n",
    "col_names"
   ]
  },
  {
   "cell_type": "code",
   "execution_count": 146,
   "id": "ecc03058",
   "metadata": {},
   "outputs": [
    {
     "data": {
      "text/html": [
       "<div>\n",
       "<style scoped>\n",
       "    .dataframe tbody tr th:only-of-type {\n",
       "        vertical-align: middle;\n",
       "    }\n",
       "\n",
       "    .dataframe tbody tr th {\n",
       "        vertical-align: top;\n",
       "    }\n",
       "\n",
       "    .dataframe thead th {\n",
       "        text-align: right;\n",
       "    }\n",
       "</style>\n",
       "<table border=\"1\" class=\"dataframe\">\n",
       "  <thead>\n",
       "    <tr style=\"text-align: right;\">\n",
       "      <th></th>\n",
       "      <th>trip_duration</th>\n",
       "      <th>distance_traveled</th>\n",
       "      <th>num_of_passengers</th>\n",
       "      <th>fare</th>\n",
       "      <th>tip</th>\n",
       "      <th>miscellaneous_fees</th>\n",
       "      <th>total_fare</th>\n",
       "      <th>surge_applied</th>\n",
       "    </tr>\n",
       "  </thead>\n",
       "  <tbody>\n",
       "    <tr>\n",
       "      <th>0</th>\n",
       "      <td>0.358238</td>\n",
       "      <td>0.238012</td>\n",
       "      <td>0.111111</td>\n",
       "      <td>0.307692</td>\n",
       "      <td>0.48</td>\n",
       "      <td>0.119298</td>\n",
       "      <td>0.336368</td>\n",
       "      <td>0.0</td>\n",
       "    </tr>\n",
       "    <tr>\n",
       "      <th>1</th>\n",
       "      <td>0.568487</td>\n",
       "      <td>0.297297</td>\n",
       "      <td>0.111111</td>\n",
       "      <td>0.430769</td>\n",
       "      <td>0.48</td>\n",
       "      <td>0.240351</td>\n",
       "      <td>0.454241</td>\n",
       "      <td>0.0</td>\n",
       "    </tr>\n",
       "    <tr>\n",
       "      <th>2</th>\n",
       "      <td>0.349617</td>\n",
       "      <td>0.270270</td>\n",
       "      <td>0.111111</td>\n",
       "      <td>0.292308</td>\n",
       "      <td>0.00</td>\n",
       "      <td>0.475877</td>\n",
       "      <td>0.312650</td>\n",
       "      <td>1.0</td>\n",
       "    </tr>\n",
       "    <tr>\n",
       "      <th>3</th>\n",
       "      <td>0.321360</td>\n",
       "      <td>0.489102</td>\n",
       "      <td>0.333333</td>\n",
       "      <td>0.369231</td>\n",
       "      <td>0.00</td>\n",
       "      <td>0.179825</td>\n",
       "      <td>0.318639</td>\n",
       "      <td>0.0</td>\n",
       "    </tr>\n",
       "    <tr>\n",
       "      <th>4</th>\n",
       "      <td>0.157567</td>\n",
       "      <td>0.180471</td>\n",
       "      <td>0.111111</td>\n",
       "      <td>0.184615</td>\n",
       "      <td>0.24</td>\n",
       "      <td>0.240351</td>\n",
       "      <td>0.224245</td>\n",
       "      <td>0.0</td>\n",
       "    </tr>\n",
       "    <tr>\n",
       "      <th>...</th>\n",
       "      <td>...</td>\n",
       "      <td>...</td>\n",
       "      <td>...</td>\n",
       "      <td>...</td>\n",
       "      <td>...</td>\n",
       "      <td>...</td>\n",
       "      <td>...</td>\n",
       "      <td>...</td>\n",
       "    </tr>\n",
       "    <tr>\n",
       "      <th>259800</th>\n",
       "      <td>0.208333</td>\n",
       "      <td>0.193548</td>\n",
       "      <td>0.111111</td>\n",
       "      <td>0.000000</td>\n",
       "      <td>0.26</td>\n",
       "      <td>0.249123</td>\n",
       "      <td>0.000000</td>\n",
       "      <td>0.0</td>\n",
       "    </tr>\n",
       "    <tr>\n",
       "      <th>259801</th>\n",
       "      <td>0.248563</td>\n",
       "      <td>0.225806</td>\n",
       "      <td>0.111111</td>\n",
       "      <td>0.000000</td>\n",
       "      <td>0.14</td>\n",
       "      <td>0.251754</td>\n",
       "      <td>0.000000</td>\n",
       "      <td>0.0</td>\n",
       "    </tr>\n",
       "    <tr>\n",
       "      <th>259802</th>\n",
       "      <td>0.215517</td>\n",
       "      <td>0.193548</td>\n",
       "      <td>0.111111</td>\n",
       "      <td>0.000000</td>\n",
       "      <td>0.00</td>\n",
       "      <td>0.475877</td>\n",
       "      <td>0.000000</td>\n",
       "      <td>1.0</td>\n",
       "    </tr>\n",
       "    <tr>\n",
       "      <th>259803</th>\n",
       "      <td>0.440134</td>\n",
       "      <td>0.357454</td>\n",
       "      <td>0.111111</td>\n",
       "      <td>0.000000</td>\n",
       "      <td>0.50</td>\n",
       "      <td>0.538596</td>\n",
       "      <td>0.000000</td>\n",
       "      <td>1.0</td>\n",
       "    </tr>\n",
       "    <tr>\n",
       "      <th>259804</th>\n",
       "      <td>0.211207</td>\n",
       "      <td>0.305144</td>\n",
       "      <td>0.111111</td>\n",
       "      <td>0.000000</td>\n",
       "      <td>0.46</td>\n",
       "      <td>0.117105</td>\n",
       "      <td>0.000000</td>\n",
       "      <td>0.0</td>\n",
       "    </tr>\n",
       "  </tbody>\n",
       "</table>\n",
       "<p>259805 rows × 8 columns</p>\n",
       "</div>"
      ],
      "text/plain": [
       "        trip_duration  distance_traveled  num_of_passengers      fare   tip  \\\n",
       "0            0.358238           0.238012           0.111111  0.307692  0.48   \n",
       "1            0.568487           0.297297           0.111111  0.430769  0.48   \n",
       "2            0.349617           0.270270           0.111111  0.292308  0.00   \n",
       "3            0.321360           0.489102           0.333333  0.369231  0.00   \n",
       "4            0.157567           0.180471           0.111111  0.184615  0.24   \n",
       "...               ...                ...                ...       ...   ...   \n",
       "259800       0.208333           0.193548           0.111111  0.000000  0.26   \n",
       "259801       0.248563           0.225806           0.111111  0.000000  0.14   \n",
       "259802       0.215517           0.193548           0.111111  0.000000  0.00   \n",
       "259803       0.440134           0.357454           0.111111  0.000000  0.50   \n",
       "259804       0.211207           0.305144           0.111111  0.000000  0.46   \n",
       "\n",
       "        miscellaneous_fees  total_fare  surge_applied  \n",
       "0                 0.119298    0.336368            0.0  \n",
       "1                 0.240351    0.454241            0.0  \n",
       "2                 0.475877    0.312650            1.0  \n",
       "3                 0.179825    0.318639            0.0  \n",
       "4                 0.240351    0.224245            0.0  \n",
       "...                    ...         ...            ...  \n",
       "259800            0.249123    0.000000            0.0  \n",
       "259801            0.251754    0.000000            0.0  \n",
       "259802            0.475877    0.000000            1.0  \n",
       "259803            0.538596    0.000000            1.0  \n",
       "259804            0.117105    0.000000            0.0  \n",
       "\n",
       "[259805 rows x 8 columns]"
      ]
     },
     "execution_count": 146,
     "metadata": {},
     "output_type": "execute_result"
    }
   ],
   "source": [
    "from sklearn.preprocessing import MinMaxScaler\n",
    "scaler = MinMaxScaler()\n",
    "df_new = scaler.fit_transform(df)\n",
    "df_new = pd.DataFrame(df_new,columns=col_names)\n",
    "df_new"
   ]
  },
  {
   "cell_type": "code",
   "execution_count": 69,
   "id": "0fb5624a",
   "metadata": {},
   "outputs": [
    {
     "data": {
      "text/html": [
       "<div>\n",
       "<style scoped>\n",
       "    .dataframe tbody tr th:only-of-type {\n",
       "        vertical-align: middle;\n",
       "    }\n",
       "\n",
       "    .dataframe tbody tr th {\n",
       "        vertical-align: top;\n",
       "    }\n",
       "\n",
       "    .dataframe thead th {\n",
       "        text-align: right;\n",
       "    }\n",
       "</style>\n",
       "<table border=\"1\" class=\"dataframe\">\n",
       "  <thead>\n",
       "    <tr style=\"text-align: right;\">\n",
       "      <th></th>\n",
       "      <th>trip_duration</th>\n",
       "      <th>distance_traveled</th>\n",
       "      <th>num_of_passengers</th>\n",
       "      <th>fare</th>\n",
       "      <th>tip</th>\n",
       "      <th>miscellaneous_fees</th>\n",
       "      <th>total_fare</th>\n",
       "      <th>surge_applied</th>\n",
       "    </tr>\n",
       "  </thead>\n",
       "  <tbody>\n",
       "    <tr>\n",
       "      <th>trip_duration</th>\n",
       "      <td>1.000000</td>\n",
       "      <td>0.752292</td>\n",
       "      <td>0.000894</td>\n",
       "      <td>0.469531</td>\n",
       "      <td>0.289605</td>\n",
       "      <td>0.295894</td>\n",
       "      <td>0.435204</td>\n",
       "      <td>0.309996</td>\n",
       "    </tr>\n",
       "    <tr>\n",
       "      <th>distance_traveled</th>\n",
       "      <td>0.752292</td>\n",
       "      <td>1.000000</td>\n",
       "      <td>0.002371</td>\n",
       "      <td>0.480194</td>\n",
       "      <td>0.326248</td>\n",
       "      <td>0.331042</td>\n",
       "      <td>0.451729</td>\n",
       "      <td>0.313882</td>\n",
       "    </tr>\n",
       "    <tr>\n",
       "      <th>num_of_passengers</th>\n",
       "      <td>0.000894</td>\n",
       "      <td>0.002371</td>\n",
       "      <td>1.000000</td>\n",
       "      <td>0.002879</td>\n",
       "      <td>-0.010762</td>\n",
       "      <td>0.001302</td>\n",
       "      <td>0.001601</td>\n",
       "      <td>0.001794</td>\n",
       "    </tr>\n",
       "    <tr>\n",
       "      <th>fare</th>\n",
       "      <td>0.469531</td>\n",
       "      <td>0.480194</td>\n",
       "      <td>0.002879</td>\n",
       "      <td>1.000000</td>\n",
       "      <td>0.174913</td>\n",
       "      <td>0.154466</td>\n",
       "      <td>0.973001</td>\n",
       "      <td>0.162580</td>\n",
       "    </tr>\n",
       "    <tr>\n",
       "      <th>tip</th>\n",
       "      <td>0.289605</td>\n",
       "      <td>0.326248</td>\n",
       "      <td>-0.010762</td>\n",
       "      <td>0.174913</td>\n",
       "      <td>1.000000</td>\n",
       "      <td>0.357779</td>\n",
       "      <td>0.308182</td>\n",
       "      <td>0.353197</td>\n",
       "    </tr>\n",
       "    <tr>\n",
       "      <th>miscellaneous_fees</th>\n",
       "      <td>0.295894</td>\n",
       "      <td>0.331042</td>\n",
       "      <td>0.001302</td>\n",
       "      <td>0.154466</td>\n",
       "      <td>0.357779</td>\n",
       "      <td>1.000000</td>\n",
       "      <td>0.280259</td>\n",
       "      <td>0.893423</td>\n",
       "    </tr>\n",
       "    <tr>\n",
       "      <th>total_fare</th>\n",
       "      <td>0.435204</td>\n",
       "      <td>0.451729</td>\n",
       "      <td>0.001601</td>\n",
       "      <td>0.973001</td>\n",
       "      <td>0.308182</td>\n",
       "      <td>0.280259</td>\n",
       "      <td>1.000000</td>\n",
       "      <td>0.274238</td>\n",
       "    </tr>\n",
       "    <tr>\n",
       "      <th>surge_applied</th>\n",
       "      <td>0.309996</td>\n",
       "      <td>0.313882</td>\n",
       "      <td>0.001794</td>\n",
       "      <td>0.162580</td>\n",
       "      <td>0.353197</td>\n",
       "      <td>0.893423</td>\n",
       "      <td>0.274238</td>\n",
       "      <td>1.000000</td>\n",
       "    </tr>\n",
       "  </tbody>\n",
       "</table>\n",
       "</div>"
      ],
      "text/plain": [
       "                    trip_duration  distance_traveled  num_of_passengers  \\\n",
       "trip_duration            1.000000           0.752292           0.000894   \n",
       "distance_traveled        0.752292           1.000000           0.002371   \n",
       "num_of_passengers        0.000894           0.002371           1.000000   \n",
       "fare                     0.469531           0.480194           0.002879   \n",
       "tip                      0.289605           0.326248          -0.010762   \n",
       "miscellaneous_fees       0.295894           0.331042           0.001302   \n",
       "total_fare               0.435204           0.451729           0.001601   \n",
       "surge_applied            0.309996           0.313882           0.001794   \n",
       "\n",
       "                        fare       tip  miscellaneous_fees  total_fare  \\\n",
       "trip_duration       0.469531  0.289605            0.295894    0.435204   \n",
       "distance_traveled   0.480194  0.326248            0.331042    0.451729   \n",
       "num_of_passengers   0.002879 -0.010762            0.001302    0.001601   \n",
       "fare                1.000000  0.174913            0.154466    0.973001   \n",
       "tip                 0.174913  1.000000            0.357779    0.308182   \n",
       "miscellaneous_fees  0.154466  0.357779            1.000000    0.280259   \n",
       "total_fare          0.973001  0.308182            0.280259    1.000000   \n",
       "surge_applied       0.162580  0.353197            0.893423    0.274238   \n",
       "\n",
       "                    surge_applied  \n",
       "trip_duration            0.309996  \n",
       "distance_traveled        0.313882  \n",
       "num_of_passengers        0.001794  \n",
       "fare                     0.162580  \n",
       "tip                      0.353197  \n",
       "miscellaneous_fees       0.893423  \n",
       "total_fare               0.274238  \n",
       "surge_applied            1.000000  "
      ]
     },
     "execution_count": 69,
     "metadata": {},
     "output_type": "execute_result"
    }
   ],
   "source": [
    "df_new.corr()"
   ]
  },
  {
   "cell_type": "code",
   "execution_count": 147,
   "id": "677bc5d6",
   "metadata": {},
   "outputs": [],
   "source": [
    "x1=df_new.drop(['total_fare','num_of_passengers'],axis=1)\n",
    "y1=df_new['total_fare']"
   ]
  },
  {
   "cell_type": "code",
   "execution_count": 148,
   "id": "4dc1fead",
   "metadata": {},
   "outputs": [],
   "source": [
    "from sklearn.model_selection import train_test_split\n",
    "x1_train,x1_test,y1_train,y1_test = train_test_split(x1,y1,test_size=.3)"
   ]
  },
  {
   "cell_type": "code",
   "execution_count": 149,
   "id": "a3a57678",
   "metadata": {},
   "outputs": [
    {
     "data": {
      "text/html": [
       "<style>#sk-container-id-5 {color: black;background-color: white;}#sk-container-id-5 pre{padding: 0;}#sk-container-id-5 div.sk-toggleable {background-color: white;}#sk-container-id-5 label.sk-toggleable__label {cursor: pointer;display: block;width: 100%;margin-bottom: 0;padding: 0.3em;box-sizing: border-box;text-align: center;}#sk-container-id-5 label.sk-toggleable__label-arrow:before {content: \"▸\";float: left;margin-right: 0.25em;color: #696969;}#sk-container-id-5 label.sk-toggleable__label-arrow:hover:before {color: black;}#sk-container-id-5 div.sk-estimator:hover label.sk-toggleable__label-arrow:before {color: black;}#sk-container-id-5 div.sk-toggleable__content {max-height: 0;max-width: 0;overflow: hidden;text-align: left;background-color: #f0f8ff;}#sk-container-id-5 div.sk-toggleable__content pre {margin: 0.2em;color: black;border-radius: 0.25em;background-color: #f0f8ff;}#sk-container-id-5 input.sk-toggleable__control:checked~div.sk-toggleable__content {max-height: 200px;max-width: 100%;overflow: auto;}#sk-container-id-5 input.sk-toggleable__control:checked~label.sk-toggleable__label-arrow:before {content: \"▾\";}#sk-container-id-5 div.sk-estimator input.sk-toggleable__control:checked~label.sk-toggleable__label {background-color: #d4ebff;}#sk-container-id-5 div.sk-label input.sk-toggleable__control:checked~label.sk-toggleable__label {background-color: #d4ebff;}#sk-container-id-5 input.sk-hidden--visually {border: 0;clip: rect(1px 1px 1px 1px);clip: rect(1px, 1px, 1px, 1px);height: 1px;margin: -1px;overflow: hidden;padding: 0;position: absolute;width: 1px;}#sk-container-id-5 div.sk-estimator {font-family: monospace;background-color: #f0f8ff;border: 1px dotted black;border-radius: 0.25em;box-sizing: border-box;margin-bottom: 0.5em;}#sk-container-id-5 div.sk-estimator:hover {background-color: #d4ebff;}#sk-container-id-5 div.sk-parallel-item::after {content: \"\";width: 100%;border-bottom: 1px solid gray;flex-grow: 1;}#sk-container-id-5 div.sk-label:hover label.sk-toggleable__label {background-color: #d4ebff;}#sk-container-id-5 div.sk-serial::before {content: \"\";position: absolute;border-left: 1px solid gray;box-sizing: border-box;top: 0;bottom: 0;left: 50%;z-index: 0;}#sk-container-id-5 div.sk-serial {display: flex;flex-direction: column;align-items: center;background-color: white;padding-right: 0.2em;padding-left: 0.2em;position: relative;}#sk-container-id-5 div.sk-item {position: relative;z-index: 1;}#sk-container-id-5 div.sk-parallel {display: flex;align-items: stretch;justify-content: center;background-color: white;position: relative;}#sk-container-id-5 div.sk-item::before, #sk-container-id-5 div.sk-parallel-item::before {content: \"\";position: absolute;border-left: 1px solid gray;box-sizing: border-box;top: 0;bottom: 0;left: 50%;z-index: -1;}#sk-container-id-5 div.sk-parallel-item {display: flex;flex-direction: column;z-index: 1;position: relative;background-color: white;}#sk-container-id-5 div.sk-parallel-item:first-child::after {align-self: flex-end;width: 50%;}#sk-container-id-5 div.sk-parallel-item:last-child::after {align-self: flex-start;width: 50%;}#sk-container-id-5 div.sk-parallel-item:only-child::after {width: 0;}#sk-container-id-5 div.sk-dashed-wrapped {border: 1px dashed gray;margin: 0 0.4em 0.5em 0.4em;box-sizing: border-box;padding-bottom: 0.4em;background-color: white;}#sk-container-id-5 div.sk-label label {font-family: monospace;font-weight: bold;display: inline-block;line-height: 1.2em;}#sk-container-id-5 div.sk-label-container {text-align: center;}#sk-container-id-5 div.sk-container {/* jupyter's `normalize.less` sets `[hidden] { display: none; }` but bootstrap.min.css set `[hidden] { display: none !important; }` so we also need the `!important` here to be able to override the default hidden behavior on the sphinx rendered scikit-learn.org. See: https://github.com/scikit-learn/scikit-learn/issues/21755 */display: inline-block !important;position: relative;}#sk-container-id-5 div.sk-text-repr-fallback {display: none;}</style><div id=\"sk-container-id-5\" class=\"sk-top-container\"><div class=\"sk-text-repr-fallback\"><pre>LinearRegression()</pre><b>In a Jupyter environment, please rerun this cell to show the HTML representation or trust the notebook. <br />On GitHub, the HTML representation is unable to render, please try loading this page with nbviewer.org.</b></div><div class=\"sk-container\" hidden><div class=\"sk-item\"><div class=\"sk-estimator sk-toggleable\"><input class=\"sk-toggleable__control sk-hidden--visually\" id=\"sk-estimator-id-5\" type=\"checkbox\" checked><label for=\"sk-estimator-id-5\" class=\"sk-toggleable__label sk-toggleable__label-arrow\">LinearRegression</label><div class=\"sk-toggleable__content\"><pre>LinearRegression()</pre></div></div></div></div></div>"
      ],
      "text/plain": [
       "LinearRegression()"
      ]
     },
     "execution_count": 149,
     "metadata": {},
     "output_type": "execute_result"
    }
   ],
   "source": [
    "from sklearn.linear_model import LinearRegression\n",
    "model = LinearRegression()\n",
    "model.fit(x1_train,y1_train)"
   ]
  },
  {
   "cell_type": "code",
   "execution_count": 150,
   "id": "60c494f3",
   "metadata": {},
   "outputs": [],
   "source": [
    "y_pred = model.predict(x1_test)"
   ]
  },
  {
   "cell_type": "code",
   "execution_count": 151,
   "id": "387dcf45",
   "metadata": {},
   "outputs": [
    {
     "name": "stdout",
     "output_type": "stream",
     "text": [
      "0.000703770699441613\n",
      "0.9819772493678306\n"
     ]
    }
   ],
   "source": [
    "from sklearn.metrics import mean_squared_error,r2_score\n",
    "mse = mean_squared_error(y1_test,y_pred)\n",
    "print(mse)\n",
    "r2 = r2_score(y1_test,y_pred)\n",
    "print(r2)"
   ]
  },
  {
   "cell_type": "code",
   "execution_count": 152,
   "id": "e5beb3ab",
   "metadata": {},
   "outputs": [
    {
     "name": "stdout",
     "output_type": "stream",
     "text": [
      "2.3859087771480883e-06\n",
      "0.9999388996459276\n"
     ]
    }
   ],
   "source": [
    "from sklearn.ensemble import RandomForestRegressor\n",
    "model = RandomForestRegressor()\n",
    "model.fit(x1_train,y1_train)\n",
    "y_pred = model.predict(x1_test)\n",
    "from sklearn.metrics import mean_squared_error,r2_score\n",
    "mse = mean_squared_error(y1_test,y_pred)\n",
    "print(mse)\n",
    "r2 = r2_score(y1_test,y_pred)\n",
    "print(r2)"
   ]
  },
  {
   "cell_type": "code",
   "execution_count": 153,
   "id": "69737199",
   "metadata": {},
   "outputs": [
    {
     "name": "stdout",
     "output_type": "stream",
     "text": [
      "2.667240210221236e-06\n",
      "0.9999316950745135\n"
     ]
    }
   ],
   "source": [
    "from xgboost import XGBRegressor\n",
    "model = XGBRegressor()\n",
    "model.fit(x1_train,y1_train)\n",
    "y_pred = model.predict(x1_test)\n",
    "from sklearn.metrics import mean_squared_error,r2_score\n",
    "mse = mean_squared_error(y1_test,y_pred)\n",
    "print(mse)\n",
    "r2 = r2_score(y1_test,y_pred)\n",
    "print(r2)"
   ]
  },
  {
   "cell_type": "code",
   "execution_count": 154,
   "id": "01fe3042",
   "metadata": {},
   "outputs": [
    {
     "name": "stdout",
     "output_type": "stream",
     "text": [
      "2.330884612874482e-06\n",
      "0.9999403087508992\n"
     ]
    }
   ],
   "source": [
    "from sklearn.ensemble import RandomForestRegressor\n",
    "model = RandomForestRegressor()\n",
    "model.fit(x1_train,y1_train)\n",
    "y_pred = model.predict(x1_test)\n",
    "from sklearn.metrics import mean_squared_error,r2_score\n",
    "mse = mean_squared_error(y1_test,y_pred)\n",
    "print(mse)\n",
    "r2 = r2_score(y1_test,y_pred)\n",
    "print(r2)"
   ]
  },
  {
   "cell_type": "code",
   "execution_count": null,
   "id": "04672a0a",
   "metadata": {},
   "outputs": [],
   "source": []
  }
 ],
 "metadata": {
  "kernelspec": {
   "display_name": "Python 3 (ipykernel)",
   "language": "python",
   "name": "python3"
  },
  "language_info": {
   "codemirror_mode": {
    "name": "ipython",
    "version": 3
   },
   "file_extension": ".py",
   "mimetype": "text/x-python",
   "name": "python",
   "nbconvert_exporter": "python",
   "pygments_lexer": "ipython3",
   "version": "3.10.6"
  }
 },
 "nbformat": 4,
 "nbformat_minor": 5
}
