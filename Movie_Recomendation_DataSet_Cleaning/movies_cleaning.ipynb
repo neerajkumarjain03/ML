{
 "cells": [
  {
   "cell_type": "code",
   "execution_count": 1,
   "id": "5fe116f1",
   "metadata": {},
   "outputs": [],
   "source": [
    "import numpy as np\n",
    "import pandas as pd\n",
    "import matplotlib.pyplot as plt\n",
    "import seaborn as sns"
   ]
  },
  {
   "cell_type": "code",
   "execution_count": 2,
   "id": "3658d6cb",
   "metadata": {},
   "outputs": [],
   "source": [
    "df = pd.read_csv(\"/home/neeraj/Documents/DATASET/movies_cleaning/movies.csv\")"
   ]
  },
  {
   "cell_type": "code",
   "execution_count": 3,
   "id": "8343e46f",
   "metadata": {},
   "outputs": [
    {
     "data": {
      "text/html": [
       "<div>\n",
       "<style scoped>\n",
       "    .dataframe tbody tr th:only-of-type {\n",
       "        vertical-align: middle;\n",
       "    }\n",
       "\n",
       "    .dataframe tbody tr th {\n",
       "        vertical-align: top;\n",
       "    }\n",
       "\n",
       "    .dataframe thead th {\n",
       "        text-align: right;\n",
       "    }\n",
       "</style>\n",
       "<table border=\"1\" class=\"dataframe\">\n",
       "  <thead>\n",
       "    <tr style=\"text-align: right;\">\n",
       "      <th></th>\n",
       "      <th>MOVIES</th>\n",
       "      <th>YEAR</th>\n",
       "      <th>GENRE</th>\n",
       "      <th>RATING</th>\n",
       "      <th>ONE-LINE</th>\n",
       "      <th>STARS</th>\n",
       "      <th>VOTES</th>\n",
       "      <th>RunTime</th>\n",
       "      <th>Gross</th>\n",
       "    </tr>\n",
       "  </thead>\n",
       "  <tbody>\n",
       "    <tr>\n",
       "      <th>0</th>\n",
       "      <td>Blood Red Sky</td>\n",
       "      <td>(2021)</td>\n",
       "      <td>\\nAction, Horror, Thriller</td>\n",
       "      <td>6.1</td>\n",
       "      <td>\\nA woman with a mysterious illness is forced ...</td>\n",
       "      <td>\\n    Director:\\nPeter Thorwarth\\n| \\n    Star...</td>\n",
       "      <td>21,062</td>\n",
       "      <td>121.0</td>\n",
       "      <td>NaN</td>\n",
       "    </tr>\n",
       "    <tr>\n",
       "      <th>1</th>\n",
       "      <td>Masters of the Universe: Revelation</td>\n",
       "      <td>(2021– )</td>\n",
       "      <td>\\nAnimation, Action, Adventure</td>\n",
       "      <td>5.0</td>\n",
       "      <td>\\nThe war for Eternia begins again in what may...</td>\n",
       "      <td>\\n            \\n    Stars:\\nChris Wood, \\nSara...</td>\n",
       "      <td>17,870</td>\n",
       "      <td>25.0</td>\n",
       "      <td>NaN</td>\n",
       "    </tr>\n",
       "    <tr>\n",
       "      <th>2</th>\n",
       "      <td>The Walking Dead</td>\n",
       "      <td>(2010–2022)</td>\n",
       "      <td>\\nDrama, Horror, Thriller</td>\n",
       "      <td>8.2</td>\n",
       "      <td>\\nSheriff Deputy Rick Grimes wakes up from a c...</td>\n",
       "      <td>\\n            \\n    Stars:\\nAndrew Lincoln, \\n...</td>\n",
       "      <td>885,805</td>\n",
       "      <td>44.0</td>\n",
       "      <td>NaN</td>\n",
       "    </tr>\n",
       "    <tr>\n",
       "      <th>3</th>\n",
       "      <td>Rick and Morty</td>\n",
       "      <td>(2013– )</td>\n",
       "      <td>\\nAnimation, Adventure, Comedy</td>\n",
       "      <td>9.2</td>\n",
       "      <td>\\nAn animated series that follows the exploits...</td>\n",
       "      <td>\\n            \\n    Stars:\\nJustin Roiland, \\n...</td>\n",
       "      <td>414,849</td>\n",
       "      <td>23.0</td>\n",
       "      <td>NaN</td>\n",
       "    </tr>\n",
       "    <tr>\n",
       "      <th>4</th>\n",
       "      <td>Army of Thieves</td>\n",
       "      <td>(2021)</td>\n",
       "      <td>\\nAction, Crime, Horror</td>\n",
       "      <td>NaN</td>\n",
       "      <td>\\nA prequel, set before the events of Army of ...</td>\n",
       "      <td>\\n    Director:\\nMatthias Schweighöfer\\n| \\n  ...</td>\n",
       "      <td>NaN</td>\n",
       "      <td>NaN</td>\n",
       "      <td>NaN</td>\n",
       "    </tr>\n",
       "  </tbody>\n",
       "</table>\n",
       "</div>"
      ],
      "text/plain": [
       "                                MOVIES         YEAR  \\\n",
       "0                        Blood Red Sky       (2021)   \n",
       "1  Masters of the Universe: Revelation     (2021– )   \n",
       "2                     The Walking Dead  (2010–2022)   \n",
       "3                       Rick and Morty     (2013– )   \n",
       "4                      Army of Thieves       (2021)   \n",
       "\n",
       "                                        GENRE  RATING  \\\n",
       "0      \\nAction, Horror, Thriller                 6.1   \n",
       "1  \\nAnimation, Action, Adventure                 5.0   \n",
       "2       \\nDrama, Horror, Thriller                 8.2   \n",
       "3  \\nAnimation, Adventure, Comedy                 9.2   \n",
       "4         \\nAction, Crime, Horror                 NaN   \n",
       "\n",
       "                                            ONE-LINE  \\\n",
       "0  \\nA woman with a mysterious illness is forced ...   \n",
       "1  \\nThe war for Eternia begins again in what may...   \n",
       "2  \\nSheriff Deputy Rick Grimes wakes up from a c...   \n",
       "3  \\nAn animated series that follows the exploits...   \n",
       "4  \\nA prequel, set before the events of Army of ...   \n",
       "\n",
       "                                               STARS    VOTES  RunTime Gross  \n",
       "0  \\n    Director:\\nPeter Thorwarth\\n| \\n    Star...   21,062    121.0   NaN  \n",
       "1  \\n            \\n    Stars:\\nChris Wood, \\nSara...   17,870     25.0   NaN  \n",
       "2  \\n            \\n    Stars:\\nAndrew Lincoln, \\n...  885,805     44.0   NaN  \n",
       "3  \\n            \\n    Stars:\\nJustin Roiland, \\n...  414,849     23.0   NaN  \n",
       "4  \\n    Director:\\nMatthias Schweighöfer\\n| \\n  ...      NaN      NaN   NaN  "
      ]
     },
     "execution_count": 3,
     "metadata": {},
     "output_type": "execute_result"
    }
   ],
   "source": [
    "df.head()"
   ]
  },
  {
   "cell_type": "code",
   "execution_count": 4,
   "id": "ae472e92",
   "metadata": {},
   "outputs": [
    {
     "name": "stdout",
     "output_type": "stream",
     "text": [
      "<class 'pandas.core.frame.DataFrame'>\n",
      "RangeIndex: 9999 entries, 0 to 9998\n",
      "Data columns (total 9 columns):\n",
      " #   Column    Non-Null Count  Dtype  \n",
      "---  ------    --------------  -----  \n",
      " 0   MOVIES    9999 non-null   object \n",
      " 1   YEAR      9355 non-null   object \n",
      " 2   GENRE     9919 non-null   object \n",
      " 3   RATING    8179 non-null   float64\n",
      " 4   ONE-LINE  9999 non-null   object \n",
      " 5   STARS     9999 non-null   object \n",
      " 6   VOTES     8179 non-null   object \n",
      " 7   RunTime   7041 non-null   float64\n",
      " 8   Gross     460 non-null    object \n",
      "dtypes: float64(2), object(7)\n",
      "memory usage: 703.2+ KB\n"
     ]
    }
   ],
   "source": [
    "df.info()"
   ]
  },
  {
   "cell_type": "code",
   "execution_count": 5,
   "id": "b9b37fba",
   "metadata": {},
   "outputs": [
    {
     "data": {
      "text/plain": [
       " Bleach: Burîchi                         65\n",
       " Mighty Little Bheem                     64\n",
       " Avatar: The Last Airbender              61\n",
       " La Reina de Indias y el Conquistador    60\n",
       " Dexter                                  48\n",
       "                                         ..\n",
       "Ashby                                     1\n",
       "Syucheu                                   1\n",
       "#Realityhigh                              1\n",
       "Eobiseu                                   1\n",
       " Heart of Invictus                        1\n",
       "Name: MOVIES, Length: 6817, dtype: int64"
      ]
     },
     "execution_count": 5,
     "metadata": {},
     "output_type": "execute_result"
    }
   ],
   "source": [
    "df['MOVIES'].value_counts()"
   ]
  },
  {
   "cell_type": "code",
   "execution_count": 6,
   "id": "29b0a876",
   "metadata": {},
   "outputs": [
    {
     "data": {
      "text/html": [
       "<div>\n",
       "<style scoped>\n",
       "    .dataframe tbody tr th:only-of-type {\n",
       "        vertical-align: middle;\n",
       "    }\n",
       "\n",
       "    .dataframe tbody tr th {\n",
       "        vertical-align: top;\n",
       "    }\n",
       "\n",
       "    .dataframe thead th {\n",
       "        text-align: right;\n",
       "    }\n",
       "</style>\n",
       "<table border=\"1\" class=\"dataframe\">\n",
       "  <thead>\n",
       "    <tr style=\"text-align: right;\">\n",
       "      <th></th>\n",
       "      <th>MOVIES</th>\n",
       "      <th>YEAR</th>\n",
       "      <th>GENRE</th>\n",
       "      <th>RATING</th>\n",
       "      <th>ONE-LINE</th>\n",
       "      <th>STARS</th>\n",
       "      <th>VOTES</th>\n",
       "      <th>RunTime</th>\n",
       "      <th>Gross</th>\n",
       "    </tr>\n",
       "  </thead>\n",
       "  <tbody>\n",
       "    <tr>\n",
       "      <th>7</th>\n",
       "      <td>Dexter</td>\n",
       "      <td>(2006–2013)</td>\n",
       "      <td>\\nCrime, Drama, Mystery</td>\n",
       "      <td>8.6</td>\n",
       "      <td>\\nBy day, mild-mannered Dexter is a blood-spat...</td>\n",
       "      <td>\\n            \\n    Stars:\\nMichael C. Hall, \\...</td>\n",
       "      <td>665,387</td>\n",
       "      <td>53.0</td>\n",
       "      <td>NaN</td>\n",
       "    </tr>\n",
       "    <tr>\n",
       "      <th>6503</th>\n",
       "      <td>Dexter</td>\n",
       "      <td>(2006–2013)</td>\n",
       "      <td>\\nCrime, Drama, Mystery</td>\n",
       "      <td>8.3</td>\n",
       "      <td>\\nDexter's world is rocked when a rival serial...</td>\n",
       "      <td>\\n    Director:\\nMichael Cuesta\\n| \\n    Stars...</td>\n",
       "      <td>5,581</td>\n",
       "      <td>55.0</td>\n",
       "      <td>NaN</td>\n",
       "    </tr>\n",
       "    <tr>\n",
       "      <th>6518</th>\n",
       "      <td>Dexter</td>\n",
       "      <td>(2006–2013)</td>\n",
       "      <td>\\nCrime, Drama, Mystery</td>\n",
       "      <td>8.8</td>\n",
       "      <td>\\nDexter's world is rocked when a rival serial...</td>\n",
       "      <td>\\n    Director:\\nMichael Cuesta\\n| \\n    Stars...</td>\n",
       "      <td>7,943</td>\n",
       "      <td>53.0</td>\n",
       "      <td>NaN</td>\n",
       "    </tr>\n",
       "    <tr>\n",
       "      <th>6533</th>\n",
       "      <td>Dexter</td>\n",
       "      <td>(2006–2013)</td>\n",
       "      <td>\\nCrime, Drama, Mystery</td>\n",
       "      <td>8.5</td>\n",
       "      <td>\\nThe Homicide Division is buzzing after the I...</td>\n",
       "      <td>\\n    Director:\\nRobert Lieberman\\n| \\n    Sta...</td>\n",
       "      <td>4,909</td>\n",
       "      <td>56.0</td>\n",
       "      <td>NaN</td>\n",
       "    </tr>\n",
       "    <tr>\n",
       "      <th>6535</th>\n",
       "      <td>Dexter</td>\n",
       "      <td>(2006–2013)</td>\n",
       "      <td>\\nCrime, Drama, Mystery</td>\n",
       "      <td>8.7</td>\n",
       "      <td>\\nThe Ice Truck Killer begins leaving body par...</td>\n",
       "      <td>\\n    Director:\\nRobert Lieberman\\n| \\n    Sta...</td>\n",
       "      <td>5,116</td>\n",
       "      <td>58.0</td>\n",
       "      <td>NaN</td>\n",
       "    </tr>\n",
       "    <tr>\n",
       "      <th>6539</th>\n",
       "      <td>Dexter</td>\n",
       "      <td>(2006–2013)</td>\n",
       "      <td>\\nCrime, Drama, Mystery</td>\n",
       "      <td>8.4</td>\n",
       "      <td>\\nDexter and Debra try to dissuade their boss ...</td>\n",
       "      <td>\\n    Director:\\nMichael Cuesta\\n| \\n    Stars...</td>\n",
       "      <td>5,212</td>\n",
       "      <td>51.0</td>\n",
       "      <td>NaN</td>\n",
       "    </tr>\n",
       "    <tr>\n",
       "      <th>6545</th>\n",
       "      <td>Dexter</td>\n",
       "      <td>(2006–2013)</td>\n",
       "      <td>\\nCrime, Drama, Mystery</td>\n",
       "      <td>9.0</td>\n",
       "      <td>\\nThe Ice Truck Killer leaves Dexter a surpris...</td>\n",
       "      <td>\\n    Director:\\nTony Goldwyn\\n| \\n    Stars:\\...</td>\n",
       "      <td>5,138</td>\n",
       "      <td>53.0</td>\n",
       "      <td>NaN</td>\n",
       "    </tr>\n",
       "    <tr>\n",
       "      <th>6619</th>\n",
       "      <td>Dexter</td>\n",
       "      <td>(2006–2013)</td>\n",
       "      <td>\\nCrime, Drama, Mystery</td>\n",
       "      <td>8.7</td>\n",
       "      <td>\\nThe Ice Truck Killer is finally identified, ...</td>\n",
       "      <td>\\n    Director:\\nSteve Shill\\n| \\n    Stars:\\n...</td>\n",
       "      <td>4,791</td>\n",
       "      <td>52.0</td>\n",
       "      <td>NaN</td>\n",
       "    </tr>\n",
       "    <tr>\n",
       "      <th>6620</th>\n",
       "      <td>Dexter</td>\n",
       "      <td>(2006–2013)</td>\n",
       "      <td>\\nCrime, Drama, Mystery</td>\n",
       "      <td>9.0</td>\n",
       "      <td>\\nThe strange suicide of a powerful woman lead...</td>\n",
       "      <td>\\n    Director:\\nTony Goldwyn\\n| \\n    Stars:\\...</td>\n",
       "      <td>5,188</td>\n",
       "      <td>53.0</td>\n",
       "      <td>NaN</td>\n",
       "    </tr>\n",
       "    <tr>\n",
       "      <th>6622</th>\n",
       "      <td>Dexter</td>\n",
       "      <td>(2006–2013)</td>\n",
       "      <td>\\nCrime, Drama, Mystery</td>\n",
       "      <td>8.6</td>\n",
       "      <td>\\nDexter is joined by Rita, Debra and Rudy for...</td>\n",
       "      <td>\\n    Director:\\nAdam Davidson\\n| \\n    Stars:...</td>\n",
       "      <td>4,659</td>\n",
       "      <td>55.0</td>\n",
       "      <td>NaN</td>\n",
       "    </tr>\n",
       "    <tr>\n",
       "      <th>6623</th>\n",
       "      <td>Dexter</td>\n",
       "      <td>(2006–2013)</td>\n",
       "      <td>\\nCrime, Drama, Mystery</td>\n",
       "      <td>9.2</td>\n",
       "      <td>\\nThe Ice Truck Killer leaves Dexter the most ...</td>\n",
       "      <td>\\n    Director:\\nMichael Cuesta\\n| \\n    Stars...</td>\n",
       "      <td>5,255</td>\n",
       "      <td>56.0</td>\n",
       "      <td>NaN</td>\n",
       "    </tr>\n",
       "    <tr>\n",
       "      <th>6624</th>\n",
       "      <td>Dexter</td>\n",
       "      <td>(2006–2013)</td>\n",
       "      <td>\\nCrime, Drama, Mystery</td>\n",
       "      <td>9.3</td>\n",
       "      <td>\\nThe Ice Truck Killer kidnaps someone close t...</td>\n",
       "      <td>\\n    Director:\\nKeith Gordon\\n| \\n    Stars:\\...</td>\n",
       "      <td>5,369</td>\n",
       "      <td>54.0</td>\n",
       "      <td>NaN</td>\n",
       "    </tr>\n",
       "    <tr>\n",
       "      <th>6626</th>\n",
       "      <td>Dexter</td>\n",
       "      <td>(2006–2013)</td>\n",
       "      <td>\\nCrime, Drama, Mystery</td>\n",
       "      <td>9.6</td>\n",
       "      <td>\\nIn the Season One finale, Dexter follows the...</td>\n",
       "      <td>\\n    Director:\\nMichael Cuesta\\n| \\n    Stars...</td>\n",
       "      <td>8,434</td>\n",
       "      <td>56.0</td>\n",
       "      <td>NaN</td>\n",
       "    </tr>\n",
       "    <tr>\n",
       "      <th>6792</th>\n",
       "      <td>Dexter</td>\n",
       "      <td>(2006–2013)</td>\n",
       "      <td>\\nCrime, Drama, Mystery</td>\n",
       "      <td>8.8</td>\n",
       "      <td>\\nIn the Season Two premiere, Dexter finds him...</td>\n",
       "      <td>\\n    Director:\\nTony Goldwyn\\n| \\n    Stars:\\...</td>\n",
       "      <td>4,744</td>\n",
       "      <td>53.0</td>\n",
       "      <td>NaN</td>\n",
       "    </tr>\n",
       "    <tr>\n",
       "      <th>6793</th>\n",
       "      <td>Dexter</td>\n",
       "      <td>(2006–2013)</td>\n",
       "      <td>\\nCrime, Drama, Mystery</td>\n",
       "      <td>9.0</td>\n",
       "      <td>\\nDexter's world comes crumbling down when Doa...</td>\n",
       "      <td>\\n    Director:\\nSteve Shill\\n| \\n    Stars:\\n...</td>\n",
       "      <td>4,213</td>\n",
       "      <td>55.0</td>\n",
       "      <td>NaN</td>\n",
       "    </tr>\n",
       "    <tr>\n",
       "      <th>6794</th>\n",
       "      <td>Dexter</td>\n",
       "      <td>(2006–2013)</td>\n",
       "      <td>\\nCrime, Drama, Mystery</td>\n",
       "      <td>9.0</td>\n",
       "      <td>\\nDexter dodges bullets both figurative and re...</td>\n",
       "      <td>\\n    Director:\\nMarcos Siega\\n| \\n    Stars:\\...</td>\n",
       "      <td>4,210</td>\n",
       "      <td>51.0</td>\n",
       "      <td>NaN</td>\n",
       "    </tr>\n",
       "    <tr>\n",
       "      <th>6795</th>\n",
       "      <td>Dexter</td>\n",
       "      <td>(2006–2013)</td>\n",
       "      <td>\\nCrime, Drama, Mystery</td>\n",
       "      <td>9.2</td>\n",
       "      <td>\\nIn the Season Two finale, Lundy and the FBI ...</td>\n",
       "      <td>\\n    Director:\\nSteve Shill\\n| \\n    Stars:\\n...</td>\n",
       "      <td>5,115</td>\n",
       "      <td>51.0</td>\n",
       "      <td>NaN</td>\n",
       "    </tr>\n",
       "    <tr>\n",
       "      <th>6796</th>\n",
       "      <td>Dexter</td>\n",
       "      <td>(2006–2013)</td>\n",
       "      <td>\\nCrime, Drama, Mystery</td>\n",
       "      <td>8.6</td>\n",
       "      <td>\\nDexter remains on the trail of a dangerous n...</td>\n",
       "      <td>\\n    Director:\\nMarcos Siega\\n| \\n    Stars:\\...</td>\n",
       "      <td>4,324</td>\n",
       "      <td>56.0</td>\n",
       "      <td>NaN</td>\n",
       "    </tr>\n",
       "    <tr>\n",
       "      <th>6797</th>\n",
       "      <td>Dexter</td>\n",
       "      <td>(2006–2013)</td>\n",
       "      <td>\\nCrime, Drama, Mystery</td>\n",
       "      <td>8.7</td>\n",
       "      <td>\\nDexter's inability to deceive has him pursui...</td>\n",
       "      <td>\\n    Director:\\nTony Goldwyn\\n| \\n    Stars:\\...</td>\n",
       "      <td>4,287</td>\n",
       "      <td>52.0</td>\n",
       "      <td>NaN</td>\n",
       "    </tr>\n",
       "    <tr>\n",
       "      <th>6798</th>\n",
       "      <td>Dexter</td>\n",
       "      <td>(2006–2013)</td>\n",
       "      <td>\\nCrime, Drama, Mystery</td>\n",
       "      <td>8.4</td>\n",
       "      <td>\\nRita finds herself threatened by Dexter's se...</td>\n",
       "      <td>\\n    Director:\\nNick Gomez\\n| \\n    Stars:\\nM...</td>\n",
       "      <td>4,105</td>\n",
       "      <td>53.0</td>\n",
       "      <td>NaN</td>\n",
       "    </tr>\n",
       "    <tr>\n",
       "      <th>6799</th>\n",
       "      <td>Dexter</td>\n",
       "      <td>(2006–2013)</td>\n",
       "      <td>\\nCrime, Drama, Mystery</td>\n",
       "      <td>8.7</td>\n",
       "      <td>\\nDexter discovers that the man is still alive...</td>\n",
       "      <td>\\n    Director:\\nKeith Gordon\\n| \\n    Stars:\\...</td>\n",
       "      <td>4,236</td>\n",
       "      <td>56.0</td>\n",
       "      <td>NaN</td>\n",
       "    </tr>\n",
       "    <tr>\n",
       "      <th>6800</th>\n",
       "      <td>Dexter</td>\n",
       "      <td>(2006–2013)</td>\n",
       "      <td>\\nCrime, Drama, Mystery</td>\n",
       "      <td>8.6</td>\n",
       "      <td>\\nA new copycat killer openly mimics and claim...</td>\n",
       "      <td>\\n    Director:\\nNick Gomez\\n| \\n    Stars:\\nM...</td>\n",
       "      <td>4,105</td>\n",
       "      <td>53.0</td>\n",
       "      <td>NaN</td>\n",
       "    </tr>\n",
       "    <tr>\n",
       "      <th>6801</th>\n",
       "      <td>Dexter</td>\n",
       "      <td>(2006–2013)</td>\n",
       "      <td>\\nCrime, Drama, Mystery</td>\n",
       "      <td>8.8</td>\n",
       "      <td>\\nA written manifesto from the \"Bay Harbor But...</td>\n",
       "      <td>\\n    Director:\\nJeremy Podeswa\\n| \\n    Stars...</td>\n",
       "      <td>4,176</td>\n",
       "      <td>55.0</td>\n",
       "      <td>NaN</td>\n",
       "    </tr>\n",
       "    <tr>\n",
       "      <th>6802</th>\n",
       "      <td>Dexter</td>\n",
       "      <td>(2006–2013)</td>\n",
       "      <td>\\nCrime, Drama, Mystery</td>\n",
       "      <td>9.1</td>\n",
       "      <td>\\nDexter decides that Lila is becoming too att...</td>\n",
       "      <td>\\n    Director:\\nKeith Gordon\\n| \\n    Stars:\\...</td>\n",
       "      <td>4,362</td>\n",
       "      <td>49.0</td>\n",
       "      <td>NaN</td>\n",
       "    </tr>\n",
       "    <tr>\n",
       "      <th>6803</th>\n",
       "      <td>Dexter</td>\n",
       "      <td>(2006–2013)</td>\n",
       "      <td>\\nCrime, Drama, Mystery</td>\n",
       "      <td>9.4</td>\n",
       "      <td>\\nDexter tries to distance himself from Lila, ...</td>\n",
       "      <td>\\n    Director:\\nMarcos Siega\\n| \\n    Stars:\\...</td>\n",
       "      <td>4,870</td>\n",
       "      <td>50.0</td>\n",
       "      <td>NaN</td>\n",
       "    </tr>\n",
       "    <tr>\n",
       "      <th>8674</th>\n",
       "      <td>Dexter</td>\n",
       "      <td>(2006–2013)</td>\n",
       "      <td>\\nCrime, Drama, Mystery</td>\n",
       "      <td>8.3</td>\n",
       "      <td>\\nIn the Season Three premiere, Dexter's life ...</td>\n",
       "      <td>\\n    Director:\\nKeith Gordon\\n| \\n    Stars:\\...</td>\n",
       "      <td>4,061</td>\n",
       "      <td>58.0</td>\n",
       "      <td>NaN</td>\n",
       "    </tr>\n",
       "    <tr>\n",
       "      <th>8675</th>\n",
       "      <td>Dexter</td>\n",
       "      <td>(2006–2013)</td>\n",
       "      <td>\\nCrime, Drama, Mystery</td>\n",
       "      <td>9.0</td>\n",
       "      <td>\\nA series of chess-like moves ensues when Dex...</td>\n",
       "      <td>\\n    Director:\\nJohn Dahl\\n| \\n    Stars:\\nMi...</td>\n",
       "      <td>3,906</td>\n",
       "      <td>50.0</td>\n",
       "      <td>NaN</td>\n",
       "    </tr>\n",
       "    <tr>\n",
       "      <th>8676</th>\n",
       "      <td>Dexter</td>\n",
       "      <td>(2006–2013)</td>\n",
       "      <td>\\nCrime, Drama, Mystery</td>\n",
       "      <td>8.9</td>\n",
       "      <td>\\nDexter must find a way to get rid of Miguel ...</td>\n",
       "      <td>\\n    Director:\\nMarcos Siega\\n| \\n    Stars:\\...</td>\n",
       "      <td>3,745</td>\n",
       "      <td>51.0</td>\n",
       "      <td>NaN</td>\n",
       "    </tr>\n",
       "    <tr>\n",
       "      <th>8677</th>\n",
       "      <td>Dexter</td>\n",
       "      <td>(2006–2013)</td>\n",
       "      <td>\\nCrime, Drama, Mystery</td>\n",
       "      <td>8.9</td>\n",
       "      <td>\\nIn the Season Three finale, Dexter attempts ...</td>\n",
       "      <td>\\n    Director:\\nKeith Gordon\\n| \\n    Stars:\\...</td>\n",
       "      <td>4,031</td>\n",
       "      <td>51.0</td>\n",
       "      <td>NaN</td>\n",
       "    </tr>\n",
       "    <tr>\n",
       "      <th>8678</th>\n",
       "      <td>Dexter</td>\n",
       "      <td>(2006–2013)</td>\n",
       "      <td>\\nCrime, Drama, Mystery</td>\n",
       "      <td>8.4</td>\n",
       "      <td>\\nDexter catches up with Freebo, but once agai...</td>\n",
       "      <td>\\n    Director:\\nMarcos Siega\\n| \\n    Stars:\\...</td>\n",
       "      <td>3,807</td>\n",
       "      <td>49.0</td>\n",
       "      <td>NaN</td>\n",
       "    </tr>\n",
       "    <tr>\n",
       "      <th>8679</th>\n",
       "      <td>Dexter</td>\n",
       "      <td>(2006–2013)</td>\n",
       "      <td>\\nCrime, Drama, Mystery</td>\n",
       "      <td>8.2</td>\n",
       "      <td>\\nDexter encounters a fellow predator - but th...</td>\n",
       "      <td>\\n    Director:\\nJohn Dahl\\n| \\n    Stars:\\nMi...</td>\n",
       "      <td>3,685</td>\n",
       "      <td>49.0</td>\n",
       "      <td>NaN</td>\n",
       "    </tr>\n",
       "    <tr>\n",
       "      <th>8680</th>\n",
       "      <td>Dexter</td>\n",
       "      <td>(2006–2013)</td>\n",
       "      <td>\\nCrime, Drama, Mystery</td>\n",
       "      <td>8.1</td>\n",
       "      <td>\\nDexter scrambles to convince Rita that his m...</td>\n",
       "      <td>\\n    Director:\\nKeith Gordon\\n| \\n    Stars:\\...</td>\n",
       "      <td>3,651</td>\n",
       "      <td>54.0</td>\n",
       "      <td>NaN</td>\n",
       "    </tr>\n",
       "    <tr>\n",
       "      <th>8681</th>\n",
       "      <td>Dexter</td>\n",
       "      <td>(2006–2013)</td>\n",
       "      <td>\\nCrime, Drama, Mystery</td>\n",
       "      <td>8.5</td>\n",
       "      <td>\\nDexter hears the story of a husband who has ...</td>\n",
       "      <td>\\n    Director:\\nMarcos Siega\\n| \\n    Stars:\\...</td>\n",
       "      <td>3,619</td>\n",
       "      <td>49.0</td>\n",
       "      <td>NaN</td>\n",
       "    </tr>\n",
       "    <tr>\n",
       "      <th>8682</th>\n",
       "      <td>Dexter</td>\n",
       "      <td>(2006–2013)</td>\n",
       "      <td>\\nCrime, Drama, Mystery</td>\n",
       "      <td>8.2</td>\n",
       "      <td>\\nDexter tests Miguel to determine if his frie...</td>\n",
       "      <td>\\n    Director:\\nErnest R. Dickerson\\n| \\n    ...</td>\n",
       "      <td>3,578</td>\n",
       "      <td>54.0</td>\n",
       "      <td>NaN</td>\n",
       "    </tr>\n",
       "    <tr>\n",
       "      <th>8683</th>\n",
       "      <td>Dexter</td>\n",
       "      <td>(2006–2013)</td>\n",
       "      <td>\\nCrime, Drama, Mystery</td>\n",
       "      <td>8.5</td>\n",
       "      <td>\\nDexter begins working with Miguel but they q...</td>\n",
       "      <td>\\n    Director:\\nSteve Shill\\n| \\n    Stars:\\n...</td>\n",
       "      <td>3,688</td>\n",
       "      <td>58.0</td>\n",
       "      <td>NaN</td>\n",
       "    </tr>\n",
       "    <tr>\n",
       "      <th>8684</th>\n",
       "      <td>Dexter</td>\n",
       "      <td>(2006–2013)</td>\n",
       "      <td>\\nCrime, Drama, Mystery</td>\n",
       "      <td>8.6</td>\n",
       "      <td>\\nDexter undertakes to teach Miguel the Code, ...</td>\n",
       "      <td>\\n    Director:\\nMarcos Siega\\n| \\n    Stars:\\...</td>\n",
       "      <td>3,614</td>\n",
       "      <td>54.0</td>\n",
       "      <td>NaN</td>\n",
       "    </tr>\n",
       "    <tr>\n",
       "      <th>8685</th>\n",
       "      <td>Dexter</td>\n",
       "      <td>(2006–2013)</td>\n",
       "      <td>\\nCrime, Drama, Mystery</td>\n",
       "      <td>8.8</td>\n",
       "      <td>\\nDexter and Miguel's friendship becomes strai...</td>\n",
       "      <td>\\n    Director:\\nTim Hunter\\n| \\n    Stars:\\nM...</td>\n",
       "      <td>3,692</td>\n",
       "      <td>51.0</td>\n",
       "      <td>NaN</td>\n",
       "    </tr>\n",
       "    <tr>\n",
       "      <th>9889</th>\n",
       "      <td>Dexter</td>\n",
       "      <td>(2006–2013)</td>\n",
       "      <td>\\nCrime, Drama, Mystery</td>\n",
       "      <td>8.7</td>\n",
       "      <td>\\nIn the Season Four premiere, Dexter sleeples...</td>\n",
       "      <td>\\n    Director:\\nMarcos Siega\\n| \\n    Stars:\\...</td>\n",
       "      <td>4,138</td>\n",
       "      <td>54.0</td>\n",
       "      <td>NaN</td>\n",
       "    </tr>\n",
       "    <tr>\n",
       "      <th>9890</th>\n",
       "      <td>Dexter</td>\n",
       "      <td>(2006–2013)</td>\n",
       "      <td>\\nCrime, Drama, Mystery</td>\n",
       "      <td>9.2</td>\n",
       "      <td>\\nThe disappearance of a ten-year-old boy forc...</td>\n",
       "      <td>\\n    Director:\\nKeith Gordon\\n| \\n    Stars:\\...</td>\n",
       "      <td>4,205</td>\n",
       "      <td>57.0</td>\n",
       "      <td>NaN</td>\n",
       "    </tr>\n",
       "    <tr>\n",
       "      <th>9891</th>\n",
       "      <td>Dexter</td>\n",
       "      <td>(2006–2013)</td>\n",
       "      <td>\\nCrime, Drama, Mystery</td>\n",
       "      <td>9.5</td>\n",
       "      <td>\\nDexter must buy time to protect himself when...</td>\n",
       "      <td>\\n    Director:\\nS.J. Clarkson\\n| \\n    Stars:...</td>\n",
       "      <td>5,437</td>\n",
       "      <td>51.0</td>\n",
       "      <td>NaN</td>\n",
       "    </tr>\n",
       "    <tr>\n",
       "      <th>9892</th>\n",
       "      <td>Dexter</td>\n",
       "      <td>(2006–2013)</td>\n",
       "      <td>\\nCrime, Drama, Mystery</td>\n",
       "      <td>9.8</td>\n",
       "      <td>\\nDexter and Arthur find themselves on a colli...</td>\n",
       "      <td>\\n    Director:\\nSteve Shill\\n| \\n    Stars:\\n...</td>\n",
       "      <td>11,638</td>\n",
       "      <td>51.0</td>\n",
       "      <td>NaN</td>\n",
       "    </tr>\n",
       "    <tr>\n",
       "      <th>9893</th>\n",
       "      <td>Dexter</td>\n",
       "      <td>(2006–2013)</td>\n",
       "      <td>\\nCrime, Drama, Mystery</td>\n",
       "      <td>8.7</td>\n",
       "      <td>\\nDexter realizes that he has carelessly mispl...</td>\n",
       "      <td>\\n    Director:\\nBrian Kirk\\n| \\n    Stars:\\nM...</td>\n",
       "      <td>3,711</td>\n",
       "      <td>49.0</td>\n",
       "      <td>NaN</td>\n",
       "    </tr>\n",
       "    <tr>\n",
       "      <th>9894</th>\n",
       "      <td>Dexter</td>\n",
       "      <td>(2006–2013)</td>\n",
       "      <td>\\nCrime, Drama, Mystery</td>\n",
       "      <td>8.3</td>\n",
       "      <td>\\nDexter is hampered by his neighborhood's inc...</td>\n",
       "      <td>\\n    Director:\\nMarcos Siega\\n| \\n    Stars:\\...</td>\n",
       "      <td>3,606</td>\n",
       "      <td>51.0</td>\n",
       "      <td>NaN</td>\n",
       "    </tr>\n",
       "    <tr>\n",
       "      <th>9895</th>\n",
       "      <td>Dexter</td>\n",
       "      <td>(2006–2013)</td>\n",
       "      <td>\\nCrime, Drama, Mystery</td>\n",
       "      <td>9.2</td>\n",
       "      <td>\\nDexter gets some much-needed R&amp;R time with R...</td>\n",
       "      <td>\\n    Director:\\nJohn Dahl\\n| \\n    Stars:\\nMi...</td>\n",
       "      <td>4,256</td>\n",
       "      <td>55.0</td>\n",
       "      <td>NaN</td>\n",
       "    </tr>\n",
       "    <tr>\n",
       "      <th>9896</th>\n",
       "      <td>Dexter</td>\n",
       "      <td>(2006–2013)</td>\n",
       "      <td>\\nCrime, Drama, Mystery</td>\n",
       "      <td>9.0</td>\n",
       "      <td>\\nDexter is inspired to investigate the Trinit...</td>\n",
       "      <td>\\n    Director:\\nKeith Gordon\\n| \\n    Stars:\\...</td>\n",
       "      <td>3,871</td>\n",
       "      <td>49.0</td>\n",
       "      <td>NaN</td>\n",
       "    </tr>\n",
       "    <tr>\n",
       "      <th>9897</th>\n",
       "      <td>Dexter</td>\n",
       "      <td>(2006–2013)</td>\n",
       "      <td>\\nCrime, Drama, Mystery</td>\n",
       "      <td>8.7</td>\n",
       "      <td>\\nDexter doubles his efforts to stay ahead of ...</td>\n",
       "      <td>\\n    Director:\\nRomeo Tirone\\n| \\n    Stars:\\...</td>\n",
       "      <td>3,641</td>\n",
       "      <td>55.0</td>\n",
       "      <td>NaN</td>\n",
       "    </tr>\n",
       "    <tr>\n",
       "      <th>9898</th>\n",
       "      <td>Dexter</td>\n",
       "      <td>(2006–2013)</td>\n",
       "      <td>\\nCrime, Drama, Mystery</td>\n",
       "      <td>8.5</td>\n",
       "      <td>\\nDexter finally strikes a balance between fam...</td>\n",
       "      <td>\\n    Director:\\nTim Hunter\\n| \\n    Stars:\\nM...</td>\n",
       "      <td>3,573</td>\n",
       "      <td>53.0</td>\n",
       "      <td>NaN</td>\n",
       "    </tr>\n",
       "    <tr>\n",
       "      <th>9899</th>\n",
       "      <td>Dexter</td>\n",
       "      <td>(2006–2013)</td>\n",
       "      <td>\\nCrime, Drama, Mystery</td>\n",
       "      <td>8.5</td>\n",
       "      <td>\\nDexter wonders if his father's Code is truly...</td>\n",
       "      <td>\\n    Director:\\nErnest R. Dickerson\\n| \\n    ...</td>\n",
       "      <td>3,591</td>\n",
       "      <td>54.0</td>\n",
       "      <td>NaN</td>\n",
       "    </tr>\n",
       "    <tr>\n",
       "      <th>9900</th>\n",
       "      <td>Dexter</td>\n",
       "      <td>(2006–2013)</td>\n",
       "      <td>\\nCrime, Drama, Mystery</td>\n",
       "      <td>9.4</td>\n",
       "      <td>\\nDexter learns more about Arthur's bizarre an...</td>\n",
       "      <td>\\n    Director:\\nJohn Dahl\\n| \\n    Stars:\\nMi...</td>\n",
       "      <td>5,072</td>\n",
       "      <td>51.0</td>\n",
       "      <td>NaN</td>\n",
       "    </tr>\n",
       "  </tbody>\n",
       "</table>\n",
       "</div>"
      ],
      "text/plain": [
       "       MOVIES         YEAR                                GENRE  RATING  \\\n",
       "7      Dexter  (2006–2013)  \\nCrime, Drama, Mystery                 8.6   \n",
       "6503   Dexter  (2006–2013)  \\nCrime, Drama, Mystery                 8.3   \n",
       "6518   Dexter  (2006–2013)  \\nCrime, Drama, Mystery                 8.8   \n",
       "6533   Dexter  (2006–2013)  \\nCrime, Drama, Mystery                 8.5   \n",
       "6535   Dexter  (2006–2013)  \\nCrime, Drama, Mystery                 8.7   \n",
       "6539   Dexter  (2006–2013)  \\nCrime, Drama, Mystery                 8.4   \n",
       "6545   Dexter  (2006–2013)  \\nCrime, Drama, Mystery                 9.0   \n",
       "6619   Dexter  (2006–2013)  \\nCrime, Drama, Mystery                 8.7   \n",
       "6620   Dexter  (2006–2013)  \\nCrime, Drama, Mystery                 9.0   \n",
       "6622   Dexter  (2006–2013)  \\nCrime, Drama, Mystery                 8.6   \n",
       "6623   Dexter  (2006–2013)  \\nCrime, Drama, Mystery                 9.2   \n",
       "6624   Dexter  (2006–2013)  \\nCrime, Drama, Mystery                 9.3   \n",
       "6626   Dexter  (2006–2013)  \\nCrime, Drama, Mystery                 9.6   \n",
       "6792   Dexter  (2006–2013)  \\nCrime, Drama, Mystery                 8.8   \n",
       "6793   Dexter  (2006–2013)  \\nCrime, Drama, Mystery                 9.0   \n",
       "6794   Dexter  (2006–2013)  \\nCrime, Drama, Mystery                 9.0   \n",
       "6795   Dexter  (2006–2013)  \\nCrime, Drama, Mystery                 9.2   \n",
       "6796   Dexter  (2006–2013)  \\nCrime, Drama, Mystery                 8.6   \n",
       "6797   Dexter  (2006–2013)  \\nCrime, Drama, Mystery                 8.7   \n",
       "6798   Dexter  (2006–2013)  \\nCrime, Drama, Mystery                 8.4   \n",
       "6799   Dexter  (2006–2013)  \\nCrime, Drama, Mystery                 8.7   \n",
       "6800   Dexter  (2006–2013)  \\nCrime, Drama, Mystery                 8.6   \n",
       "6801   Dexter  (2006–2013)  \\nCrime, Drama, Mystery                 8.8   \n",
       "6802   Dexter  (2006–2013)  \\nCrime, Drama, Mystery                 9.1   \n",
       "6803   Dexter  (2006–2013)  \\nCrime, Drama, Mystery                 9.4   \n",
       "8674   Dexter  (2006–2013)  \\nCrime, Drama, Mystery                 8.3   \n",
       "8675   Dexter  (2006–2013)  \\nCrime, Drama, Mystery                 9.0   \n",
       "8676   Dexter  (2006–2013)  \\nCrime, Drama, Mystery                 8.9   \n",
       "8677   Dexter  (2006–2013)  \\nCrime, Drama, Mystery                 8.9   \n",
       "8678   Dexter  (2006–2013)  \\nCrime, Drama, Mystery                 8.4   \n",
       "8679   Dexter  (2006–2013)  \\nCrime, Drama, Mystery                 8.2   \n",
       "8680   Dexter  (2006–2013)  \\nCrime, Drama, Mystery                 8.1   \n",
       "8681   Dexter  (2006–2013)  \\nCrime, Drama, Mystery                 8.5   \n",
       "8682   Dexter  (2006–2013)  \\nCrime, Drama, Mystery                 8.2   \n",
       "8683   Dexter  (2006–2013)  \\nCrime, Drama, Mystery                 8.5   \n",
       "8684   Dexter  (2006–2013)  \\nCrime, Drama, Mystery                 8.6   \n",
       "8685   Dexter  (2006–2013)  \\nCrime, Drama, Mystery                 8.8   \n",
       "9889   Dexter  (2006–2013)  \\nCrime, Drama, Mystery                 8.7   \n",
       "9890   Dexter  (2006–2013)  \\nCrime, Drama, Mystery                 9.2   \n",
       "9891   Dexter  (2006–2013)  \\nCrime, Drama, Mystery                 9.5   \n",
       "9892   Dexter  (2006–2013)  \\nCrime, Drama, Mystery                 9.8   \n",
       "9893   Dexter  (2006–2013)  \\nCrime, Drama, Mystery                 8.7   \n",
       "9894   Dexter  (2006–2013)  \\nCrime, Drama, Mystery                 8.3   \n",
       "9895   Dexter  (2006–2013)  \\nCrime, Drama, Mystery                 9.2   \n",
       "9896   Dexter  (2006–2013)  \\nCrime, Drama, Mystery                 9.0   \n",
       "9897   Dexter  (2006–2013)  \\nCrime, Drama, Mystery                 8.7   \n",
       "9898   Dexter  (2006–2013)  \\nCrime, Drama, Mystery                 8.5   \n",
       "9899   Dexter  (2006–2013)  \\nCrime, Drama, Mystery                 8.5   \n",
       "9900   Dexter  (2006–2013)  \\nCrime, Drama, Mystery                 9.4   \n",
       "\n",
       "                                               ONE-LINE  \\\n",
       "7     \\nBy day, mild-mannered Dexter is a blood-spat...   \n",
       "6503  \\nDexter's world is rocked when a rival serial...   \n",
       "6518  \\nDexter's world is rocked when a rival serial...   \n",
       "6533  \\nThe Homicide Division is buzzing after the I...   \n",
       "6535  \\nThe Ice Truck Killer begins leaving body par...   \n",
       "6539  \\nDexter and Debra try to dissuade their boss ...   \n",
       "6545  \\nThe Ice Truck Killer leaves Dexter a surpris...   \n",
       "6619  \\nThe Ice Truck Killer is finally identified, ...   \n",
       "6620  \\nThe strange suicide of a powerful woman lead...   \n",
       "6622  \\nDexter is joined by Rita, Debra and Rudy for...   \n",
       "6623  \\nThe Ice Truck Killer leaves Dexter the most ...   \n",
       "6624  \\nThe Ice Truck Killer kidnaps someone close t...   \n",
       "6626  \\nIn the Season One finale, Dexter follows the...   \n",
       "6792  \\nIn the Season Two premiere, Dexter finds him...   \n",
       "6793  \\nDexter's world comes crumbling down when Doa...   \n",
       "6794  \\nDexter dodges bullets both figurative and re...   \n",
       "6795  \\nIn the Season Two finale, Lundy and the FBI ...   \n",
       "6796  \\nDexter remains on the trail of a dangerous n...   \n",
       "6797  \\nDexter's inability to deceive has him pursui...   \n",
       "6798  \\nRita finds herself threatened by Dexter's se...   \n",
       "6799  \\nDexter discovers that the man is still alive...   \n",
       "6800  \\nA new copycat killer openly mimics and claim...   \n",
       "6801  \\nA written manifesto from the \"Bay Harbor But...   \n",
       "6802  \\nDexter decides that Lila is becoming too att...   \n",
       "6803  \\nDexter tries to distance himself from Lila, ...   \n",
       "8674  \\nIn the Season Three premiere, Dexter's life ...   \n",
       "8675  \\nA series of chess-like moves ensues when Dex...   \n",
       "8676  \\nDexter must find a way to get rid of Miguel ...   \n",
       "8677  \\nIn the Season Three finale, Dexter attempts ...   \n",
       "8678  \\nDexter catches up with Freebo, but once agai...   \n",
       "8679  \\nDexter encounters a fellow predator - but th...   \n",
       "8680  \\nDexter scrambles to convince Rita that his m...   \n",
       "8681  \\nDexter hears the story of a husband who has ...   \n",
       "8682  \\nDexter tests Miguel to determine if his frie...   \n",
       "8683  \\nDexter begins working with Miguel but they q...   \n",
       "8684  \\nDexter undertakes to teach Miguel the Code, ...   \n",
       "8685  \\nDexter and Miguel's friendship becomes strai...   \n",
       "9889  \\nIn the Season Four premiere, Dexter sleeples...   \n",
       "9890  \\nThe disappearance of a ten-year-old boy forc...   \n",
       "9891  \\nDexter must buy time to protect himself when...   \n",
       "9892  \\nDexter and Arthur find themselves on a colli...   \n",
       "9893  \\nDexter realizes that he has carelessly mispl...   \n",
       "9894  \\nDexter is hampered by his neighborhood's inc...   \n",
       "9895  \\nDexter gets some much-needed R&R time with R...   \n",
       "9896  \\nDexter is inspired to investigate the Trinit...   \n",
       "9897  \\nDexter doubles his efforts to stay ahead of ...   \n",
       "9898  \\nDexter finally strikes a balance between fam...   \n",
       "9899  \\nDexter wonders if his father's Code is truly...   \n",
       "9900  \\nDexter learns more about Arthur's bizarre an...   \n",
       "\n",
       "                                                  STARS    VOTES  RunTime  \\\n",
       "7     \\n            \\n    Stars:\\nMichael C. Hall, \\...  665,387     53.0   \n",
       "6503  \\n    Director:\\nMichael Cuesta\\n| \\n    Stars...    5,581     55.0   \n",
       "6518  \\n    Director:\\nMichael Cuesta\\n| \\n    Stars...    7,943     53.0   \n",
       "6533  \\n    Director:\\nRobert Lieberman\\n| \\n    Sta...    4,909     56.0   \n",
       "6535  \\n    Director:\\nRobert Lieberman\\n| \\n    Sta...    5,116     58.0   \n",
       "6539  \\n    Director:\\nMichael Cuesta\\n| \\n    Stars...    5,212     51.0   \n",
       "6545  \\n    Director:\\nTony Goldwyn\\n| \\n    Stars:\\...    5,138     53.0   \n",
       "6619  \\n    Director:\\nSteve Shill\\n| \\n    Stars:\\n...    4,791     52.0   \n",
       "6620  \\n    Director:\\nTony Goldwyn\\n| \\n    Stars:\\...    5,188     53.0   \n",
       "6622  \\n    Director:\\nAdam Davidson\\n| \\n    Stars:...    4,659     55.0   \n",
       "6623  \\n    Director:\\nMichael Cuesta\\n| \\n    Stars...    5,255     56.0   \n",
       "6624  \\n    Director:\\nKeith Gordon\\n| \\n    Stars:\\...    5,369     54.0   \n",
       "6626  \\n    Director:\\nMichael Cuesta\\n| \\n    Stars...    8,434     56.0   \n",
       "6792  \\n    Director:\\nTony Goldwyn\\n| \\n    Stars:\\...    4,744     53.0   \n",
       "6793  \\n    Director:\\nSteve Shill\\n| \\n    Stars:\\n...    4,213     55.0   \n",
       "6794  \\n    Director:\\nMarcos Siega\\n| \\n    Stars:\\...    4,210     51.0   \n",
       "6795  \\n    Director:\\nSteve Shill\\n| \\n    Stars:\\n...    5,115     51.0   \n",
       "6796  \\n    Director:\\nMarcos Siega\\n| \\n    Stars:\\...    4,324     56.0   \n",
       "6797  \\n    Director:\\nTony Goldwyn\\n| \\n    Stars:\\...    4,287     52.0   \n",
       "6798  \\n    Director:\\nNick Gomez\\n| \\n    Stars:\\nM...    4,105     53.0   \n",
       "6799  \\n    Director:\\nKeith Gordon\\n| \\n    Stars:\\...    4,236     56.0   \n",
       "6800  \\n    Director:\\nNick Gomez\\n| \\n    Stars:\\nM...    4,105     53.0   \n",
       "6801  \\n    Director:\\nJeremy Podeswa\\n| \\n    Stars...    4,176     55.0   \n",
       "6802  \\n    Director:\\nKeith Gordon\\n| \\n    Stars:\\...    4,362     49.0   \n",
       "6803  \\n    Director:\\nMarcos Siega\\n| \\n    Stars:\\...    4,870     50.0   \n",
       "8674  \\n    Director:\\nKeith Gordon\\n| \\n    Stars:\\...    4,061     58.0   \n",
       "8675  \\n    Director:\\nJohn Dahl\\n| \\n    Stars:\\nMi...    3,906     50.0   \n",
       "8676  \\n    Director:\\nMarcos Siega\\n| \\n    Stars:\\...    3,745     51.0   \n",
       "8677  \\n    Director:\\nKeith Gordon\\n| \\n    Stars:\\...    4,031     51.0   \n",
       "8678  \\n    Director:\\nMarcos Siega\\n| \\n    Stars:\\...    3,807     49.0   \n",
       "8679  \\n    Director:\\nJohn Dahl\\n| \\n    Stars:\\nMi...    3,685     49.0   \n",
       "8680  \\n    Director:\\nKeith Gordon\\n| \\n    Stars:\\...    3,651     54.0   \n",
       "8681  \\n    Director:\\nMarcos Siega\\n| \\n    Stars:\\...    3,619     49.0   \n",
       "8682  \\n    Director:\\nErnest R. Dickerson\\n| \\n    ...    3,578     54.0   \n",
       "8683  \\n    Director:\\nSteve Shill\\n| \\n    Stars:\\n...    3,688     58.0   \n",
       "8684  \\n    Director:\\nMarcos Siega\\n| \\n    Stars:\\...    3,614     54.0   \n",
       "8685  \\n    Director:\\nTim Hunter\\n| \\n    Stars:\\nM...    3,692     51.0   \n",
       "9889  \\n    Director:\\nMarcos Siega\\n| \\n    Stars:\\...    4,138     54.0   \n",
       "9890  \\n    Director:\\nKeith Gordon\\n| \\n    Stars:\\...    4,205     57.0   \n",
       "9891  \\n    Director:\\nS.J. Clarkson\\n| \\n    Stars:...    5,437     51.0   \n",
       "9892  \\n    Director:\\nSteve Shill\\n| \\n    Stars:\\n...   11,638     51.0   \n",
       "9893  \\n    Director:\\nBrian Kirk\\n| \\n    Stars:\\nM...    3,711     49.0   \n",
       "9894  \\n    Director:\\nMarcos Siega\\n| \\n    Stars:\\...    3,606     51.0   \n",
       "9895  \\n    Director:\\nJohn Dahl\\n| \\n    Stars:\\nMi...    4,256     55.0   \n",
       "9896  \\n    Director:\\nKeith Gordon\\n| \\n    Stars:\\...    3,871     49.0   \n",
       "9897  \\n    Director:\\nRomeo Tirone\\n| \\n    Stars:\\...    3,641     55.0   \n",
       "9898  \\n    Director:\\nTim Hunter\\n| \\n    Stars:\\nM...    3,573     53.0   \n",
       "9899  \\n    Director:\\nErnest R. Dickerson\\n| \\n    ...    3,591     54.0   \n",
       "9900  \\n    Director:\\nJohn Dahl\\n| \\n    Stars:\\nMi...    5,072     51.0   \n",
       "\n",
       "     Gross  \n",
       "7      NaN  \n",
       "6503   NaN  \n",
       "6518   NaN  \n",
       "6533   NaN  \n",
       "6535   NaN  \n",
       "6539   NaN  \n",
       "6545   NaN  \n",
       "6619   NaN  \n",
       "6620   NaN  \n",
       "6622   NaN  \n",
       "6623   NaN  \n",
       "6624   NaN  \n",
       "6626   NaN  \n",
       "6792   NaN  \n",
       "6793   NaN  \n",
       "6794   NaN  \n",
       "6795   NaN  \n",
       "6796   NaN  \n",
       "6797   NaN  \n",
       "6798   NaN  \n",
       "6799   NaN  \n",
       "6800   NaN  \n",
       "6801   NaN  \n",
       "6802   NaN  \n",
       "6803   NaN  \n",
       "8674   NaN  \n",
       "8675   NaN  \n",
       "8676   NaN  \n",
       "8677   NaN  \n",
       "8678   NaN  \n",
       "8679   NaN  \n",
       "8680   NaN  \n",
       "8681   NaN  \n",
       "8682   NaN  \n",
       "8683   NaN  \n",
       "8684   NaN  \n",
       "8685   NaN  \n",
       "9889   NaN  \n",
       "9890   NaN  \n",
       "9891   NaN  \n",
       "9892   NaN  \n",
       "9893   NaN  \n",
       "9894   NaN  \n",
       "9895   NaN  \n",
       "9896   NaN  \n",
       "9897   NaN  \n",
       "9898   NaN  \n",
       "9899   NaN  \n",
       "9900   NaN  "
      ]
     },
     "execution_count": 6,
     "metadata": {},
     "output_type": "execute_result"
    }
   ],
   "source": [
    "substring = 'dexter'\n",
    "rows_with_substring = df[df['MOVIES'].str.contains(substring, case=False)]\n",
    "rows_with_substring"
   ]
  },
  {
   "cell_type": "code",
   "execution_count": 7,
   "id": "f814adf4",
   "metadata": {},
   "outputs": [
    {
     "data": {
      "text/plain": [
       "MOVIES         0\n",
       "YEAR         644\n",
       "GENRE         80\n",
       "RATING      1820\n",
       "ONE-LINE       0\n",
       "STARS          0\n",
       "VOTES       1820\n",
       "RunTime     2958\n",
       "Gross       9539\n",
       "dtype: int64"
      ]
     },
     "execution_count": 7,
     "metadata": {},
     "output_type": "execute_result"
    }
   ],
   "source": [
    "df.isna().sum()"
   ]
  },
  {
   "cell_type": "code",
   "execution_count": 8,
   "id": "984b114f",
   "metadata": {},
   "outputs": [
    {
     "data": {
      "text/plain": [
       "6817"
      ]
     },
     "execution_count": 8,
     "metadata": {},
     "output_type": "execute_result"
    }
   ],
   "source": [
    "len(df['MOVIES'].unique())"
   ]
  },
  {
   "cell_type": "code",
   "execution_count": 9,
   "id": "31929a1d",
   "metadata": {},
   "outputs": [],
   "source": [
    "df.drop(['Gross'],axis=1,inplace=True)"
   ]
  },
  {
   "cell_type": "code",
   "execution_count": 10,
   "id": "dc4544e6",
   "metadata": {},
   "outputs": [],
   "source": [
    "df['RunTime'].fillna(df['RunTime'].mean(),inplace=True)"
   ]
  },
  {
   "cell_type": "code",
   "execution_count": 11,
   "id": "979fabb7",
   "metadata": {},
   "outputs": [
    {
     "data": {
      "text/plain": [
       "6817"
      ]
     },
     "execution_count": 11,
     "metadata": {},
     "output_type": "execute_result"
    }
   ],
   "source": [
    "len(df['MOVIES'].unique())"
   ]
  },
  {
   "cell_type": "code",
   "execution_count": 12,
   "id": "bb2c9060",
   "metadata": {},
   "outputs": [],
   "source": [
    "df = df.drop_duplicates()"
   ]
  },
  {
   "cell_type": "code",
   "execution_count": 13,
   "id": "8246be49",
   "metadata": {},
   "outputs": [
    {
     "data": {
      "text/plain": [
       "6817"
      ]
     },
     "execution_count": 13,
     "metadata": {},
     "output_type": "execute_result"
    }
   ],
   "source": [
    "len(df['MOVIES'].unique())"
   ]
  },
  {
   "cell_type": "code",
   "execution_count": 14,
   "id": "bc0be449",
   "metadata": {},
   "outputs": [],
   "source": [
    "df['votes'] = df['VOTES'].str.replace(',','')"
   ]
  },
  {
   "cell_type": "code",
   "execution_count": 15,
   "id": "5d05bf77",
   "metadata": {},
   "outputs": [],
   "source": [
    "df.drop(['VOTES'],inplace=True,axis=1)"
   ]
  },
  {
   "cell_type": "code",
   "execution_count": 16,
   "id": "86604687",
   "metadata": {},
   "outputs": [
    {
     "data": {
      "text/plain": [
       "MOVIES         0\n",
       "YEAR         542\n",
       "GENRE         78\n",
       "RATING      1400\n",
       "ONE-LINE       0\n",
       "STARS          0\n",
       "RunTime        0\n",
       "votes       1400\n",
       "dtype: int64"
      ]
     },
     "execution_count": 16,
     "metadata": {},
     "output_type": "execute_result"
    }
   ],
   "source": [
    "df.isna().sum()"
   ]
  },
  {
   "cell_type": "code",
   "execution_count": 17,
   "id": "ba58b823",
   "metadata": {},
   "outputs": [],
   "source": [
    "df['votes'] = pd.to_numeric(df['votes'],errors='coerce')"
   ]
  },
  {
   "cell_type": "code",
   "execution_count": 18,
   "id": "4d622a83",
   "metadata": {},
   "outputs": [],
   "source": [
    "df['year'] = df['YEAR'].apply(lambda x : str(x)[1:5])"
   ]
  },
  {
   "cell_type": "code",
   "execution_count": 19,
   "id": "d4b626c8",
   "metadata": {},
   "outputs": [],
   "source": [
    "df['year'] = pd.to_numeric(df['year'],errors='coerce')"
   ]
  },
  {
   "cell_type": "code",
   "execution_count": 20,
   "id": "14cbd803",
   "metadata": {},
   "outputs": [],
   "source": [
    "df.drop(['YEAR'],axis=1,inplace=True)"
   ]
  },
  {
   "cell_type": "code",
   "execution_count": 21,
   "id": "7d725f1f",
   "metadata": {},
   "outputs": [
    {
     "name": "stdout",
     "output_type": "stream",
     "text": [
      "<class 'pandas.core.frame.DataFrame'>\n",
      "Int64Index: 9568 entries, 0 to 9998\n",
      "Data columns (total 8 columns):\n",
      " #   Column    Non-Null Count  Dtype  \n",
      "---  ------    --------------  -----  \n",
      " 0   MOVIES    9568 non-null   object \n",
      " 1   GENRE     9490 non-null   object \n",
      " 2   RATING    8168 non-null   float64\n",
      " 3   ONE-LINE  9568 non-null   object \n",
      " 4   STARS     9568 non-null   object \n",
      " 5   RunTime   9568 non-null   float64\n",
      " 6   votes     8168 non-null   float64\n",
      " 7   year      8652 non-null   float64\n",
      "dtypes: float64(4), object(4)\n",
      "memory usage: 672.8+ KB\n"
     ]
    }
   ],
   "source": [
    "df.info()"
   ]
  },
  {
   "cell_type": "code",
   "execution_count": 22,
   "id": "8f2bda8c",
   "metadata": {},
   "outputs": [
    {
     "data": {
      "text/plain": [
       "MOVIES         0\n",
       "GENRE         78\n",
       "RATING      1400\n",
       "ONE-LINE       0\n",
       "STARS          0\n",
       "RunTime        0\n",
       "votes       1400\n",
       "year         916\n",
       "dtype: int64"
      ]
     },
     "execution_count": 22,
     "metadata": {},
     "output_type": "execute_result"
    }
   ],
   "source": [
    "df.isna().sum()"
   ]
  },
  {
   "cell_type": "code",
   "execution_count": 23,
   "id": "ca63be47",
   "metadata": {},
   "outputs": [],
   "source": [
    "df['count_null'] = 0"
   ]
  },
  {
   "cell_type": "code",
   "execution_count": 24,
   "id": "ac982706",
   "metadata": {},
   "outputs": [],
   "source": [
    "df['count_null'] = df.isna().sum(axis=1)"
   ]
  },
  {
   "cell_type": "code",
   "execution_count": 25,
   "id": "2e5e2971",
   "metadata": {},
   "outputs": [
    {
     "data": {
      "text/plain": [
       "6817"
      ]
     },
     "execution_count": 25,
     "metadata": {},
     "output_type": "execute_result"
    }
   ],
   "source": [
    "len(df['MOVIES'].unique())"
   ]
  },
  {
   "cell_type": "code",
   "execution_count": 26,
   "id": "65780cf8",
   "metadata": {},
   "outputs": [
    {
     "data": {
      "text/plain": [
       "0    7889\n",
       "2     742\n",
       "3     601\n",
       "1     279\n",
       "4      57\n",
       "Name: count_null, dtype: int64"
      ]
     },
     "execution_count": 26,
     "metadata": {},
     "output_type": "execute_result"
    }
   ],
   "source": [
    "df['count_null'].value_counts()"
   ]
  },
  {
   "cell_type": "code",
   "execution_count": 27,
   "id": "b3fe2226",
   "metadata": {},
   "outputs": [],
   "source": [
    "df = df[df['count_null'] <= 3]"
   ]
  },
  {
   "cell_type": "code",
   "execution_count": 28,
   "id": "ebe9d692",
   "metadata": {},
   "outputs": [
    {
     "data": {
      "text/plain": [
       "6767"
      ]
     },
     "execution_count": 28,
     "metadata": {},
     "output_type": "execute_result"
    }
   ],
   "source": [
    "len(df['MOVIES'].unique())"
   ]
  },
  {
   "cell_type": "code",
   "execution_count": 29,
   "id": "a6d4ab30",
   "metadata": {},
   "outputs": [
    {
     "data": {
      "text/plain": [
       "MOVIES           0\n",
       "GENRE           21\n",
       "RATING        1343\n",
       "ONE-LINE         0\n",
       "STARS            0\n",
       "RunTime          0\n",
       "votes         1343\n",
       "year           859\n",
       "count_null       0\n",
       "dtype: int64"
      ]
     },
     "execution_count": 29,
     "metadata": {},
     "output_type": "execute_result"
    }
   ],
   "source": [
    "df.isna().sum()"
   ]
  },
  {
   "cell_type": "code",
   "execution_count": 30,
   "id": "8ef7c58b",
   "metadata": {},
   "outputs": [
    {
     "data": {
      "text/plain": [
       "MOVIES           0\n",
       "GENRE           21\n",
       "RATING        1343\n",
       "ONE-LINE         0\n",
       "STARS            0\n",
       "RunTime          0\n",
       "votes         1343\n",
       "year           859\n",
       "count_null       0\n",
       "dtype: int64"
      ]
     },
     "execution_count": 30,
     "metadata": {},
     "output_type": "execute_result"
    }
   ],
   "source": [
    "df.isna().sum()"
   ]
  },
  {
   "cell_type": "code",
   "execution_count": 31,
   "id": "d6581a65",
   "metadata": {},
   "outputs": [
    {
     "data": {
      "text/plain": [
       "MOVIES           0\n",
       "GENRE           21\n",
       "RATING        1343\n",
       "ONE-LINE         0\n",
       "STARS            0\n",
       "RunTime          0\n",
       "votes         1343\n",
       "year           859\n",
       "count_null       0\n",
       "dtype: int64"
      ]
     },
     "execution_count": 31,
     "metadata": {},
     "output_type": "execute_result"
    }
   ],
   "source": [
    "df.isna().sum()"
   ]
  },
  {
   "cell_type": "code",
   "execution_count": 32,
   "id": "f182c2c1",
   "metadata": {},
   "outputs": [],
   "source": [
    "df.drop(['count_null'],axis=1,inplace=True)"
   ]
  },
  {
   "cell_type": "code",
   "execution_count": 33,
   "id": "d410f356",
   "metadata": {},
   "outputs": [],
   "source": [
    "df['GENRE'] = df['GENRE'].str.replace('\\n','')"
   ]
  },
  {
   "cell_type": "code",
   "execution_count": 34,
   "id": "9ad6bf81",
   "metadata": {},
   "outputs": [],
   "source": [
    "df.drop(['ONE-LINE'],axis=1,inplace=True)"
   ]
  },
  {
   "cell_type": "code",
   "execution_count": 35,
   "id": "dad09b72",
   "metadata": {},
   "outputs": [
    {
     "name": "stdout",
     "output_type": "stream",
     "text": [
      "<class 'pandas.core.frame.DataFrame'>\n",
      "Int64Index: 9511 entries, 0 to 9998\n",
      "Data columns (total 7 columns):\n",
      " #   Column   Non-Null Count  Dtype  \n",
      "---  ------   --------------  -----  \n",
      " 0   MOVIES   9511 non-null   object \n",
      " 1   GENRE    9490 non-null   object \n",
      " 2   RATING   8168 non-null   float64\n",
      " 3   STARS    9511 non-null   object \n",
      " 4   RunTime  9511 non-null   float64\n",
      " 5   votes    8168 non-null   float64\n",
      " 6   year     8652 non-null   float64\n",
      "dtypes: float64(4), object(3)\n",
      "memory usage: 594.4+ KB\n"
     ]
    }
   ],
   "source": [
    "df.info()"
   ]
  },
  {
   "cell_type": "code",
   "execution_count": 36,
   "id": "9792fbd9",
   "metadata": {},
   "outputs": [
    {
     "data": {
      "text/plain": [
       "(9511, 7)"
      ]
     },
     "execution_count": 36,
     "metadata": {},
     "output_type": "execute_result"
    }
   ],
   "source": [
    "df.shape"
   ]
  },
  {
   "cell_type": "code",
   "execution_count": 37,
   "id": "5d16646b",
   "metadata": {},
   "outputs": [],
   "source": [
    "df.dropna(subset = ['GENRE'],inplace=True)"
   ]
  },
  {
   "cell_type": "code",
   "execution_count": 38,
   "id": "39d9e35b",
   "metadata": {},
   "outputs": [
    {
     "data": {
      "text/plain": [
       "MOVIES        0\n",
       "GENRE         0\n",
       "RATING     1333\n",
       "STARS         0\n",
       "RunTime       0\n",
       "votes      1333\n",
       "year        859\n",
       "dtype: int64"
      ]
     },
     "execution_count": 38,
     "metadata": {},
     "output_type": "execute_result"
    }
   ],
   "source": [
    "df.isna().sum()"
   ]
  },
  {
   "cell_type": "code",
   "execution_count": 39,
   "id": "3b71787c",
   "metadata": {},
   "outputs": [],
   "source": [
    "df['GENRE'] = df['GENRE'].str.split(',')"
   ]
  },
  {
   "cell_type": "code",
   "execution_count": 40,
   "id": "87cb911e",
   "metadata": {},
   "outputs": [
    {
     "data": {
      "text/plain": [
       "6746"
      ]
     },
     "execution_count": 40,
     "metadata": {},
     "output_type": "execute_result"
    }
   ],
   "source": [
    "len(df['MOVIES'].unique())"
   ]
  },
  {
   "cell_type": "code",
   "execution_count": 41,
   "id": "96068d54",
   "metadata": {},
   "outputs": [],
   "source": [
    "df = df.explode('GENRE')"
   ]
  },
  {
   "cell_type": "code",
   "execution_count": 42,
   "id": "699ceb4e",
   "metadata": {},
   "outputs": [],
   "source": [
    "df = df.dropna()"
   ]
  },
  {
   "cell_type": "code",
   "execution_count": 43,
   "id": "480b2f6c",
   "metadata": {},
   "outputs": [],
   "source": [
    "df.drop(['STARS'],axis=1,inplace=True)"
   ]
  },
  {
   "cell_type": "code",
   "execution_count": 44,
   "id": "0539a375",
   "metadata": {},
   "outputs": [
    {
     "data": {
      "text/plain": [
       "5554"
      ]
     },
     "execution_count": 44,
     "metadata": {},
     "output_type": "execute_result"
    }
   ],
   "source": [
    "len(df['MOVIES'].unique())"
   ]
  },
  {
   "cell_type": "code",
   "execution_count": 45,
   "id": "1fec5a79",
   "metadata": {},
   "outputs": [
    {
     "data": {
      "text/plain": [
       "MOVIES     0\n",
       "GENRE      0\n",
       "RATING     0\n",
       "RunTime    0\n",
       "votes      0\n",
       "year       0\n",
       "dtype: int64"
      ]
     },
     "execution_count": 45,
     "metadata": {},
     "output_type": "execute_result"
    }
   ],
   "source": [
    "df.isna().sum()"
   ]
  },
  {
   "cell_type": "code",
   "execution_count": 46,
   "id": "392d5d33",
   "metadata": {},
   "outputs": [
    {
     "data": {
      "text/plain": [
       "(17884, 6)"
      ]
     },
     "execution_count": 46,
     "metadata": {},
     "output_type": "execute_result"
    }
   ],
   "source": [
    "df.shape"
   ]
  },
  {
   "cell_type": "code",
   "execution_count": 47,
   "id": "e4533587",
   "metadata": {},
   "outputs": [
    {
     "data": {
      "image/png": "[encoded data removed]",
      "text/plain": [
       "<Figure size 640x480 with 1 Axes>"
      ]
     },
     "metadata": {},
     "output_type": "display_data"
    }
   ],
   "source": [
    "sns.boxplot(x=df['RATING'])\n",
    "plt.show()"
   ]
  },
  {
   "cell_type": "code",
   "execution_count": 48,
   "id": "942f75e7",
   "metadata": {},
   "outputs": [
    {
     "data": {
      "image/png": "[encoded data removed]",
      "text/plain": [
       "<Figure size 640x480 with 1 Axes>"
      ]
     },
     "metadata": {},
     "output_type": "display_data"
    }
   ],
   "source": [
    "sns.boxplot(x=df['RunTime'])\n",
    "plt.show()"
   ]
  },
  {
   "cell_type": "code",
   "execution_count": 49,
   "id": "25b0926d",
   "metadata": {},
   "outputs": [
    {
     "data": {
      "image/png": "[encoded data removed]",
      "text/plain": [
       "<Figure size 640x480 with 1 Axes>"
      ]
     },
     "metadata": {},
     "output_type": "display_data"
    }
   ],
   "source": [
    "sns.boxplot(x=df['votes'])\n",
    "plt.show()"
   ]
  },
  {
   "cell_type": "code",
   "execution_count": 50,
   "id": "e5f1cc40",
   "metadata": {},
   "outputs": [
    {
     "data": {
      "text/html": [
       "<div>\n",
       "<style scoped>\n",
       "    .dataframe tbody tr th:only-of-type {\n",
       "        vertical-align: middle;\n",
       "    }\n",
       "\n",
       "    .dataframe tbody tr th {\n",
       "        vertical-align: top;\n",
       "    }\n",
       "\n",
       "    .dataframe thead th {\n",
       "        text-align: right;\n",
       "    }\n",
       "</style>\n",
       "<table border=\"1\" class=\"dataframe\">\n",
       "  <thead>\n",
       "    <tr style=\"text-align: right;\">\n",
       "      <th></th>\n",
       "      <th>RATING</th>\n",
       "      <th>RunTime</th>\n",
       "      <th>votes</th>\n",
       "      <th>year</th>\n",
       "    </tr>\n",
       "  </thead>\n",
       "  <tbody>\n",
       "    <tr>\n",
       "      <th>count</th>\n",
       "      <td>17884.000000</td>\n",
       "      <td>17884.000000</td>\n",
       "      <td>1.788400e+04</td>\n",
       "      <td>17884.000000</td>\n",
       "    </tr>\n",
       "    <tr>\n",
       "      <th>mean</th>\n",
       "      <td>7.021690</td>\n",
       "      <td>67.069921</td>\n",
       "      <td>1.707031e+04</td>\n",
       "      <td>2015.691288</td>\n",
       "    </tr>\n",
       "    <tr>\n",
       "      <th>std</th>\n",
       "      <td>1.196375</td>\n",
       "      <td>44.781911</td>\n",
       "      <td>7.667989e+04</td>\n",
       "      <td>7.843121</td>\n",
       "    </tr>\n",
       "    <tr>\n",
       "      <th>min</th>\n",
       "      <td>1.100000</td>\n",
       "      <td>1.000000</td>\n",
       "      <td>5.000000e+00</td>\n",
       "      <td>1932.000000</td>\n",
       "    </tr>\n",
       "    <tr>\n",
       "      <th>25%</th>\n",
       "      <td>6.400000</td>\n",
       "      <td>40.000000</td>\n",
       "      <td>1.830000e+02</td>\n",
       "      <td>2015.000000</td>\n",
       "    </tr>\n",
       "    <tr>\n",
       "      <th>50%</th>\n",
       "      <td>7.200000</td>\n",
       "      <td>68.000000</td>\n",
       "      <td>9.000000e+02</td>\n",
       "      <td>2018.000000</td>\n",
       "    </tr>\n",
       "    <tr>\n",
       "      <th>75%</th>\n",
       "      <td>7.800000</td>\n",
       "      <td>90.000000</td>\n",
       "      <td>4.338000e+03</td>\n",
       "      <td>2020.000000</td>\n",
       "    </tr>\n",
       "    <tr>\n",
       "      <th>max</th>\n",
       "      <td>9.900000</td>\n",
       "      <td>853.000000</td>\n",
       "      <td>1.713028e+06</td>\n",
       "      <td>2021.000000</td>\n",
       "    </tr>\n",
       "  </tbody>\n",
       "</table>\n",
       "</div>"
      ],
      "text/plain": [
       "             RATING       RunTime         votes          year\n",
       "count  17884.000000  17884.000000  1.788400e+04  17884.000000\n",
       "mean       7.021690     67.069921  1.707031e+04   2015.691288\n",
       "std        1.196375     44.781911  7.667989e+04      7.843121\n",
       "min        1.100000      1.000000  5.000000e+00   1932.000000\n",
       "25%        6.400000     40.000000  1.830000e+02   2015.000000\n",
       "50%        7.200000     68.000000  9.000000e+02   2018.000000\n",
       "75%        7.800000     90.000000  4.338000e+03   2020.000000\n",
       "max        9.900000    853.000000  1.713028e+06   2021.000000"
      ]
     },
     "execution_count": 50,
     "metadata": {},
     "output_type": "execute_result"
    }
   ],
   "source": [
    "df.describe()"
   ]
  },
  {
   "cell_type": "code",
   "execution_count": 51,
   "id": "58e5f0ec",
   "metadata": {},
   "outputs": [
    {
     "data": {
      "text/plain": [
       "(17884, 6)"
      ]
     },
     "execution_count": 51,
     "metadata": {},
     "output_type": "execute_result"
    }
   ],
   "source": [
    "df.shape"
   ]
  },
  {
   "cell_type": "code",
   "execution_count": 52,
   "id": "a6904589",
   "metadata": {},
   "outputs": [
    {
     "data": {
      "text/plain": [
       "5554"
      ]
     },
     "execution_count": 52,
     "metadata": {},
     "output_type": "execute_result"
    }
   ],
   "source": [
    "len(df['MOVIES'].unique())"
   ]
  },
  {
   "cell_type": "code",
   "execution_count": 53,
   "id": "90a472d3",
   "metadata": {},
   "outputs": [
    {
     "data": {
      "text/plain": [
       "10570.5"
      ]
     },
     "execution_count": 53,
     "metadata": {},
     "output_type": "execute_result"
    }
   ],
   "source": [
    "median = df['votes'].median()\n",
    "q1 = df['votes'].quantile(.25)\n",
    "q3 = df['votes'].quantile(.75)\n",
    "iqr = q3 - q1\n",
    "uw = q3 + 1.5*iqr\n",
    "uw"
   ]
  },
  {
   "cell_type": "code",
   "execution_count": 54,
   "id": "a02bbd99",
   "metadata": {},
   "outputs": [],
   "source": [
    "df = df[df['votes']>50]"
   ]
  },
  {
   "cell_type": "code",
   "execution_count": 55,
   "id": "ceaaac47",
   "metadata": {},
   "outputs": [
    {
     "data": {
      "text/plain": [
       "(16141, 6)"
      ]
     },
     "execution_count": 55,
     "metadata": {},
     "output_type": "execute_result"
    }
   ],
   "source": [
    "df.shape"
   ]
  },
  {
   "cell_type": "code",
   "execution_count": 56,
   "id": "fbc6e06d",
   "metadata": {},
   "outputs": [
    {
     "data": {
      "text/plain": [
       "5219"
      ]
     },
     "execution_count": 56,
     "metadata": {},
     "output_type": "execute_result"
    }
   ],
   "source": [
    "len(df['MOVIES'].unique())"
   ]
  },
  {
   "cell_type": "code",
   "execution_count": 57,
   "id": "515282fe",
   "metadata": {},
   "outputs": [
    {
     "data": {
      "text/plain": [
       "MOVIES     0\n",
       "GENRE      0\n",
       "RATING     0\n",
       "RunTime    0\n",
       "votes      0\n",
       "year       0\n",
       "dtype: int64"
      ]
     },
     "execution_count": 57,
     "metadata": {},
     "output_type": "execute_result"
    }
   ],
   "source": [
    "df.isna().sum()"
   ]
  },
  {
   "cell_type": "code",
   "execution_count": 58,
   "id": "b40241d5",
   "metadata": {},
   "outputs": [
    {
     "data": {
      "text/plain": [
       "94"
      ]
     },
     "execution_count": 58,
     "metadata": {},
     "output_type": "execute_result"
    }
   ],
   "source": [
    "len(df['GENRE'].unique()) #total genre"
   ]
  },
  {
   "cell_type": "code",
   "execution_count": 59,
   "id": "2cb241c8",
   "metadata": {},
   "outputs": [
    {
     "name": "stderr",
     "output_type": "stream",
     "text": [
      "/tmp/ipykernel_12162/1134722465.py:1: FutureWarning: The default value of numeric_only in DataFrame.corr is deprecated. In a future version, it will default to False. Select only valid columns or specify the value of numeric_only to silence this warning.\n",
      "  df.corr()\n"
     ]
    },
    {
     "data": {
      "text/html": [
       "<div>\n",
       "<style scoped>\n",
       "    .dataframe tbody tr th:only-of-type {\n",
       "        vertical-align: middle;\n",
       "    }\n",
       "\n",
       "    .dataframe tbody tr th {\n",
       "        vertical-align: top;\n",
       "    }\n",
       "\n",
       "    .dataframe thead th {\n",
       "        text-align: right;\n",
       "    }\n",
       "</style>\n",
       "<table border=\"1\" class=\"dataframe\">\n",
       "  <thead>\n",
       "    <tr style=\"text-align: right;\">\n",
       "      <th></th>\n",
       "      <th>RATING</th>\n",
       "      <th>RunTime</th>\n",
       "      <th>votes</th>\n",
       "      <th>year</th>\n",
       "    </tr>\n",
       "  </thead>\n",
       "  <tbody>\n",
       "    <tr>\n",
       "      <th>RATING</th>\n",
       "      <td>1.000000</td>\n",
       "      <td>-0.227149</td>\n",
       "      <td>0.110084</td>\n",
       "      <td>-0.056520</td>\n",
       "    </tr>\n",
       "    <tr>\n",
       "      <th>RunTime</th>\n",
       "      <td>-0.227149</td>\n",
       "      <td>1.000000</td>\n",
       "      <td>0.149510</td>\n",
       "      <td>-0.052772</td>\n",
       "    </tr>\n",
       "    <tr>\n",
       "      <th>votes</th>\n",
       "      <td>0.110084</td>\n",
       "      <td>0.149510</td>\n",
       "      <td>1.000000</td>\n",
       "      <td>-0.181153</td>\n",
       "    </tr>\n",
       "    <tr>\n",
       "      <th>year</th>\n",
       "      <td>-0.056520</td>\n",
       "      <td>-0.052772</td>\n",
       "      <td>-0.181153</td>\n",
       "      <td>1.000000</td>\n",
       "    </tr>\n",
       "  </tbody>\n",
       "</table>\n",
       "</div>"
      ],
      "text/plain": [
       "           RATING   RunTime     votes      year\n",
       "RATING   1.000000 -0.227149  0.110084 -0.056520\n",
       "RunTime -0.227149  1.000000  0.149510 -0.052772\n",
       "votes    0.110084  0.149510  1.000000 -0.181153\n",
       "year    -0.056520 -0.052772 -0.181153  1.000000"
      ]
     },
     "execution_count": 59,
     "metadata": {},
     "output_type": "execute_result"
    }
   ],
   "source": [
    "df.corr()"
   ]
  },
  {
   "cell_type": "code",
   "execution_count": 60,
   "id": "22389a03",
   "metadata": {},
   "outputs": [
    {
     "data": {
      "text/html": [
       "<div>\n",
       "<style scoped>\n",
       "    .dataframe tbody tr th:only-of-type {\n",
       "        vertical-align: middle;\n",
       "    }\n",
       "\n",
       "    .dataframe tbody tr th {\n",
       "        vertical-align: top;\n",
       "    }\n",
       "\n",
       "    .dataframe thead th {\n",
       "        text-align: right;\n",
       "    }\n",
       "</style>\n",
       "<table border=\"1\" class=\"dataframe\">\n",
       "  <thead>\n",
       "    <tr style=\"text-align: right;\">\n",
       "      <th></th>\n",
       "      <th>MOVIES</th>\n",
       "      <th>GENRE</th>\n",
       "      <th>RATING</th>\n",
       "      <th>RunTime</th>\n",
       "      <th>votes</th>\n",
       "      <th>year</th>\n",
       "    </tr>\n",
       "  </thead>\n",
       "  <tbody>\n",
       "    <tr>\n",
       "      <th>0</th>\n",
       "      <td>Blood Red Sky</td>\n",
       "      <td>Action</td>\n",
       "      <td>6.1</td>\n",
       "      <td>121.0</td>\n",
       "      <td>21062.0</td>\n",
       "      <td>2021.0</td>\n",
       "    </tr>\n",
       "    <tr>\n",
       "      <th>0</th>\n",
       "      <td>Blood Red Sky</td>\n",
       "      <td>Horror</td>\n",
       "      <td>6.1</td>\n",
       "      <td>121.0</td>\n",
       "      <td>21062.0</td>\n",
       "      <td>2021.0</td>\n",
       "    </tr>\n",
       "    <tr>\n",
       "      <th>0</th>\n",
       "      <td>Blood Red Sky</td>\n",
       "      <td>Thriller</td>\n",
       "      <td>6.1</td>\n",
       "      <td>121.0</td>\n",
       "      <td>21062.0</td>\n",
       "      <td>2021.0</td>\n",
       "    </tr>\n",
       "    <tr>\n",
       "      <th>1</th>\n",
       "      <td>Masters of the Universe: Revelation</td>\n",
       "      <td>Animation</td>\n",
       "      <td>5.0</td>\n",
       "      <td>25.0</td>\n",
       "      <td>17870.0</td>\n",
       "      <td>2021.0</td>\n",
       "    </tr>\n",
       "    <tr>\n",
       "      <th>1</th>\n",
       "      <td>Masters of the Universe: Revelation</td>\n",
       "      <td>Action</td>\n",
       "      <td>5.0</td>\n",
       "      <td>25.0</td>\n",
       "      <td>17870.0</td>\n",
       "      <td>2021.0</td>\n",
       "    </tr>\n",
       "  </tbody>\n",
       "</table>\n",
       "</div>"
      ],
      "text/plain": [
       "                                MOVIES                  GENRE  RATING  \\\n",
       "0                        Blood Red Sky                 Action     6.1   \n",
       "0                        Blood Red Sky                 Horror     6.1   \n",
       "0                        Blood Red Sky   Thriller                 6.1   \n",
       "1  Masters of the Universe: Revelation              Animation     5.0   \n",
       "1  Masters of the Universe: Revelation                 Action     5.0   \n",
       "\n",
       "   RunTime    votes    year  \n",
       "0    121.0  21062.0  2021.0  \n",
       "0    121.0  21062.0  2021.0  \n",
       "0    121.0  21062.0  2021.0  \n",
       "1     25.0  17870.0  2021.0  \n",
       "1     25.0  17870.0  2021.0  "
      ]
     },
     "execution_count": 60,
     "metadata": {},
     "output_type": "execute_result"
    }
   ],
   "source": [
    "df.head()"
   ]
  },
  {
   "cell_type": "code",
   "execution_count": 61,
   "id": "47e6a652",
   "metadata": {},
   "outputs": [
    {
     "data": {
      "text/plain": [
       "Animation              1129\n",
       " Drama                 1070\n",
       " Drama                  903\n",
       "Comedy                  873\n",
       "Action                  829\n",
       "                       ... \n",
       "Musical                   1\n",
       "War                       1\n",
       "Romance                   1\n",
       "Film-Noir                 1\n",
       "Musical                   1\n",
       "Name: GENRE, Length: 94, dtype: int64"
      ]
     },
     "execution_count": 61,
     "metadata": {},
     "output_type": "execute_result"
    }
   ],
   "source": [
    "class_counts = df['GENRE'].value_counts()\n",
    "class_counts"
   ]
  },
  {
   "cell_type": "code",
   "execution_count": 62,
   "id": "a0e8e5d8",
   "metadata": {},
   "outputs": [
    {
     "data": {
      "text/plain": [
       "Index(['Animation', ' Drama', ' Drama            ', 'Comedy', 'Action',\n",
       "       'Drama', ' Action', ' Romance            ', ' Thriller            ',\n",
       "       'Comedy            ', 'Documentary', 'Crime', ' Adventure            ',\n",
       "       ' Mystery            ', ' Adventure', 'Documentary            ',\n",
       "       ' Comedy            ', ' Crime', 'Drama            ', ' Comedy',\n",
       "       ' Crime            ', ' Family            ', ' Fantasy            ',\n",
       "       ' Sci-Fi            ', ' Mystery', ' History            ', ' Fantasy',\n",
       "       ' Horror            ', ' Sport            ', ' Horror',\n",
       "       ' Reality-TV            ', 'Reality-TV            ', 'Biography',\n",
       "       'Adventure', ' Music            ', ' Biography', 'Horror', ' Short',\n",
       "       ' History', 'Game-Show'],\n",
       "      dtype='object')"
      ]
     },
     "execution_count": 62,
     "metadata": {},
     "output_type": "execute_result"
    }
   ],
   "source": [
    "valid_classes = class_counts[class_counts >= 50].index\n",
    "valid_classes"
   ]
  },
  {
   "cell_type": "code",
   "execution_count": 63,
   "id": "6326a4b3",
   "metadata": {},
   "outputs": [],
   "source": [
    "df = df[df['GENRE'].isin(valid_classes)]"
   ]
  },
  {
   "cell_type": "code",
   "execution_count": 64,
   "id": "086e3ac4",
   "metadata": {},
   "outputs": [
    {
     "data": {
      "text/plain": [
       "4989"
      ]
     },
     "execution_count": 64,
     "metadata": {},
     "output_type": "execute_result"
    }
   ],
   "source": [
    "len(df['MOVIES'].unique())"
   ]
  },
  {
   "cell_type": "code",
   "execution_count": 65,
   "id": "fa849b87",
   "metadata": {},
   "outputs": [
    {
     "data": {
      "text/html": [
       "<div>\n",
       "<style scoped>\n",
       "    .dataframe tbody tr th:only-of-type {\n",
       "        vertical-align: middle;\n",
       "    }\n",
       "\n",
       "    .dataframe tbody tr th {\n",
       "        vertical-align: top;\n",
       "    }\n",
       "\n",
       "    .dataframe thead th {\n",
       "        text-align: right;\n",
       "    }\n",
       "</style>\n",
       "<table border=\"1\" class=\"dataframe\">\n",
       "  <thead>\n",
       "    <tr style=\"text-align: right;\">\n",
       "      <th></th>\n",
       "      <th>MOVIES</th>\n",
       "      <th>GENRE</th>\n",
       "      <th>RATING</th>\n",
       "      <th>RunTime</th>\n",
       "      <th>votes</th>\n",
       "      <th>year</th>\n",
       "    </tr>\n",
       "  </thead>\n",
       "  <tbody>\n",
       "    <tr>\n",
       "      <th>0</th>\n",
       "      <td>Blood Red Sky</td>\n",
       "      <td>Action</td>\n",
       "      <td>6.1</td>\n",
       "      <td>121.000000</td>\n",
       "      <td>21062.0</td>\n",
       "      <td>2021.0</td>\n",
       "    </tr>\n",
       "    <tr>\n",
       "      <th>0</th>\n",
       "      <td>Blood Red Sky</td>\n",
       "      <td>Horror</td>\n",
       "      <td>6.1</td>\n",
       "      <td>121.000000</td>\n",
       "      <td>21062.0</td>\n",
       "      <td>2021.0</td>\n",
       "    </tr>\n",
       "    <tr>\n",
       "      <th>0</th>\n",
       "      <td>Blood Red Sky</td>\n",
       "      <td>Thriller</td>\n",
       "      <td>6.1</td>\n",
       "      <td>121.000000</td>\n",
       "      <td>21062.0</td>\n",
       "      <td>2021.0</td>\n",
       "    </tr>\n",
       "    <tr>\n",
       "      <th>1</th>\n",
       "      <td>Masters of the Universe: Revelation</td>\n",
       "      <td>Animation</td>\n",
       "      <td>5.0</td>\n",
       "      <td>25.000000</td>\n",
       "      <td>17870.0</td>\n",
       "      <td>2021.0</td>\n",
       "    </tr>\n",
       "    <tr>\n",
       "      <th>1</th>\n",
       "      <td>Masters of the Universe: Revelation</td>\n",
       "      <td>Action</td>\n",
       "      <td>5.0</td>\n",
       "      <td>25.000000</td>\n",
       "      <td>17870.0</td>\n",
       "      <td>2021.0</td>\n",
       "    </tr>\n",
       "    <tr>\n",
       "      <th>...</th>\n",
       "      <td>...</td>\n",
       "      <td>...</td>\n",
       "      <td>...</td>\n",
       "      <td>...</td>\n",
       "      <td>...</td>\n",
       "      <td>...</td>\n",
       "    </tr>\n",
       "    <tr>\n",
       "      <th>9962</th>\n",
       "      <td>Sexify</td>\n",
       "      <td>Drama</td>\n",
       "      <td>7.1</td>\n",
       "      <td>47.000000</td>\n",
       "      <td>100.0</td>\n",
       "      <td>2021.0</td>\n",
       "    </tr>\n",
       "    <tr>\n",
       "      <th>9963</th>\n",
       "      <td>Castlevania</td>\n",
       "      <td>Animation</td>\n",
       "      <td>8.2</td>\n",
       "      <td>24.000000</td>\n",
       "      <td>911.0</td>\n",
       "      <td>2017.0</td>\n",
       "    </tr>\n",
       "    <tr>\n",
       "      <th>9963</th>\n",
       "      <td>Castlevania</td>\n",
       "      <td>Action</td>\n",
       "      <td>8.2</td>\n",
       "      <td>24.000000</td>\n",
       "      <td>911.0</td>\n",
       "      <td>2017.0</td>\n",
       "    </tr>\n",
       "    <tr>\n",
       "      <th>9963</th>\n",
       "      <td>Castlevania</td>\n",
       "      <td>Adventure</td>\n",
       "      <td>8.2</td>\n",
       "      <td>24.000000</td>\n",
       "      <td>911.0</td>\n",
       "      <td>2017.0</td>\n",
       "    </tr>\n",
       "    <tr>\n",
       "      <th>9979</th>\n",
       "      <td>Never Have I Ever</td>\n",
       "      <td>Comedy</td>\n",
       "      <td>8.8</td>\n",
       "      <td>68.688539</td>\n",
       "      <td>433.0</td>\n",
       "      <td>2020.0</td>\n",
       "    </tr>\n",
       "  </tbody>\n",
       "</table>\n",
       "<p>15422 rows × 6 columns</p>\n",
       "</div>"
      ],
      "text/plain": [
       "                                   MOVIES                   GENRE  RATING  \\\n",
       "0                           Blood Red Sky                  Action     6.1   \n",
       "0                           Blood Red Sky                  Horror     6.1   \n",
       "0                           Blood Red Sky    Thriller                 6.1   \n",
       "1     Masters of the Universe: Revelation               Animation     5.0   \n",
       "1     Masters of the Universe: Revelation                  Action     5.0   \n",
       "...                                   ...                     ...     ...   \n",
       "9962                               Sexify       Drama                 7.1   \n",
       "9963                          Castlevania               Animation     8.2   \n",
       "9963                          Castlevania                  Action     8.2   \n",
       "9963                          Castlevania   Adventure                 8.2   \n",
       "9979                    Never Have I Ever      Comedy                 8.8   \n",
       "\n",
       "         RunTime    votes    year  \n",
       "0     121.000000  21062.0  2021.0  \n",
       "0     121.000000  21062.0  2021.0  \n",
       "0     121.000000  21062.0  2021.0  \n",
       "1      25.000000  17870.0  2021.0  \n",
       "1      25.000000  17870.0  2021.0  \n",
       "...          ...      ...     ...  \n",
       "9962   47.000000    100.0  2021.0  \n",
       "9963   24.000000    911.0  2017.0  \n",
       "9963   24.000000    911.0  2017.0  \n",
       "9963   24.000000    911.0  2017.0  \n",
       "9979   68.688539    433.0  2020.0  \n",
       "\n",
       "[15422 rows x 6 columns]"
      ]
     },
     "execution_count": 65,
     "metadata": {},
     "output_type": "execute_result"
    }
   ],
   "source": [
    "df"
   ]
  },
  {
   "cell_type": "code",
   "execution_count": 66,
   "id": "45fff0ce",
   "metadata": {},
   "outputs": [
    {
     "data": {
      "image/png": "[encoded data removed]",
      "text/plain": [
       "<Figure size 640x480 with 1 Axes>"
      ]
     },
     "metadata": {},
     "output_type": "display_data"
    }
   ],
   "source": [
    "sns.scatterplot(df)\n",
    "plt.show()"
   ]
  },
  {
   "cell_type": "code",
   "execution_count": 67,
   "id": "d6ba8548",
   "metadata": {},
   "outputs": [
    {
     "data": {
      "image/png": "[encoded data removed]",
      "text/plain": [
       "<Figure size 1000x1000 with 20 Axes>"
      ]
     },
     "metadata": {},
     "output_type": "display_data"
    }
   ],
   "source": [
    "sns.pairplot(df)\n",
    "plt.show()"
   ]
  },
  {
   "cell_type": "code",
   "execution_count": 68,
   "id": "fde75081",
   "metadata": {},
   "outputs": [
    {
     "data": {
      "text/html": [
       "<div>\n",
       "<style scoped>\n",
       "    .dataframe tbody tr th:only-of-type {\n",
       "        vertical-align: middle;\n",
       "    }\n",
       "\n",
       "    .dataframe tbody tr th {\n",
       "        vertical-align: top;\n",
       "    }\n",
       "\n",
       "    .dataframe thead th {\n",
       "        text-align: right;\n",
       "    }\n",
       "</style>\n",
       "<table border=\"1\" class=\"dataframe\">\n",
       "  <thead>\n",
       "    <tr style=\"text-align: right;\">\n",
       "      <th></th>\n",
       "      <th>MOVIES</th>\n",
       "      <th>GENRE</th>\n",
       "      <th>RATING</th>\n",
       "      <th>RunTime</th>\n",
       "      <th>votes</th>\n",
       "      <th>year</th>\n",
       "      <th>genre_encoded</th>\n",
       "      <th>movies_encoded</th>\n",
       "    </tr>\n",
       "  </thead>\n",
       "  <tbody>\n",
       "    <tr>\n",
       "      <th>0</th>\n",
       "      <td>Blood Red Sky</td>\n",
       "      <td>Action</td>\n",
       "      <td>6.1</td>\n",
       "      <td>121.000000</td>\n",
       "      <td>21062.0</td>\n",
       "      <td>2021.0</td>\n",
       "      <td>26</td>\n",
       "      <td>793</td>\n",
       "    </tr>\n",
       "    <tr>\n",
       "      <th>0</th>\n",
       "      <td>Blood Red Sky</td>\n",
       "      <td>Horror</td>\n",
       "      <td>6.1</td>\n",
       "      <td>121.000000</td>\n",
       "      <td>21062.0</td>\n",
       "      <td>2021.0</td>\n",
       "      <td>15</td>\n",
       "      <td>793</td>\n",
       "    </tr>\n",
       "    <tr>\n",
       "      <th>0</th>\n",
       "      <td>Blood Red Sky</td>\n",
       "      <td>Thriller</td>\n",
       "      <td>6.1</td>\n",
       "      <td>121.000000</td>\n",
       "      <td>21062.0</td>\n",
       "      <td>2021.0</td>\n",
       "      <td>25</td>\n",
       "      <td>793</td>\n",
       "    </tr>\n",
       "    <tr>\n",
       "      <th>1</th>\n",
       "      <td>Masters of the Universe: Revelation</td>\n",
       "      <td>Animation</td>\n",
       "      <td>5.0</td>\n",
       "      <td>25.000000</td>\n",
       "      <td>17870.0</td>\n",
       "      <td>2021.0</td>\n",
       "      <td>28</td>\n",
       "      <td>2762</td>\n",
       "    </tr>\n",
       "    <tr>\n",
       "      <th>1</th>\n",
       "      <td>Masters of the Universe: Revelation</td>\n",
       "      <td>Action</td>\n",
       "      <td>5.0</td>\n",
       "      <td>25.000000</td>\n",
       "      <td>17870.0</td>\n",
       "      <td>2021.0</td>\n",
       "      <td>0</td>\n",
       "      <td>2762</td>\n",
       "    </tr>\n",
       "    <tr>\n",
       "      <th>...</th>\n",
       "      <td>...</td>\n",
       "      <td>...</td>\n",
       "      <td>...</td>\n",
       "      <td>...</td>\n",
       "      <td>...</td>\n",
       "      <td>...</td>\n",
       "      <td>...</td>\n",
       "      <td>...</td>\n",
       "    </tr>\n",
       "    <tr>\n",
       "      <th>9962</th>\n",
       "      <td>Sexify</td>\n",
       "      <td>Drama</td>\n",
       "      <td>7.1</td>\n",
       "      <td>47.000000</td>\n",
       "      <td>100.0</td>\n",
       "      <td>2021.0</td>\n",
       "      <td>9</td>\n",
       "      <td>161</td>\n",
       "    </tr>\n",
       "    <tr>\n",
       "      <th>9963</th>\n",
       "      <td>Castlevania</td>\n",
       "      <td>Animation</td>\n",
       "      <td>8.2</td>\n",
       "      <td>24.000000</td>\n",
       "      <td>911.0</td>\n",
       "      <td>2017.0</td>\n",
       "      <td>28</td>\n",
       "      <td>36</td>\n",
       "    </tr>\n",
       "    <tr>\n",
       "      <th>9963</th>\n",
       "      <td>Castlevania</td>\n",
       "      <td>Action</td>\n",
       "      <td>8.2</td>\n",
       "      <td>24.000000</td>\n",
       "      <td>911.0</td>\n",
       "      <td>2017.0</td>\n",
       "      <td>0</td>\n",
       "      <td>36</td>\n",
       "    </tr>\n",
       "    <tr>\n",
       "      <th>9963</th>\n",
       "      <td>Castlevania</td>\n",
       "      <td>Adventure</td>\n",
       "      <td>8.2</td>\n",
       "      <td>24.000000</td>\n",
       "      <td>911.0</td>\n",
       "      <td>2017.0</td>\n",
       "      <td>2</td>\n",
       "      <td>36</td>\n",
       "    </tr>\n",
       "    <tr>\n",
       "      <th>9979</th>\n",
       "      <td>Never Have I Ever</td>\n",
       "      <td>Comedy</td>\n",
       "      <td>8.8</td>\n",
       "      <td>68.688539</td>\n",
       "      <td>433.0</td>\n",
       "      <td>2020.0</td>\n",
       "      <td>31</td>\n",
       "      <td>132</td>\n",
       "    </tr>\n",
       "  </tbody>\n",
       "</table>\n",
       "<p>15422 rows × 8 columns</p>\n",
       "</div>"
      ],
      "text/plain": [
       "                                   MOVIES                   GENRE  RATING  \\\n",
       "0                           Blood Red Sky                  Action     6.1   \n",
       "0                           Blood Red Sky                  Horror     6.1   \n",
       "0                           Blood Red Sky    Thriller                 6.1   \n",
       "1     Masters of the Universe: Revelation               Animation     5.0   \n",
       "1     Masters of the Universe: Revelation                  Action     5.0   \n",
       "...                                   ...                     ...     ...   \n",
       "9962                               Sexify       Drama                 7.1   \n",
       "9963                          Castlevania               Animation     8.2   \n",
       "9963                          Castlevania                  Action     8.2   \n",
       "9963                          Castlevania   Adventure                 8.2   \n",
       "9979                    Never Have I Ever      Comedy                 8.8   \n",
       "\n",
       "         RunTime    votes    year  genre_encoded  movies_encoded  \n",
       "0     121.000000  21062.0  2021.0             26             793  \n",
       "0     121.000000  21062.0  2021.0             15             793  \n",
       "0     121.000000  21062.0  2021.0             25             793  \n",
       "1      25.000000  17870.0  2021.0             28            2762  \n",
       "1      25.000000  17870.0  2021.0              0            2762  \n",
       "...          ...      ...     ...            ...             ...  \n",
       "9962   47.000000    100.0  2021.0              9             161  \n",
       "9963   24.000000    911.0  2017.0             28              36  \n",
       "9963   24.000000    911.0  2017.0              0              36  \n",
       "9963   24.000000    911.0  2017.0              2              36  \n",
       "9979   68.688539    433.0  2020.0             31             132  \n",
       "\n",
       "[15422 rows x 8 columns]"
      ]
     },
     "execution_count": 68,
     "metadata": {},
     "output_type": "execute_result"
    }
   ],
   "source": [
    "from sklearn.preprocessing import LabelEncoder\n",
    "label_encoder = LabelEncoder()\n",
    "df['genre_encoded'] = label_encoder.fit_transform(df['GENRE'])\n",
    "df['movies_encoded'] = label_encoder.fit_transform(df['MOVIES'])\n",
    "df"
   ]
  },
  {
   "cell_type": "code",
   "execution_count": 69,
   "id": "ebace050",
   "metadata": {},
   "outputs": [
    {
     "data": {
      "text/html": [
       "<div>\n",
       "<style scoped>\n",
       "    .dataframe tbody tr th:only-of-type {\n",
       "        vertical-align: middle;\n",
       "    }\n",
       "\n",
       "    .dataframe tbody tr th {\n",
       "        vertical-align: top;\n",
       "    }\n",
       "\n",
       "    .dataframe thead th {\n",
       "        text-align: right;\n",
       "    }\n",
       "</style>\n",
       "<table border=\"1\" class=\"dataframe\">\n",
       "  <thead>\n",
       "    <tr style=\"text-align: right;\">\n",
       "      <th></th>\n",
       "      <th>RATING</th>\n",
       "      <th>RunTime</th>\n",
       "      <th>votes</th>\n",
       "      <th>year</th>\n",
       "      <th>genre_encoded</th>\n",
       "      <th>movies_encoded</th>\n",
       "    </tr>\n",
       "  </thead>\n",
       "  <tbody>\n",
       "    <tr>\n",
       "      <th>0</th>\n",
       "      <td>6.1</td>\n",
       "      <td>121.000000</td>\n",
       "      <td>21062.0</td>\n",
       "      <td>2021.0</td>\n",
       "      <td>26</td>\n",
       "      <td>793</td>\n",
       "    </tr>\n",
       "    <tr>\n",
       "      <th>0</th>\n",
       "      <td>6.1</td>\n",
       "      <td>121.000000</td>\n",
       "      <td>21062.0</td>\n",
       "      <td>2021.0</td>\n",
       "      <td>15</td>\n",
       "      <td>793</td>\n",
       "    </tr>\n",
       "    <tr>\n",
       "      <th>0</th>\n",
       "      <td>6.1</td>\n",
       "      <td>121.000000</td>\n",
       "      <td>21062.0</td>\n",
       "      <td>2021.0</td>\n",
       "      <td>25</td>\n",
       "      <td>793</td>\n",
       "    </tr>\n",
       "    <tr>\n",
       "      <th>1</th>\n",
       "      <td>5.0</td>\n",
       "      <td>25.000000</td>\n",
       "      <td>17870.0</td>\n",
       "      <td>2021.0</td>\n",
       "      <td>28</td>\n",
       "      <td>2762</td>\n",
       "    </tr>\n",
       "    <tr>\n",
       "      <th>1</th>\n",
       "      <td>5.0</td>\n",
       "      <td>25.000000</td>\n",
       "      <td>17870.0</td>\n",
       "      <td>2021.0</td>\n",
       "      <td>0</td>\n",
       "      <td>2762</td>\n",
       "    </tr>\n",
       "    <tr>\n",
       "      <th>...</th>\n",
       "      <td>...</td>\n",
       "      <td>...</td>\n",
       "      <td>...</td>\n",
       "      <td>...</td>\n",
       "      <td>...</td>\n",
       "      <td>...</td>\n",
       "    </tr>\n",
       "    <tr>\n",
       "      <th>9962</th>\n",
       "      <td>7.1</td>\n",
       "      <td>47.000000</td>\n",
       "      <td>100.0</td>\n",
       "      <td>2021.0</td>\n",
       "      <td>9</td>\n",
       "      <td>161</td>\n",
       "    </tr>\n",
       "    <tr>\n",
       "      <th>9963</th>\n",
       "      <td>8.2</td>\n",
       "      <td>24.000000</td>\n",
       "      <td>911.0</td>\n",
       "      <td>2017.0</td>\n",
       "      <td>28</td>\n",
       "      <td>36</td>\n",
       "    </tr>\n",
       "    <tr>\n",
       "      <th>9963</th>\n",
       "      <td>8.2</td>\n",
       "      <td>24.000000</td>\n",
       "      <td>911.0</td>\n",
       "      <td>2017.0</td>\n",
       "      <td>0</td>\n",
       "      <td>36</td>\n",
       "    </tr>\n",
       "    <tr>\n",
       "      <th>9963</th>\n",
       "      <td>8.2</td>\n",
       "      <td>24.000000</td>\n",
       "      <td>911.0</td>\n",
       "      <td>2017.0</td>\n",
       "      <td>2</td>\n",
       "      <td>36</td>\n",
       "    </tr>\n",
       "    <tr>\n",
       "      <th>9979</th>\n",
       "      <td>8.8</td>\n",
       "      <td>68.688539</td>\n",
       "      <td>433.0</td>\n",
       "      <td>2020.0</td>\n",
       "      <td>31</td>\n",
       "      <td>132</td>\n",
       "    </tr>\n",
       "  </tbody>\n",
       "</table>\n",
       "<p>15422 rows × 6 columns</p>\n",
       "</div>"
      ],
      "text/plain": [
       "      RATING     RunTime    votes    year  genre_encoded  movies_encoded\n",
       "0        6.1  121.000000  21062.0  2021.0             26             793\n",
       "0        6.1  121.000000  21062.0  2021.0             15             793\n",
       "0        6.1  121.000000  21062.0  2021.0             25             793\n",
       "1        5.0   25.000000  17870.0  2021.0             28            2762\n",
       "1        5.0   25.000000  17870.0  2021.0              0            2762\n",
       "...      ...         ...      ...     ...            ...             ...\n",
       "9962     7.1   47.000000    100.0  2021.0              9             161\n",
       "9963     8.2   24.000000    911.0  2017.0             28              36\n",
       "9963     8.2   24.000000    911.0  2017.0              0              36\n",
       "9963     8.2   24.000000    911.0  2017.0              2              36\n",
       "9979     8.8   68.688539    433.0  2020.0             31             132\n",
       "\n",
       "[15422 rows x 6 columns]"
      ]
     },
     "execution_count": 69,
     "metadata": {},
     "output_type": "execute_result"
    }
   ],
   "source": [
    "x = df.drop(['MOVIES','GENRE'],axis=1)\n",
    "x"
   ]
  },
  {
   "cell_type": "code",
   "execution_count": 70,
   "id": "e07e9675",
   "metadata": {},
   "outputs": [
    {
     "name": "stderr",
     "output_type": "stream",
     "text": [
      "/tmp/ipykernel_12162/1134722465.py:1: FutureWarning: The default value of numeric_only in DataFrame.corr is deprecated. In a future version, it will default to False. Select only valid columns or specify the value of numeric_only to silence this warning.\n",
      "  df.corr()\n"
     ]
    },
    {
     "data": {
      "text/html": [
       "<div>\n",
       "<style scoped>\n",
       "    .dataframe tbody tr th:only-of-type {\n",
       "        vertical-align: middle;\n",
       "    }\n",
       "\n",
       "    .dataframe tbody tr th {\n",
       "        vertical-align: top;\n",
       "    }\n",
       "\n",
       "    .dataframe thead th {\n",
       "        text-align: right;\n",
       "    }\n",
       "</style>\n",
       "<table border=\"1\" class=\"dataframe\">\n",
       "  <thead>\n",
       "    <tr style=\"text-align: right;\">\n",
       "      <th></th>\n",
       "      <th>RATING</th>\n",
       "      <th>RunTime</th>\n",
       "      <th>votes</th>\n",
       "      <th>year</th>\n",
       "      <th>genre_encoded</th>\n",
       "      <th>movies_encoded</th>\n",
       "    </tr>\n",
       "  </thead>\n",
       "  <tbody>\n",
       "    <tr>\n",
       "      <th>RATING</th>\n",
       "      <td>1.000000</td>\n",
       "      <td>-0.231417</td>\n",
       "      <td>0.108464</td>\n",
       "      <td>-0.063688</td>\n",
       "      <td>-0.112799</td>\n",
       "      <td>-0.301545</td>\n",
       "    </tr>\n",
       "    <tr>\n",
       "      <th>RunTime</th>\n",
       "      <td>-0.231417</td>\n",
       "      <td>1.000000</td>\n",
       "      <td>0.150829</td>\n",
       "      <td>-0.047092</td>\n",
       "      <td>0.098412</td>\n",
       "      <td>0.278854</td>\n",
       "    </tr>\n",
       "    <tr>\n",
       "      <th>votes</th>\n",
       "      <td>0.108464</td>\n",
       "      <td>0.150829</td>\n",
       "      <td>1.000000</td>\n",
       "      <td>-0.191298</td>\n",
       "      <td>-0.033239</td>\n",
       "      <td>0.138905</td>\n",
       "    </tr>\n",
       "    <tr>\n",
       "      <th>year</th>\n",
       "      <td>-0.063688</td>\n",
       "      <td>-0.047092</td>\n",
       "      <td>-0.191298</td>\n",
       "      <td>1.000000</td>\n",
       "      <td>0.060269</td>\n",
       "      <td>-0.118495</td>\n",
       "    </tr>\n",
       "    <tr>\n",
       "      <th>genre_encoded</th>\n",
       "      <td>-0.112799</td>\n",
       "      <td>0.098412</td>\n",
       "      <td>-0.033239</td>\n",
       "      <td>0.060269</td>\n",
       "      <td>1.000000</td>\n",
       "      <td>0.071432</td>\n",
       "    </tr>\n",
       "    <tr>\n",
       "      <th>movies_encoded</th>\n",
       "      <td>-0.301545</td>\n",
       "      <td>0.278854</td>\n",
       "      <td>0.138905</td>\n",
       "      <td>-0.118495</td>\n",
       "      <td>0.071432</td>\n",
       "      <td>1.000000</td>\n",
       "    </tr>\n",
       "  </tbody>\n",
       "</table>\n",
       "</div>"
      ],
      "text/plain": [
       "                  RATING   RunTime     votes      year  genre_encoded  \\\n",
       "RATING          1.000000 -0.231417  0.108464 -0.063688      -0.112799   \n",
       "RunTime        -0.231417  1.000000  0.150829 -0.047092       0.098412   \n",
       "votes           0.108464  0.150829  1.000000 -0.191298      -0.033239   \n",
       "year           -0.063688 -0.047092 -0.191298  1.000000       0.060269   \n",
       "genre_encoded  -0.112799  0.098412 -0.033239  0.060269       1.000000   \n",
       "movies_encoded -0.301545  0.278854  0.138905 -0.118495       0.071432   \n",
       "\n",
       "                movies_encoded  \n",
       "RATING               -0.301545  \n",
       "RunTime               0.278854  \n",
       "votes                 0.138905  \n",
       "year                 -0.118495  \n",
       "genre_encoded         0.071432  \n",
       "movies_encoded        1.000000  "
      ]
     },
     "execution_count": 70,
     "metadata": {},
     "output_type": "execute_result"
    }
   ],
   "source": [
    "df.corr()"
   ]
  },
  {
   "cell_type": "code",
   "execution_count": 71,
   "id": "a53a34d1",
   "metadata": {},
   "outputs": [
    {
     "name": "stderr",
     "output_type": "stream",
     "text": [
      "/usr/local/lib/python3.10/dist-packages/sklearn/cluster/_kmeans.py:870: FutureWarning: The default value of `n_init` will change from 10 to 'auto' in 1.4. Set the value of `n_init` explicitly to suppress the warning\n",
      "  warnings.warn(\n",
      "/usr/local/lib/python3.10/dist-packages/sklearn/cluster/_kmeans.py:870: FutureWarning: The default value of `n_init` will change from 10 to 'auto' in 1.4. Set the value of `n_init` explicitly to suppress the warning\n",
      "  warnings.warn(\n",
      "/usr/local/lib/python3.10/dist-packages/sklearn/cluster/_kmeans.py:870: FutureWarning: The default value of `n_init` will change from 10 to 'auto' in 1.4. Set the value of `n_init` explicitly to suppress the warning\n",
      "  warnings.warn(\n",
      "/usr/local/lib/python3.10/dist-packages/sklearn/cluster/_kmeans.py:870: FutureWarning: The default value of `n_init` will change from 10 to 'auto' in 1.4. Set the value of `n_init` explicitly to suppress the warning\n",
      "  warnings.warn(\n",
      "/usr/local/lib/python3.10/dist-packages/sklearn/cluster/_kmeans.py:870: FutureWarning: The default value of `n_init` will change from 10 to 'auto' in 1.4. Set the value of `n_init` explicitly to suppress the warning\n",
      "  warnings.warn(\n",
      "/usr/local/lib/python3.10/dist-packages/sklearn/cluster/_kmeans.py:870: FutureWarning: The default value of `n_init` will change from 10 to 'auto' in 1.4. Set the value of `n_init` explicitly to suppress the warning\n",
      "  warnings.warn(\n",
      "/usr/local/lib/python3.10/dist-packages/sklearn/cluster/_kmeans.py:870: FutureWarning: The default value of `n_init` will change from 10 to 'auto' in 1.4. Set the value of `n_init` explicitly to suppress the warning\n",
      "  warnings.warn(\n",
      "/usr/local/lib/python3.10/dist-packages/sklearn/cluster/_kmeans.py:870: FutureWarning: The default value of `n_init` will change from 10 to 'auto' in 1.4. Set the value of `n_init` explicitly to suppress the warning\n",
      "  warnings.warn(\n",
      "/usr/local/lib/python3.10/dist-packages/sklearn/cluster/_kmeans.py:870: FutureWarning: The default value of `n_init` will change from 10 to 'auto' in 1.4. Set the value of `n_init` explicitly to suppress the warning\n",
      "  warnings.warn(\n",
      "/usr/local/lib/python3.10/dist-packages/sklearn/cluster/_kmeans.py:870: FutureWarning: The default value of `n_init` will change from 10 to 'auto' in 1.4. Set the value of `n_init` explicitly to suppress the warning\n",
      "  warnings.warn(\n",
      "/usr/local/lib/python3.10/dist-packages/sklearn/cluster/_kmeans.py:870: FutureWarning: The default value of `n_init` will change from 10 to 'auto' in 1.4. Set the value of `n_init` explicitly to suppress the warning\n",
      "  warnings.warn(\n",
      "/usr/local/lib/python3.10/dist-packages/sklearn/cluster/_kmeans.py:870: FutureWarning: The default value of `n_init` will change from 10 to 'auto' in 1.4. Set the value of `n_init` explicitly to suppress the warning\n",
      "  warnings.warn(\n",
      "/usr/local/lib/python3.10/dist-packages/sklearn/cluster/_kmeans.py:870: FutureWarning: The default value of `n_init` will change from 10 to 'auto' in 1.4. Set the value of `n_init` explicitly to suppress the warning\n",
      "  warnings.warn(\n",
      "/usr/local/lib/python3.10/dist-packages/sklearn/cluster/_kmeans.py:870: FutureWarning: The default value of `n_init` will change from 10 to 'auto' in 1.4. Set the value of `n_init` explicitly to suppress the warning\n",
      "  warnings.warn(\n",
      "/usr/local/lib/python3.10/dist-packages/sklearn/cluster/_kmeans.py:870: FutureWarning: The default value of `n_init` will change from 10 to 'auto' in 1.4. Set the value of `n_init` explicitly to suppress the warning\n",
      "  warnings.warn(\n",
      "/usr/local/lib/python3.10/dist-packages/sklearn/cluster/_kmeans.py:870: FutureWarning: The default value of `n_init` will change from 10 to 'auto' in 1.4. Set the value of `n_init` explicitly to suppress the warning\n",
      "  warnings.warn(\n",
      "/usr/local/lib/python3.10/dist-packages/sklearn/cluster/_kmeans.py:870: FutureWarning: The default value of `n_init` will change from 10 to 'auto' in 1.4. Set the value of `n_init` explicitly to suppress the warning\n",
      "  warnings.warn(\n",
      "/usr/local/lib/python3.10/dist-packages/sklearn/cluster/_kmeans.py:870: FutureWarning: The default value of `n_init` will change from 10 to 'auto' in 1.4. Set the value of `n_init` explicitly to suppress the warning\n",
      "  warnings.warn(\n",
      "/usr/local/lib/python3.10/dist-packages/sklearn/cluster/_kmeans.py:870: FutureWarning: The default value of `n_init` will change from 10 to 'auto' in 1.4. Set the value of `n_init` explicitly to suppress the warning\n",
      "  warnings.warn(\n",
      "/usr/local/lib/python3.10/dist-packages/sklearn/cluster/_kmeans.py:870: FutureWarning: The default value of `n_init` will change from 10 to 'auto' in 1.4. Set the value of `n_init` explicitly to suppress the warning\n",
      "  warnings.warn(\n",
      "/usr/local/lib/python3.10/dist-packages/sklearn/cluster/_kmeans.py:870: FutureWarning: The default value of `n_init` will change from 10 to 'auto' in 1.4. Set the value of `n_init` explicitly to suppress the warning\n",
      "  warnings.warn(\n",
      "/usr/local/lib/python3.10/dist-packages/sklearn/cluster/_kmeans.py:870: FutureWarning: The default value of `n_init` will change from 10 to 'auto' in 1.4. Set the value of `n_init` explicitly to suppress the warning\n",
      "  warnings.warn(\n",
      "/usr/local/lib/python3.10/dist-packages/sklearn/cluster/_kmeans.py:870: FutureWarning: The default value of `n_init` will change from 10 to 'auto' in 1.4. Set the value of `n_init` explicitly to suppress the warning\n",
      "  warnings.warn(\n",
      "/usr/local/lib/python3.10/dist-packages/sklearn/cluster/_kmeans.py:870: FutureWarning: The default value of `n_init` will change from 10 to 'auto' in 1.4. Set the value of `n_init` explicitly to suppress the warning\n",
      "  warnings.warn(\n",
      "/usr/local/lib/python3.10/dist-packages/sklearn/cluster/_kmeans.py:870: FutureWarning: The default value of `n_init` will change from 10 to 'auto' in 1.4. Set the value of `n_init` explicitly to suppress the warning\n",
      "  warnings.warn(\n",
      "/usr/local/lib/python3.10/dist-packages/sklearn/cluster/_kmeans.py:870: FutureWarning: The default value of `n_init` will change from 10 to 'auto' in 1.4. Set the value of `n_init` explicitly to suppress the warning\n",
      "  warnings.warn(\n",
      "/usr/local/lib/python3.10/dist-packages/sklearn/cluster/_kmeans.py:870: FutureWarning: The default value of `n_init` will change from 10 to 'auto' in 1.4. Set the value of `n_init` explicitly to suppress the warning\n",
      "  warnings.warn(\n",
      "/usr/local/lib/python3.10/dist-packages/sklearn/cluster/_kmeans.py:870: FutureWarning: The default value of `n_init` will change from 10 to 'auto' in 1.4. Set the value of `n_init` explicitly to suppress the warning\n",
      "  warnings.warn(\n",
      "/usr/local/lib/python3.10/dist-packages/sklearn/cluster/_kmeans.py:870: FutureWarning: The default value of `n_init` will change from 10 to 'auto' in 1.4. Set the value of `n_init` explicitly to suppress the warning\n",
      "  warnings.warn(\n",
      "/usr/local/lib/python3.10/dist-packages/sklearn/cluster/_kmeans.py:870: FutureWarning: The default value of `n_init` will change from 10 to 'auto' in 1.4. Set the value of `n_init` explicitly to suppress the warning\n",
      "  warnings.warn(\n",
      "/usr/local/lib/python3.10/dist-packages/sklearn/cluster/_kmeans.py:870: FutureWarning: The default value of `n_init` will change from 10 to 'auto' in 1.4. Set the value of `n_init` explicitly to suppress the warning\n",
      "  warnings.warn(\n",
      "/usr/local/lib/python3.10/dist-packages/sklearn/cluster/_kmeans.py:870: FutureWarning: The default value of `n_init` will change from 10 to 'auto' in 1.4. Set the value of `n_init` explicitly to suppress the warning\n",
      "  warnings.warn(\n",
      "/usr/local/lib/python3.10/dist-packages/sklearn/cluster/_kmeans.py:870: FutureWarning: The default value of `n_init` will change from 10 to 'auto' in 1.4. Set the value of `n_init` explicitly to suppress the warning\n",
      "  warnings.warn(\n",
      "/usr/local/lib/python3.10/dist-packages/sklearn/cluster/_kmeans.py:870: FutureWarning: The default value of `n_init` will change from 10 to 'auto' in 1.4. Set the value of `n_init` explicitly to suppress the warning\n",
      "  warnings.warn(\n",
      "/usr/local/lib/python3.10/dist-packages/sklearn/cluster/_kmeans.py:870: FutureWarning: The default value of `n_init` will change from 10 to 'auto' in 1.4. Set the value of `n_init` explicitly to suppress the warning\n",
      "  warnings.warn(\n",
      "/usr/local/lib/python3.10/dist-packages/sklearn/cluster/_kmeans.py:870: FutureWarning: The default value of `n_init` will change from 10 to 'auto' in 1.4. Set the value of `n_init` explicitly to suppress the warning\n",
      "  warnings.warn(\n"
     ]
    },
    {
     "name": "stderr",
     "output_type": "stream",
     "text": [
      "/usr/local/lib/python3.10/dist-packages/sklearn/cluster/_kmeans.py:870: FutureWarning: The default value of `n_init` will change from 10 to 'auto' in 1.4. Set the value of `n_init` explicitly to suppress the warning\n",
      "  warnings.warn(\n",
      "/usr/local/lib/python3.10/dist-packages/sklearn/cluster/_kmeans.py:870: FutureWarning: The default value of `n_init` will change from 10 to 'auto' in 1.4. Set the value of `n_init` explicitly to suppress the warning\n",
      "  warnings.warn(\n",
      "/usr/local/lib/python3.10/dist-packages/sklearn/cluster/_kmeans.py:870: FutureWarning: The default value of `n_init` will change from 10 to 'auto' in 1.4. Set the value of `n_init` explicitly to suppress the warning\n",
      "  warnings.warn(\n",
      "/usr/local/lib/python3.10/dist-packages/sklearn/cluster/_kmeans.py:870: FutureWarning: The default value of `n_init` will change from 10 to 'auto' in 1.4. Set the value of `n_init` explicitly to suppress the warning\n",
      "  warnings.warn(\n",
      "/usr/local/lib/python3.10/dist-packages/sklearn/cluster/_kmeans.py:870: FutureWarning: The default value of `n_init` will change from 10 to 'auto' in 1.4. Set the value of `n_init` explicitly to suppress the warning\n",
      "  warnings.warn(\n",
      "/usr/local/lib/python3.10/dist-packages/sklearn/cluster/_kmeans.py:870: FutureWarning: The default value of `n_init` will change from 10 to 'auto' in 1.4. Set the value of `n_init` explicitly to suppress the warning\n",
      "  warnings.warn(\n",
      "/usr/local/lib/python3.10/dist-packages/sklearn/cluster/_kmeans.py:870: FutureWarning: The default value of `n_init` will change from 10 to 'auto' in 1.4. Set the value of `n_init` explicitly to suppress the warning\n",
      "  warnings.warn(\n",
      "/usr/local/lib/python3.10/dist-packages/sklearn/cluster/_kmeans.py:870: FutureWarning: The default value of `n_init` will change from 10 to 'auto' in 1.4. Set the value of `n_init` explicitly to suppress the warning\n",
      "  warnings.warn(\n",
      "/usr/local/lib/python3.10/dist-packages/sklearn/cluster/_kmeans.py:870: FutureWarning: The default value of `n_init` will change from 10 to 'auto' in 1.4. Set the value of `n_init` explicitly to suppress the warning\n",
      "  warnings.warn(\n",
      "/usr/local/lib/python3.10/dist-packages/sklearn/cluster/_kmeans.py:870: FutureWarning: The default value of `n_init` will change from 10 to 'auto' in 1.4. Set the value of `n_init` explicitly to suppress the warning\n",
      "  warnings.warn(\n",
      "/usr/local/lib/python3.10/dist-packages/sklearn/cluster/_kmeans.py:870: FutureWarning: The default value of `n_init` will change from 10 to 'auto' in 1.4. Set the value of `n_init` explicitly to suppress the warning\n",
      "  warnings.warn(\n",
      "/usr/local/lib/python3.10/dist-packages/sklearn/cluster/_kmeans.py:870: FutureWarning: The default value of `n_init` will change from 10 to 'auto' in 1.4. Set the value of `n_init` explicitly to suppress the warning\n",
      "  warnings.warn(\n",
      "/usr/local/lib/python3.10/dist-packages/sklearn/cluster/_kmeans.py:870: FutureWarning: The default value of `n_init` will change from 10 to 'auto' in 1.4. Set the value of `n_init` explicitly to suppress the warning\n",
      "  warnings.warn(\n",
      "/usr/local/lib/python3.10/dist-packages/sklearn/cluster/_kmeans.py:870: FutureWarning: The default value of `n_init` will change from 10 to 'auto' in 1.4. Set the value of `n_init` explicitly to suppress the warning\n",
      "  warnings.warn(\n",
      "/usr/local/lib/python3.10/dist-packages/sklearn/cluster/_kmeans.py:870: FutureWarning: The default value of `n_init` will change from 10 to 'auto' in 1.4. Set the value of `n_init` explicitly to suppress the warning\n",
      "  warnings.warn(\n",
      "/usr/local/lib/python3.10/dist-packages/sklearn/cluster/_kmeans.py:870: FutureWarning: The default value of `n_init` will change from 10 to 'auto' in 1.4. Set the value of `n_init` explicitly to suppress the warning\n",
      "  warnings.warn(\n",
      "/usr/local/lib/python3.10/dist-packages/sklearn/cluster/_kmeans.py:870: FutureWarning: The default value of `n_init` will change from 10 to 'auto' in 1.4. Set the value of `n_init` explicitly to suppress the warning\n",
      "  warnings.warn(\n",
      "/usr/local/lib/python3.10/dist-packages/sklearn/cluster/_kmeans.py:870: FutureWarning: The default value of `n_init` will change from 10 to 'auto' in 1.4. Set the value of `n_init` explicitly to suppress the warning\n",
      "  warnings.warn(\n",
      "/usr/local/lib/python3.10/dist-packages/sklearn/cluster/_kmeans.py:870: FutureWarning: The default value of `n_init` will change from 10 to 'auto' in 1.4. Set the value of `n_init` explicitly to suppress the warning\n",
      "  warnings.warn(\n",
      "/usr/local/lib/python3.10/dist-packages/sklearn/cluster/_kmeans.py:870: FutureWarning: The default value of `n_init` will change from 10 to 'auto' in 1.4. Set the value of `n_init` explicitly to suppress the warning\n",
      "  warnings.warn(\n",
      "/usr/local/lib/python3.10/dist-packages/sklearn/cluster/_kmeans.py:870: FutureWarning: The default value of `n_init` will change from 10 to 'auto' in 1.4. Set the value of `n_init` explicitly to suppress the warning\n",
      "  warnings.warn(\n",
      "/usr/local/lib/python3.10/dist-packages/sklearn/cluster/_kmeans.py:870: FutureWarning: The default value of `n_init` will change from 10 to 'auto' in 1.4. Set the value of `n_init` explicitly to suppress the warning\n",
      "  warnings.warn(\n",
      "/usr/local/lib/python3.10/dist-packages/sklearn/cluster/_kmeans.py:870: FutureWarning: The default value of `n_init` will change from 10 to 'auto' in 1.4. Set the value of `n_init` explicitly to suppress the warning\n",
      "  warnings.warn(\n",
      "/usr/local/lib/python3.10/dist-packages/sklearn/cluster/_kmeans.py:870: FutureWarning: The default value of `n_init` will change from 10 to 'auto' in 1.4. Set the value of `n_init` explicitly to suppress the warning\n",
      "  warnings.warn(\n",
      "/usr/local/lib/python3.10/dist-packages/sklearn/cluster/_kmeans.py:870: FutureWarning: The default value of `n_init` will change from 10 to 'auto' in 1.4. Set the value of `n_init` explicitly to suppress the warning\n",
      "  warnings.warn(\n",
      "/usr/local/lib/python3.10/dist-packages/sklearn/cluster/_kmeans.py:870: FutureWarning: The default value of `n_init` will change from 10 to 'auto' in 1.4. Set the value of `n_init` explicitly to suppress the warning\n",
      "  warnings.warn(\n",
      "/usr/local/lib/python3.10/dist-packages/sklearn/cluster/_kmeans.py:870: FutureWarning: The default value of `n_init` will change from 10 to 'auto' in 1.4. Set the value of `n_init` explicitly to suppress the warning\n",
      "  warnings.warn(\n",
      "/usr/local/lib/python3.10/dist-packages/sklearn/cluster/_kmeans.py:870: FutureWarning: The default value of `n_init` will change from 10 to 'auto' in 1.4. Set the value of `n_init` explicitly to suppress the warning\n",
      "  warnings.warn(\n",
      "/usr/local/lib/python3.10/dist-packages/sklearn/cluster/_kmeans.py:870: FutureWarning: The default value of `n_init` will change from 10 to 'auto' in 1.4. Set the value of `n_init` explicitly to suppress the warning\n",
      "  warnings.warn(\n",
      "/usr/local/lib/python3.10/dist-packages/sklearn/cluster/_kmeans.py:870: FutureWarning: The default value of `n_init` will change from 10 to 'auto' in 1.4. Set the value of `n_init` explicitly to suppress the warning\n",
      "  warnings.warn(\n",
      "/usr/local/lib/python3.10/dist-packages/sklearn/cluster/_kmeans.py:870: FutureWarning: The default value of `n_init` will change from 10 to 'auto' in 1.4. Set the value of `n_init` explicitly to suppress the warning\n",
      "  warnings.warn(\n",
      "/usr/local/lib/python3.10/dist-packages/sklearn/cluster/_kmeans.py:870: FutureWarning: The default value of `n_init` will change from 10 to 'auto' in 1.4. Set the value of `n_init` explicitly to suppress the warning\n",
      "  warnings.warn(\n",
      "/usr/local/lib/python3.10/dist-packages/sklearn/cluster/_kmeans.py:870: FutureWarning: The default value of `n_init` will change from 10 to 'auto' in 1.4. Set the value of `n_init` explicitly to suppress the warning\n",
      "  warnings.warn(\n",
      "/usr/local/lib/python3.10/dist-packages/sklearn/cluster/_kmeans.py:870: FutureWarning: The default value of `n_init` will change from 10 to 'auto' in 1.4. Set the value of `n_init` explicitly to suppress the warning\n",
      "  warnings.warn(\n",
      "/usr/local/lib/python3.10/dist-packages/sklearn/cluster/_kmeans.py:870: FutureWarning: The default value of `n_init` will change from 10 to 'auto' in 1.4. Set the value of `n_init` explicitly to suppress the warning\n",
      "  warnings.warn(\n",
      "/usr/local/lib/python3.10/dist-packages/sklearn/cluster/_kmeans.py:870: FutureWarning: The default value of `n_init` will change from 10 to 'auto' in 1.4. Set the value of `n_init` explicitly to suppress the warning\n",
      "  warnings.warn(\n"
     ]
    },
    {
     "name": "stderr",
     "output_type": "stream",
     "text": [
      "/usr/local/lib/python3.10/dist-packages/sklearn/cluster/_kmeans.py:870: FutureWarning: The default value of `n_init` will change from 10 to 'auto' in 1.4. Set the value of `n_init` explicitly to suppress the warning\n",
      "  warnings.warn(\n",
      "/usr/local/lib/python3.10/dist-packages/sklearn/cluster/_kmeans.py:870: FutureWarning: The default value of `n_init` will change from 10 to 'auto' in 1.4. Set the value of `n_init` explicitly to suppress the warning\n",
      "  warnings.warn(\n",
      "/usr/local/lib/python3.10/dist-packages/sklearn/cluster/_kmeans.py:870: FutureWarning: The default value of `n_init` will change from 10 to 'auto' in 1.4. Set the value of `n_init` explicitly to suppress the warning\n",
      "  warnings.warn(\n",
      "/usr/local/lib/python3.10/dist-packages/sklearn/cluster/_kmeans.py:870: FutureWarning: The default value of `n_init` will change from 10 to 'auto' in 1.4. Set the value of `n_init` explicitly to suppress the warning\n",
      "  warnings.warn(\n",
      "/usr/local/lib/python3.10/dist-packages/sklearn/cluster/_kmeans.py:870: FutureWarning: The default value of `n_init` will change from 10 to 'auto' in 1.4. Set the value of `n_init` explicitly to suppress the warning\n",
      "  warnings.warn(\n",
      "/usr/local/lib/python3.10/dist-packages/sklearn/cluster/_kmeans.py:870: FutureWarning: The default value of `n_init` will change from 10 to 'auto' in 1.4. Set the value of `n_init` explicitly to suppress the warning\n",
      "  warnings.warn(\n",
      "/usr/local/lib/python3.10/dist-packages/sklearn/cluster/_kmeans.py:870: FutureWarning: The default value of `n_init` will change from 10 to 'auto' in 1.4. Set the value of `n_init` explicitly to suppress the warning\n",
      "  warnings.warn(\n",
      "/usr/local/lib/python3.10/dist-packages/sklearn/cluster/_kmeans.py:870: FutureWarning: The default value of `n_init` will change from 10 to 'auto' in 1.4. Set the value of `n_init` explicitly to suppress the warning\n",
      "  warnings.warn(\n",
      "/usr/local/lib/python3.10/dist-packages/sklearn/cluster/_kmeans.py:870: FutureWarning: The default value of `n_init` will change from 10 to 'auto' in 1.4. Set the value of `n_init` explicitly to suppress the warning\n",
      "  warnings.warn(\n",
      "/usr/local/lib/python3.10/dist-packages/sklearn/cluster/_kmeans.py:870: FutureWarning: The default value of `n_init` will change from 10 to 'auto' in 1.4. Set the value of `n_init` explicitly to suppress the warning\n",
      "  warnings.warn(\n",
      "/usr/local/lib/python3.10/dist-packages/sklearn/cluster/_kmeans.py:870: FutureWarning: The default value of `n_init` will change from 10 to 'auto' in 1.4. Set the value of `n_init` explicitly to suppress the warning\n",
      "  warnings.warn(\n",
      "/usr/local/lib/python3.10/dist-packages/sklearn/cluster/_kmeans.py:870: FutureWarning: The default value of `n_init` will change from 10 to 'auto' in 1.4. Set the value of `n_init` explicitly to suppress the warning\n",
      "  warnings.warn(\n",
      "/usr/local/lib/python3.10/dist-packages/sklearn/cluster/_kmeans.py:870: FutureWarning: The default value of `n_init` will change from 10 to 'auto' in 1.4. Set the value of `n_init` explicitly to suppress the warning\n",
      "  warnings.warn(\n",
      "/usr/local/lib/python3.10/dist-packages/sklearn/cluster/_kmeans.py:870: FutureWarning: The default value of `n_init` will change from 10 to 'auto' in 1.4. Set the value of `n_init` explicitly to suppress the warning\n",
      "  warnings.warn(\n",
      "/usr/local/lib/python3.10/dist-packages/sklearn/cluster/_kmeans.py:870: FutureWarning: The default value of `n_init` will change from 10 to 'auto' in 1.4. Set the value of `n_init` explicitly to suppress the warning\n",
      "  warnings.warn(\n",
      "/usr/local/lib/python3.10/dist-packages/sklearn/cluster/_kmeans.py:870: FutureWarning: The default value of `n_init` will change from 10 to 'auto' in 1.4. Set the value of `n_init` explicitly to suppress the warning\n",
      "  warnings.warn(\n",
      "/usr/local/lib/python3.10/dist-packages/sklearn/cluster/_kmeans.py:870: FutureWarning: The default value of `n_init` will change from 10 to 'auto' in 1.4. Set the value of `n_init` explicitly to suppress the warning\n",
      "  warnings.warn(\n",
      "/usr/local/lib/python3.10/dist-packages/sklearn/cluster/_kmeans.py:870: FutureWarning: The default value of `n_init` will change from 10 to 'auto' in 1.4. Set the value of `n_init` explicitly to suppress the warning\n",
      "  warnings.warn(\n",
      "/usr/local/lib/python3.10/dist-packages/sklearn/cluster/_kmeans.py:870: FutureWarning: The default value of `n_init` will change from 10 to 'auto' in 1.4. Set the value of `n_init` explicitly to suppress the warning\n",
      "  warnings.warn(\n",
      "/usr/local/lib/python3.10/dist-packages/sklearn/cluster/_kmeans.py:870: FutureWarning: The default value of `n_init` will change from 10 to 'auto' in 1.4. Set the value of `n_init` explicitly to suppress the warning\n",
      "  warnings.warn(\n",
      "/usr/local/lib/python3.10/dist-packages/sklearn/cluster/_kmeans.py:870: FutureWarning: The default value of `n_init` will change from 10 to 'auto' in 1.4. Set the value of `n_init` explicitly to suppress the warning\n",
      "  warnings.warn(\n",
      "/usr/local/lib/python3.10/dist-packages/sklearn/cluster/_kmeans.py:870: FutureWarning: The default value of `n_init` will change from 10 to 'auto' in 1.4. Set the value of `n_init` explicitly to suppress the warning\n",
      "  warnings.warn(\n",
      "/usr/local/lib/python3.10/dist-packages/sklearn/cluster/_kmeans.py:870: FutureWarning: The default value of `n_init` will change from 10 to 'auto' in 1.4. Set the value of `n_init` explicitly to suppress the warning\n",
      "  warnings.warn(\n",
      "/usr/local/lib/python3.10/dist-packages/sklearn/cluster/_kmeans.py:870: FutureWarning: The default value of `n_init` will change from 10 to 'auto' in 1.4. Set the value of `n_init` explicitly to suppress the warning\n",
      "  warnings.warn(\n",
      "/usr/local/lib/python3.10/dist-packages/sklearn/cluster/_kmeans.py:870: FutureWarning: The default value of `n_init` will change from 10 to 'auto' in 1.4. Set the value of `n_init` explicitly to suppress the warning\n",
      "  warnings.warn(\n",
      "/usr/local/lib/python3.10/dist-packages/sklearn/cluster/_kmeans.py:870: FutureWarning: The default value of `n_init` will change from 10 to 'auto' in 1.4. Set the value of `n_init` explicitly to suppress the warning\n",
      "  warnings.warn(\n",
      "/usr/local/lib/python3.10/dist-packages/sklearn/cluster/_kmeans.py:870: FutureWarning: The default value of `n_init` will change from 10 to 'auto' in 1.4. Set the value of `n_init` explicitly to suppress the warning\n",
      "  warnings.warn(\n"
     ]
    },
    {
     "name": "stdout",
     "output_type": "stream",
     "text": [
      "[103489776016146.81, 41225839155330.3, 17448467705418.602, 10270042364635.81, 5313667346280.592, 3626686246208.444, 2733920206885.846, 2044415470726.8704, 1614987645516.4675, 1334306010703.5322, 1066966607255.7108, 857273804445.5382, 723034460426.9257, 632930481193.8135, 553364269592.3057, 496884295814.79, 449288369074.7926, 388814261489.4456, 333472813382.557, 292860854374.5173, 260089232255.5313, 240736180089.6379, 211992916552.16888, 196113747366.80353, 178990251569.92, 162443610031.49155, 149929211802.6195, 139576989852.03784, 127720419550.56813, 123065708356.13333, 113435039483.95264, 107109769186.20032, 98172354008.60757, 94146238546.80956, 86988142990.65157, 80856899568.22742, 78633394786.96803, 71767182143.94835, 68006257381.49176, 64469756550.54707, 63440497930.886505, 58206991203.38729, 56557002113.145424, 54213026960.006645, 51804863838.90743, 49841685086.04806, 48915543564.142845, 47269475313.87507, 45464332691.51475, 44121085986.32956, 41618132698.98674, 40445692146.52832, 39330820151.1496, 38199147160.43782, 36850929241.5287, 35618745943.48393, 35527820565.70927, 33813269304.935917, 32827518502.930473, 31785847459.41629, 31166550988.498463, 29967843487.722248, 29462114590.59879, 28320840317.309578, 27482844978.596954, 27031215803.06681, 26079339134.51008, 25315102158.604164, 24501834811.604385, 23769390898.37801, 23018024882.49678, 22419511763.43207, 21403338125.12425, 21206491021.220528, 20962976838.21839, 20045060214.90055, 19514823134.294643, 19061527007.467045, 18327468671.922997, 18121997255.242878, 18217805065.411697, 17418508897.796684, 17063075449.315067, 16290527375.122932, 15609829771.481493, 15826634114.531235, 15591348547.22371, 15195032932.675898, 14872841100.75993, 14326507195.31334, 13938858708.04427, 13871517519.19894, 13470490824.599066, 13412425774.395256, 13226160183.919168, 13040554291.277182, 12467977777.434525, 12365790351.28674, 12199628223.712912]\n"
     ]
    }
   ],
   "source": [
    "from sklearn.cluster import KMeans\n",
    "\n",
    "# collect all the WSS for clusters\n",
    "all_wss = []\n",
    "\n",
    "# excute the clustering algorithm 20 times\n",
    "for n in range(1, 100):\n",
    "    kmeans = KMeans(n_clusters=n)\n",
    "\n",
    "    # fit the data\n",
    "    kmeans.fit(x)\n",
    "\n",
    "    # find the wss of all the clusters\n",
    "    # intertia_ is the property which shows the WSS for all the clsuters\n",
    "    # print(kmeans.inertia_)\n",
    "    all_wss.append(kmeans.inertia_)\n",
    "    \n",
    "print(all_wss)"
   ]
  },
  {
   "cell_type": "code",
   "execution_count": 72,
   "id": "d91898e8",
   "metadata": {},
   "outputs": [
    {
     "data": {
      "text/plain": [
       "Text(0.5, 1.0, 'Elbow Method')"
      ]
     },
     "execution_count": 72,
     "metadata": {},
     "output_type": "execute_result"
    },
    {
     "data": {
      "image/png": "[encoded data removed]",
      "text/plain": [
       "<Figure size 640x480 with 1 Axes>"
      ]
     },
     "metadata": {},
     "output_type": "display_data"
    }
   ],
   "source": [
    "# initalize a list for all the number of clusters\n",
    "x1 = np.arange(1, 100)\n",
    "\n",
    "# draw a plot of number of clusters vs wss for all the clusters\n",
    "plt.plot(x1, all_wss)\n",
    "plt.plot(x1, all_wss, 'o')\n",
    "plt.plot([5], [all_wss[4]], 'o', label=\"Elbow Point\", color=\"green\")\n",
    "\n",
    "plt.legend()\n",
    "plt.xlabel(\"No of Clusters\")\n",
    "plt.ylabel(\"WSS\")\n",
    "plt.title(\"Elbow Method\")"
   ]
  },
  {
   "cell_type": "code",
   "execution_count": 73,
   "id": "95fd3dc6",
   "metadata": {},
   "outputs": [],
   "source": [
    "x['Cluster'] = kmeans.labels_"
   ]
  },
  {
   "cell_type": "code",
   "execution_count": 74,
   "id": "76093587",
   "metadata": {},
   "outputs": [],
   "source": [
    "def recommend(user):\n",
    "    user_cluster = x[x['movies_encoded'] == user]['Cluster'].values[0]\n",
    "    recommended_users = x[x['Cluster'] == user_cluster]['movies_encoded']\n",
    "    recommended_users = recommended_users[recommended_users != user]  # Exclude the same user\n",
    "    return recommended_users"
   ]
  },
  {
   "cell_type": "code",
   "execution_count": 75,
   "id": "fede0d88",
   "metadata": {},
   "outputs": [
    {
     "name": "stdout",
     "output_type": "stream",
     "text": [
      "Recommended users for 4000: {1242, 4014, 4180, 3317, 4150, 1081, 4442, 4923, 2333, 1790}\n"
     ]
    },
    {
     "data": {
      "text/plain": [
       "10"
      ]
     },
     "execution_count": 75,
     "metadata": {},
     "output_type": "execute_result"
    }
   ],
   "source": [
    "user_to_recommend = 4000\n",
    "recommended_users = recommend(user_to_recommend)\n",
    "print(f\"Recommended users for {user_to_recommend}: {set(recommended_users.tolist())}\")\n",
    "len(set(recommended_users.tolist()))"
   ]
  },
  {
   "cell_type": "code",
   "execution_count": 76,
   "id": "48e27fe4",
   "metadata": {},
   "outputs": [
    {
     "data": {
      "text/html": [
       "<div>\n",
       "<style scoped>\n",
       "    .dataframe tbody tr th:only-of-type {\n",
       "        vertical-align: middle;\n",
       "    }\n",
       "\n",
       "    .dataframe tbody tr th {\n",
       "        vertical-align: top;\n",
       "    }\n",
       "\n",
       "    .dataframe thead th {\n",
       "        text-align: right;\n",
       "    }\n",
       "</style>\n",
       "<table border=\"1\" class=\"dataframe\">\n",
       "  <thead>\n",
       "    <tr style=\"text-align: right;\">\n",
       "      <th></th>\n",
       "      <th>RATING</th>\n",
       "      <th>RunTime</th>\n",
       "      <th>votes</th>\n",
       "      <th>year</th>\n",
       "      <th>genre_encoded</th>\n",
       "      <th>movies_encoded</th>\n",
       "    </tr>\n",
       "  </thead>\n",
       "  <tbody>\n",
       "    <tr>\n",
       "      <th>0</th>\n",
       "      <td>6.1</td>\n",
       "      <td>121.000000</td>\n",
       "      <td>21062.0</td>\n",
       "      <td>2021.0</td>\n",
       "      <td>26</td>\n",
       "      <td>793</td>\n",
       "    </tr>\n",
       "    <tr>\n",
       "      <th>0</th>\n",
       "      <td>6.1</td>\n",
       "      <td>121.000000</td>\n",
       "      <td>21062.0</td>\n",
       "      <td>2021.0</td>\n",
       "      <td>15</td>\n",
       "      <td>793</td>\n",
       "    </tr>\n",
       "    <tr>\n",
       "      <th>0</th>\n",
       "      <td>6.1</td>\n",
       "      <td>121.000000</td>\n",
       "      <td>21062.0</td>\n",
       "      <td>2021.0</td>\n",
       "      <td>25</td>\n",
       "      <td>793</td>\n",
       "    </tr>\n",
       "    <tr>\n",
       "      <th>1</th>\n",
       "      <td>5.0</td>\n",
       "      <td>25.000000</td>\n",
       "      <td>17870.0</td>\n",
       "      <td>2021.0</td>\n",
       "      <td>28</td>\n",
       "      <td>2762</td>\n",
       "    </tr>\n",
       "    <tr>\n",
       "      <th>1</th>\n",
       "      <td>5.0</td>\n",
       "      <td>25.000000</td>\n",
       "      <td>17870.0</td>\n",
       "      <td>2021.0</td>\n",
       "      <td>0</td>\n",
       "      <td>2762</td>\n",
       "    </tr>\n",
       "    <tr>\n",
       "      <th>...</th>\n",
       "      <td>...</td>\n",
       "      <td>...</td>\n",
       "      <td>...</td>\n",
       "      <td>...</td>\n",
       "      <td>...</td>\n",
       "      <td>...</td>\n",
       "    </tr>\n",
       "    <tr>\n",
       "      <th>9962</th>\n",
       "      <td>7.1</td>\n",
       "      <td>47.000000</td>\n",
       "      <td>100.0</td>\n",
       "      <td>2021.0</td>\n",
       "      <td>9</td>\n",
       "      <td>161</td>\n",
       "    </tr>\n",
       "    <tr>\n",
       "      <th>9963</th>\n",
       "      <td>8.2</td>\n",
       "      <td>24.000000</td>\n",
       "      <td>911.0</td>\n",
       "      <td>2017.0</td>\n",
       "      <td>28</td>\n",
       "      <td>36</td>\n",
       "    </tr>\n",
       "    <tr>\n",
       "      <th>9963</th>\n",
       "      <td>8.2</td>\n",
       "      <td>24.000000</td>\n",
       "      <td>911.0</td>\n",
       "      <td>2017.0</td>\n",
       "      <td>0</td>\n",
       "      <td>36</td>\n",
       "    </tr>\n",
       "    <tr>\n",
       "      <th>9963</th>\n",
       "      <td>8.2</td>\n",
       "      <td>24.000000</td>\n",
       "      <td>911.0</td>\n",
       "      <td>2017.0</td>\n",
       "      <td>2</td>\n",
       "      <td>36</td>\n",
       "    </tr>\n",
       "    <tr>\n",
       "      <th>9979</th>\n",
       "      <td>8.8</td>\n",
       "      <td>68.688539</td>\n",
       "      <td>433.0</td>\n",
       "      <td>2020.0</td>\n",
       "      <td>31</td>\n",
       "      <td>132</td>\n",
       "    </tr>\n",
       "  </tbody>\n",
       "</table>\n",
       "<p>15422 rows × 6 columns</p>\n",
       "</div>"
      ],
      "text/plain": [
       "      RATING     RunTime    votes    year  genre_encoded  movies_encoded\n",
       "0        6.1  121.000000  21062.0  2021.0             26             793\n",
       "0        6.1  121.000000  21062.0  2021.0             15             793\n",
       "0        6.1  121.000000  21062.0  2021.0             25             793\n",
       "1        5.0   25.000000  17870.0  2021.0             28            2762\n",
       "1        5.0   25.000000  17870.0  2021.0              0            2762\n",
       "...      ...         ...      ...     ...            ...             ...\n",
       "9962     7.1   47.000000    100.0  2021.0              9             161\n",
       "9963     8.2   24.000000    911.0  2017.0             28              36\n",
       "9963     8.2   24.000000    911.0  2017.0              0              36\n",
       "9963     8.2   24.000000    911.0  2017.0              2              36\n",
       "9979     8.8   68.688539    433.0  2020.0             31             132\n",
       "\n",
       "[15422 rows x 6 columns]"
      ]
     },
     "execution_count": 76,
     "metadata": {},
     "output_type": "execute_result"
    }
   ],
   "source": [
    "y = df.drop(['MOVIES','GENRE'],axis=1)\n",
    "y"
   ]
  },
  {
   "cell_type": "code",
   "execution_count": 79,
   "id": "8e81a3c2",
   "metadata": {},
   "outputs": [
    {
     "data": {
      "text/html": [
       "<div>\n",
       "<style scoped>\n",
       "    .dataframe tbody tr th:only-of-type {\n",
       "        vertical-align: middle;\n",
       "    }\n",
       "\n",
       "    .dataframe tbody tr th {\n",
       "        vertical-align: top;\n",
       "    }\n",
       "\n",
       "    .dataframe thead th {\n",
       "        text-align: right;\n",
       "    }\n",
       "</style>\n",
       "<table border=\"1\" class=\"dataframe\">\n",
       "  <thead>\n",
       "    <tr style=\"text-align: right;\">\n",
       "      <th></th>\n",
       "      <th>MOVIES</th>\n",
       "      <th>GENRE</th>\n",
       "      <th>RATING</th>\n",
       "      <th>RunTime</th>\n",
       "      <th>votes</th>\n",
       "      <th>year</th>\n",
       "      <th>genre_encoded</th>\n",
       "      <th>movies_encoded</th>\n",
       "    </tr>\n",
       "  </thead>\n",
       "  <tbody>\n",
       "    <tr>\n",
       "      <th>4000</th>\n",
       "      <td>Octonauts &amp; the Great Barrier Reef</td>\n",
       "      <td>Animation</td>\n",
       "      <td>7.4</td>\n",
       "      <td>47.0</td>\n",
       "      <td>96.0</td>\n",
       "      <td>2020.0</td>\n",
       "      <td>28</td>\n",
       "      <td>3108</td>\n",
       "    </tr>\n",
       "    <tr>\n",
       "      <th>4000</th>\n",
       "      <td>Octonauts &amp; the Great Barrier Reef</td>\n",
       "      <td>Action</td>\n",
       "      <td>7.4</td>\n",
       "      <td>47.0</td>\n",
       "      <td>96.0</td>\n",
       "      <td>2020.0</td>\n",
       "      <td>0</td>\n",
       "      <td>3108</td>\n",
       "    </tr>\n",
       "    <tr>\n",
       "      <th>4000</th>\n",
       "      <td>Octonauts &amp; the Great Barrier Reef</td>\n",
       "      <td>Adventure</td>\n",
       "      <td>7.4</td>\n",
       "      <td>47.0</td>\n",
       "      <td>96.0</td>\n",
       "      <td>2020.0</td>\n",
       "      <td>2</td>\n",
       "      <td>3108</td>\n",
       "    </tr>\n",
       "  </tbody>\n",
       "</table>\n",
       "</div>"
      ],
      "text/plain": [
       "                                  MOVIES                   GENRE  RATING  \\\n",
       "4000  Octonauts & the Great Barrier Reef               Animation     7.4   \n",
       "4000  Octonauts & the Great Barrier Reef                  Action     7.4   \n",
       "4000  Octonauts & the Great Barrier Reef   Adventure                 7.4   \n",
       "\n",
       "      RunTime  votes    year  genre_encoded  movies_encoded  \n",
       "4000     47.0   96.0  2020.0             28            3108  \n",
       "4000     47.0   96.0  2020.0              0            3108  \n",
       "4000     47.0   96.0  2020.0              2            3108  "
      ]
     },
     "execution_count": 79,
     "metadata": {},
     "output_type": "execute_result"
    }
   ],
   "source": [
    "df.loc[4000]"
   ]
  }
 ],
 "metadata": {
  "kernelspec": {
   "display_name": "Python 3 (ipykernel)",
   "language": "python",
   "name": "python3"
  },
  "language_info": {
   "codemirror_mode": {
    "name": "ipython",
    "version": 3
   },
   "file_extension": ".py",
   "mimetype": "text/x-python",
   "name": "python",
   "nbconvert_exporter": "python",
   "pygments_lexer": "ipython3",
   "version": "3.10.12"
  }
 },
 "nbformat": 4,
 "nbformat_minor": 5
}
